{
 "cells": [
  {
   "cell_type": "markdown",
   "metadata": {},
   "source": [
    "---\n",
    "layout: post\n",
    "title: Unit 3 Team Teach - 3.2\n",
    "categories: [Collaboration]\n",
    "courses: {csa: {week: 6} }\n",
    "type: collab\n",
    "comments: true\n",
    "---\n"
   ]
  },
  {
   "cell_type": "markdown",
   "metadata": {},
   "source": [
    "# AP CSA Unit 3.2 - Compound Boolean Expressions\n",
    "\n",
    "## 1. Compound Boolean Expressions\n",
    "\n",
    "In Java, **compound boolean expressions** are made by combining multiple boolean expressions using **logical operators**: `&&` (AND), `||` (OR), and `!` (NOT). These expressions allow for more complex decision-making in your programs.\n",
    "\n",
    "### Logical Operators Recap:\n",
    "- **AND (`&&`)**: True if both expressions are true.\n",
    "- **OR (`||`)**: True if at least one expression is true.\n",
    "- **NOT (`!`)**: Reverses the truth value of the expression.\n",
    "\n",
    "### Example:\n",
    "```java\n",
    "int age = 25;\n",
    "boolean hasLicense = true;\n",
    "\n",
    "if (age >= 18 && hasLicense) {\n",
    "    System.out.println(\"You can drive.\");\n",
    "} else {\n",
    "    System.out.println(\"You cannot drive.\");\n",
    "}\n"
   ]
  },
  {
   "cell_type": "markdown",
   "metadata": {},
   "source": [
    "## Popcorn Hack #1: Combining Conditions\n",
    "Task: Write a program that asks for two integers, x and y, and checks the following:\n",
    "\n",
    "Both numbers are positive (x > 0 && y > 0)\n",
    "At least one number is greater than 10 (x > 10 || y > 10)\n",
    "Neither number is negative (!(x < 0 || y < 0))"
   ]
  },
  {
   "cell_type": "code",
   "execution_count": null,
   "metadata": {
    "vscode": {
     "languageId": "java"
    }
   },
   "outputs": [],
   "source": [
    "import java.util.Scanner;\n",
    "\n",
    "public class CompoundBooleanExample {\n",
    "    public static void main(String[] args) {\n",
    "        Scanner input = new Scanner(System.in);\n",
    "        \n",
    "        System.out.println(\"Enter the first number (x):\");\n",
    "        int x = input.nextInt();\n",
    "        \n",
    "        System.out.println(\"Enter the second number (y):\");\n",
    "        int y = input.nextInt();\n",
    "        \n",
    "        // Check both numbers are positive\n",
    "        if (x > 0 && y > 0) {\n",
    "            System.out.println(\"Both numbers are positive.\");\n",
    "        } else {\n",
    "            System.out.println(\"At least one number is not positive.\");\n",
    "        }\n",
    "        \n",
    "        // Check if at least one number is greater than 10\n",
    "        if (x > 10 || y > 10) {\n",
    "            System.out.println(\"At least one number is greater than 10.\");\n",
    "        } else {\n",
    "            System.out.println(\"Neither number is greater than 10.\");\n",
    "        }\n",
    "        \n",
    "        // Check if neither number is negative\n",
    "        if (!(x < 0 || y < 0)) {\n",
    "            System.out.println(\"Neither number is negative.\");\n",
    "        } else {\n",
    "            System.out.println(\"At least one number is negative.\");\n",
    "        }\n",
    "    }\n",
    "}\n"
   ]
  },
  {
   "cell_type": "markdown",
   "metadata": {},
   "source": [
    "## 2. De Morgan's Laws\n",
    "De Morgan's Laws describe how to negate compound boolean expressions:\n",
    "\n",
    "NOT (A AND B) = (NOT A) OR (NOT B)\n",
    "NOT (A OR B) = (NOT A) AND (NOT B)\n",
    "This is useful when you need to rewrite or simplify boolean expressions."
   ]
  },
  {
   "cell_type": "code",
   "execution_count": null,
   "metadata": {
    "vscode": {
     "languageId": "java"
    }
   },
   "outputs": [],
   "source": [
    "boolean isRaining = true;\n",
    "boolean isSnowing = false;\n",
    "\n",
    "// Negating a compound expression using De Morgan's Law\n",
    "if (!(isRaining || isSnowing)) {\n",
    "    System.out.println(\"It's neither raining nor snowing.\");\n",
    "} else {\n",
    "    System.out.println(\"It's either raining or snowing (or both).\");\n",
    "}\n",
    "\n",
    "// Same logic rewritten using De Morgan’s Law:\n",
    "if (!isRaining && !isSnowing) {\n",
    "    System.out.println(\"It's neither raining nor snowing.\");\n",
    "} else {\n",
    "    System.out.println(\"It's either raining or snowing (or both).\");\n",
    "}\n"
   ]
  },
  {
   "cell_type": "markdown",
   "metadata": {},
   "source": [
    "Notice how !(A || B) is transformed into (!A && !B) to express the same logic in an alternative form."
   ]
  }
 ],
 "metadata": {
  "language_info": {
   "name": "python"
  }
 },
 "nbformat": 4,
 "nbformat_minor": 2
}
