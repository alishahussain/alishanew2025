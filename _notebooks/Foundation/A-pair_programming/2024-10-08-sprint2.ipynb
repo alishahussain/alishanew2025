{
 "cells": [
  {
   "cell_type": "markdown",
   "metadata": {},
   "source": [
    "---\n",
    "layout: post\n",
    "title: Sprint 2\n",
    "categories: [Collaboration]\n",
    "courses: {csa: {week: 6} }\n",
    "menu: nav/sprint2.html\n",
    "permalink: /csa/sprint2\n",
    "type: collab\n",
    "comments: true\n",
    "---"
   ]
  },
  {
   "cell_type": "markdown",
   "metadata": {},
   "source": [
    "| **Assignment**             | **Points**    | **Grade** | **Evidence** |\n",
    "|----------------------------|---------------|-----------|--------------|\n",
    "| Pull Request (Integration) | 2             |           |              |\n",
    "| Relevancy Checklist (Peer) | 2             |           |              |\n",
    "| Lesson (Group)             | 1             |           |              |\n",
    "| Homework, Popcorn Hacks    | 1 x 8         |           |              |\n",
    "| Individual Contribution    | 1             |           |              |\n",
    "| Personal Notebooks / Blogs | 1             |           |              |\n",
    "| Total                      | 12            |           |              |\n",
    "\n",
    "\n",
    "| **Skill**                  | **Points**    | **Grade** | **Evidence** |\n",
    "|----------------------------|---------------|-----------|--------------|\n",
    "| Work Habits (Analytics)    |   1           |           |              |\n",
    "| Team Planning (Issue)      |   1           |           |              |\n",
    "| Presentation Memories      |   1           |           |              |\n",
    "| Grading and Feedback       |   1           |           |              |\n",
    "| Beyond Perfunctory         |   1           |           |              | \n",
    "| Total                      |   5           |           |              |"
   ]
  },
  {
   "cell_type": "markdown",
   "metadata": {},
   "source": [
    "| **Assignment**          | **Weightage** | **Grade** | **Comments** |\n",
    "|-------------------------|---------------|-----------|--------------|\n",
    "| College Board Coverage  | 20            | TBD       | TBD          |\n",
    "| Java Examples           | 30            | TBD       | TBD          |\n",
    "| Popcorn Hack Usage      | 10            | TBD       | TBD          |\n",
    "| Homework                | 10            | TBD       | TBD          |\n",
    "| Grading Plan            | 10            | TBD       | TBD          |\n",
    "| Original an Creative    | 10            | TBD       | TBD          |\n",
    "| Total                  | **90**        |           |              |"
   ]
  }
 ],
 "metadata": {
  "language_info": {
   "name": "python"
  }
 },
 "nbformat": 4,
 "nbformat_minor": 2
}
