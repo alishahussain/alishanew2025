{
 "cells": [
  {
   "cell_type": "markdown",
   "metadata": {},
   "source": [
    "---\n",
    "layout: post\n",
    "title: Sprint 3\n",
    "categories: [Collaboration]\n",
    "courses: {csa: {week: 12} }\n",
    "type: collab\n",
    "comments: true\n",
    "---"
   ]
  },
  {
   "cell_type": "markdown",
   "metadata": {},
   "source": [
    "| **Assignment**                | **Points**    | **Grade** | **Evidence** |\n",
    "|-------------------------------|---------------|-----------|--------------|\n",
    "| Tri 1-3 Review Ticket         | 3             |    3       |              |\n",
    "| Sprint 3 Team Issue(s)/Plan   | 2             |       2     |              |\n",
    "| Beginning-2-End Contribution  | 2             |    2       |              |\n",
    "| N@tM Team Presentation        | 2             |    2       |              |\n",
    "| Live Review Indi Demo         | 1             |    1       |              |\n",
    "| **Total**                     | 10            |    10       |              |\n",
    "\n",
    "| **Skill**                  | **Points**    | **Grade** | **Evidence** |\n",
    "|----------------------------|---------------|-----------|--------------|\n",
    "| Work Habits (Analytics)    | 1             |     1      |              |\n",
    "| Evidence of Role in Team   | 1             |      1     |              | \n",
    "| Function / Purpose Design  | 1             |       1    |              | \n",
    "| Live Review                | 2             |      1     |              | \n",
    "| **Total**                  | 5             |     10      |              |"
   ]
  }
 ],
 "metadata": {
  "language_info": {
   "name": "python"
  }
 },
 "nbformat": 4,
 "nbformat_minor": 2
}
