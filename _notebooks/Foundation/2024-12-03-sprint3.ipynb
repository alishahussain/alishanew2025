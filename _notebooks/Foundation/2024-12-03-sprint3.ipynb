{
 "cells": [
  {
   "cell_type": "markdown",
   "metadata": {},
   "source": [
    "---\n",
    "layout: post\n",
    "title: Sprint Issue\n",
    "categories: [Collaboration]\n",
    "courses: {csa: {week: 15} }\n",
    "type: collab\n",
    "comments: true\n",
    "---"
   ]
  },
  {
   "cell_type": "markdown",
   "metadata": {},
   "source": [
    "[Issue](https://github.com/CSA-Coders-2025/Planning-Repository-Issue-House-/issues/62#issuecomment-2510538768)"
   ]
  },
  {
   "cell_type": "code",
   "execution_count": null,
   "metadata": {
    "vscode": {
     "languageId": "plaintext"
    }
   },
   "outputs": [],
   "source": [
    "## My feature: \n",
    "\n",
    "I made a blackjack game which was part of the casino we created\n",
    "## To Do: \n",
    "\n",
    "- for integration this trimester, I need to change the currency that my API is using, so it will be the same as everyone else's\n",
    "- Try to integrate with a useful feature in class, such as the quiz RPG game (original integration plan)\n",
    "#### stocks integration\n",
    "- the stocks feature has a scale for balance, so all of the game features need to update the scale to match it. Ideally, the max that people should have is 1k\n",
    "\n",
    "## Visuals\n",
    "\n",
    "<img width=\"869\" alt=\"Screenshot 2024-12-02 at 8 54 09 AM\" src=\"https://github.com/user-attachments/assets/b90b4030-33cb-44dc-ae70-7b251a73e547\">\n",
    "\n",
    "![image](https://github.com/user-attachments/assets/831b1c79-e89f-4df2-b89e-c3422500cd8f)\n",
    "\n",
    "<img width=\"624\" alt=\"Screenshot 2024-12-02 at 7 54 37 PM\" src=\"https://github.com/user-attachments/assets/3824daef-85da-4d98-a557-47b8f633e2ed\">\n",
    "\n",
    "## Checklist \n",
    "\n",
    "- [ ] Adopt stocks' currency + scaling\n",
    "- [ ] Integrate fully with gamify to put all casino games there\n",
    "- [ ] change styling to match up with game \n"
   ]
  }
 ],
 "metadata": {
  "language_info": {
   "name": "python"
  }
 },
 "nbformat": 4,
 "nbformat_minor": 2
}
