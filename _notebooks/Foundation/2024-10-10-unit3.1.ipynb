{
 "cells": [
  {
   "cell_type": "markdown",
   "metadata": {},
   "source": [
    "---\n",
    "layout: post\n",
    "title: Unit 3 Boolean Expressions - 3.1\n",
    "categories: [Collaboration]\n",
    "courses: {csa: {week: 6} }\n",
    "type: collab\n",
    "comments: true\n",
    "---"
   ]
  },
  {
   "cell_type": "markdown",
   "metadata": {},
   "source": [
    "# AP CSA Unit 3.1 - Boolean Expressions and `if` Statements\n",
    "\n",
    "## 1. Introduction to Boolean Expressions and Relational Operators\n",
    "\n",
    "In Java, a **boolean expression** evaluates to either `true` or `false`. Relational operators allow us to compare values, which are a fundamental part of conditional logic.\n",
    "\n",
    "### Relational Operators:\n",
    "- `==`: Equal to\n",
    "- `!=`: Not equal to\n",
    "- `>`: Greater than\n",
    "- `<`: Less than\n",
    "- `>=`: Greater than or equal to\n",
    "- `<=`: Less than or equal to\n",
    "\n",
    "### Example:\n",
    "```java\n",
    "int x = 5;\n",
    "int y = 10;\n",
    "boolean result = (x < y); // true\n"
   ]
  },
  {
   "cell_type": "markdown",
   "metadata": {},
   "source": [
    "## Popcorn Hack #1: Basic Relational Operators\n",
    "Task: Write a program that asks the user for two integer inputs, and prints whether the first is greater than, less than, or equal to the second one."
   ]
  },
  {
   "cell_type": "code",
   "execution_count": 1,
   "metadata": {},
   "outputs": [],
   "source": [
    "import java.util.Scanner;\n",
    "\n",
    "public class RelationalExample {\n",
    "    public static void main(String[] args) {\n",
    "        Scanner input = new Scanner(System.in);\n",
    "        \n",
    "        System.out.println(\"Enter the first number:\");\n",
    "        int num1 = input.nextInt();\n",
    "        \n",
    "        System.out.println(\"Enter the second number:\");\n",
    "        int num2 = input.nextInt();\n",
    "        \n",
    "        // Compare the two numbers and print the result\n",
    "        if (num1 > num2) {\n",
    "            System.out.println(num1 + \" is greater than \" + num2);\n",
    "        } else if (num1 < num2) {\n",
    "            System.out.println(num1 + \" is less than \" + num2);\n",
    "        } else {\n",
    "            System.out.println(num1 + \" is equal to \" + num2);\n",
    "        }\n",
    "    }\n",
    "}\n"
   ]
  },
  {
   "cell_type": "markdown",
   "metadata": {},
   "source": [
    "## 2. Logical Operators: AND, OR, and NOT\n",
    "Logical operators are used to combine or modify boolean expressions.\n",
    "\n",
    "AND (&&): True only if both expressions are true.\n",
    "OR (||): True if at least one expression is true.\n",
    "NOT (!): Reverses the truth value of an expression."
   ]
  },
  {
   "cell_type": "code",
   "execution_count": 2,
   "metadata": {},
   "outputs": [],
   "source": [
    "int a = 5, b = 10, c = 15;\n",
    "boolean result = (a < b && b < c);  // true because both conditions are true"
   ]
  },
  {
   "cell_type": "markdown",
   "metadata": {},
   "source": [
    "Quick Tip: Avoid confusing & and | with && and ||. The former are bitwise operators, while the latter are logical operators used for boolean comparisons."
   ]
  },
  {
   "cell_type": "markdown",
   "metadata": {},
   "source": [
    "## Popcorn Hack #2: Logical Operators Challenge\n",
    "Task: Write a program that asks the user for their age and their score on a test. The program should check if the user is eligible for a reward based on these two conditions:\n",
    "\n",
    "The age is greater than or equal to 18.\n",
    "The score is greater than 80."
   ]
  },
  {
   "cell_type": "code",
   "execution_count": 3,
   "metadata": {},
   "outputs": [],
   "source": [
    "import java.util.Scanner;\n",
    "\n",
    "public class LogicalExample {\n",
    "    public static void main(String[] args) {\n",
    "        Scanner input = new Scanner(System.in);\n",
    "        \n",
    "        System.out.println(\"Enter your age:\");\n",
    "        int age = input.nextInt();\n",
    "        \n",
    "        System.out.println(\"Enter your test score:\");\n",
    "        int score = input.nextInt();\n",
    "        \n",
    "        // Check if the user is eligible for a reward\n",
    "        if (age >= 18 && score > 80) {\n",
    "            System.out.println(\"Congratulations! You're eligible for a reward.\");\n",
    "        } else {\n",
    "            System.out.println(\"Sorry, you don't qualify for a reward.\");\n",
    "        }\n",
    "    }\n",
    "}\n"
   ]
  },
  {
   "cell_type": "markdown",
   "metadata": {},
   "source": [
    "## 3. if, else if, and else Statements\n",
    "An if statement is used to execute a block of code only if a condition is true. You can chain multiple conditions together using else if and else."
   ]
  },
  {
   "cell_type": "code",
   "execution_count": 4,
   "metadata": {},
   "outputs": [
    {
     "name": "stdout",
     "output_type": "stream",
     "text": [
      "It's warm.\n"
     ]
    }
   ],
   "source": [
    "int temperature = 75;\n",
    "\n",
    "if (temperature > 80) {\n",
    "    System.out.println(\"It's hot!\");\n",
    "} else if (temperature > 60) {\n",
    "    System.out.println(\"It's warm.\");\n",
    "} else {\n",
    "    System.out.println(\"It's cold.\");\n",
    "}\n"
   ]
  },
  {
   "cell_type": "markdown",
   "metadata": {},
   "source": [
    "Nested if Statements: You can place if statements inside other if statements for more complex logic."
   ]
  },
  {
   "cell_type": "markdown",
   "metadata": {},
   "source": [
    "## Popcorn Hack #3: If-Else Statement Practice\n",
    "Task: Write a program that asks the user for their score on three tests. The program should calculate the average score and print the corresponding grade:\n",
    "\n",
    "A: 90 and above\n",
    "B: 80 to 89\n",
    "C: 70 to 79\n",
    "D: 60 to 69\n",
    "F: Below 60"
   ]
  },
  {
   "cell_type": "code",
   "execution_count": 5,
   "metadata": {},
   "outputs": [],
   "source": [
    "import java.util.Scanner;\n",
    "\n",
    "public class GradeCalculator {\n",
    "    public static void main(String[] args) {\n",
    "        Scanner input = new Scanner(System.in);\n",
    "        \n",
    "        // Ask for the scores of three tests\n",
    "        System.out.println(\"Enter your first test score:\");\n",
    "        int score1 = input.nextInt();\n",
    "        \n",
    "        System.out.println(\"Enter your second test score:\");\n",
    "        int score2 = input.nextInt();\n",
    "        \n",
    "        System.out.println(\"Enter your third test score:\");\n",
    "        int score3 = input.nextInt();\n",
    "        \n",
    "        // Calculate the average score\n",
    "        double average = (score1 + score2 + score3) / 3.0;\n",
    "        \n",
    "        // Determine the grade based on the average\n",
    "        if (average >= 90) {\n",
    "            System.out.println(\"Your grade is A.\");\n",
    "        } else if (average >= 80) {\n",
    "            System.out.println(\"Your grade is B.\");\n",
    "        } else if (average >= 70) {\n",
    "            System.out.println(\"Your grade is C.\");\n",
    "        } else if (average >= 60) {\n",
    "            System.out.println(\"Your grade is D.\");\n",
    "        } else {\n",
    "            System.out.println(\"Your grade is F.\");\n",
    "        }\n",
    "    }\n",
    "}\n"
   ]
  }
 ],
 "metadata": {
  "kernelspec": {
   "display_name": "Java",
   "language": "java",
   "name": "java"
  },
  "language_info": {
   "codemirror_mode": "java",
   "file_extension": ".jshell",
   "mimetype": "text/x-java-source",
   "name": "java",
   "pygments_lexer": "java",
   "version": "17.0.12+8-LTS-286"
  }
 },
 "nbformat": 4,
 "nbformat_minor": 2
}
