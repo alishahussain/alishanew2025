{
 "cells": [
  {
   "cell_type": "markdown",
   "metadata": {
    "vscode": {
     "languageId": "raw"
    }
   },
   "source": [
    "---\n",
    "layout: post\n",
    "title: Unit 7 ArrayLists P1\n",
    "type: ccc\n",
    "categories: [AP CSA]\n",
    "courses: {csa: {week: 6}}\n",
    "toc: true\n",
    "comments: true\n",
    "author: Aidan Lau, Saathvik Gampa, Sri Surapaneni, Tanav Kambhampati\n",
    "permalink: /csa/unit7-p1/unit7-homepage\n",
    "menu: nav/CSA_Units/csa_unit7_p1.html\n",
    "---"
   ]
  },
  {
   "cell_type": "markdown",
   "metadata": {},
   "source": [
    "## AP Computer Science A - Unit 6 Home Page\n",
    "### Main Idea\n",
    "> ** ArrayLists are used to store data and algorithms and can be used to access, traverse, and sort through this data.**\n",
    "### Why ArrayLists?\n",
    "> ArrayLists don't have a fixed size like Arrays and we can add and remove items from them, making them more verstaile and having more functions\n",
    "### Key Topics:\n",
    "Topic 7.1 - Intro to Arraylists (Sri)\n",
    "Topic 7.2 - Methods with Arraylists (Sri & Saathvik)\n",
    "Topic 7.3 - Traversing ArrayLists (Tanav)\n",
    "Topic 7.4 - Developing Algorithms Using ArrayLists (Tanav)\n",
    "Topic 7.5 - Searching (Aidan)\n",
    "Topic 7.6 - Sorting (Aidan)\n",
    "Topic 7.7 - Ethical Issues Around Data Collection (Saathvik)\n",
    "### AP Exam Details\n",
    "- 2.5-7.5% of the test\n",
    "- 1 to 2 mc questions\n",
    "- Might be on an FRQ (making ArrayLists and ArrayList algorithms)\n",
    "\n",
    "<img width=\"318\" alt=\"Screenshot 2024-09-24 at 9 34 30 PM\" src=\"https://github.com/user-attachments/assets/b632ce82-0b07-4c0c-ae4c-a3b94e146f3c\">"
   ]
  },
  {
   "cell_type": "markdown",
   "metadata": {},
   "source": [
    "## 7.1: ArrayList Intro"
   ]
  },
  {
   "cell_type": "markdown",
   "metadata": {},
   "source": [
    "- ArrayLists are dynamic (size can grow and shrink unlike arrays which are static)\n",
    "- Instead of creating a different size array each time, we can use ArrayLists!\n",
    "- Ex: You and ur beautiful wife...\n",
    "\n",
    "![Screenshot 2024-09-18 at 8 05 02 PM](https://github.com/user-attachments/assets/480349f7-a97f-4c3d-a6f6-1868e095a2f4)\n"
   ]
  },
  {
   "cell_type": "markdown",
   "metadata": {},
   "source": [
    "In order to use the ArrayList class, it needs to be imported from the java util package. This can be done by writing import java.util.ArrayList; at the beginning of the code\n",
    "\n",
    "- To use Arraylist class, it needs to be imported from java.util package\n",
    "- At beginning of code using an Arraylist, type the command below!"
   ]
  },
  {
   "cell_type": "code",
   "execution_count": 1,
   "metadata": {
    "vscode": {
     "languageId": "java"
    }
   },
   "outputs": [],
   "source": [
    "import java.util.ArrayList;\n",
    "\n",
    "// your amazing code here!"
   ]
  },
  {
   "cell_type": "markdown",
   "metadata": {},
   "source": [
    "ArrayList objects are initialized the same way as most object classes. However, the element type (String, Integer, Boolean) must be specified in the <>. Look at the example below, where the element type is String in this case.\n",
    "\n",
    "- Arraylist objects are initialized like most object classes\n",
    "- the element type must be initialized in <>\n",
    "- The objects can't store primitive types directly"
   ]
  },
  {
   "cell_type": "code",
   "execution_count": 2,
   "metadata": {
    "vscode": {
     "languageId": "java"
    }
   },
   "outputs": [],
   "source": [
    "ArrayList<String> bobtheminion = new ArrayList(); // example of initializing an arraylist of strings called \"awesomeword\"\n",
    "ArrayList<Integer> bobtheminionage = new ArrayList<>();\n",
    "ArrayList<Boolean> isbobtheminionavailable = new ArrayList<>(); \n",
    "ArrayList<Double> minionheights = new ArrayList<>();"
   ]
  },
  {
   "cell_type": "markdown",
   "metadata": {},
   "source": [
    "# Popcorn Hack #1\n",
    "What's wrong with the code below?"
   ]
  },
  {
   "cell_type": "code",
   "execution_count": 3,
   "metadata": {
    "vscode": {
     "languageId": "java"
    }
   },
   "outputs": [],
   "source": [
    "import java.util.ArrayList;\n",
    "\n",
    "ArrayList<String> awesomeword = new ArrayList(); \n",
    "ArrayList<Integer> coolnumbers = new ArrayList();\n",
    "ArrayList<Boolean> truefalse = new ArrayList();\n",
    "// change code and comment what you changed when doing homework\n",
    "// int changes to integer"
   ]
  },
  {
   "cell_type": "markdown",
   "metadata": {},
   "source": [
    "\n",
    "<img width=\"442\" alt=\"Screenshot 2024-09-24 at 8 12 38 PM\" src=\"https://github.com/user-attachments/assets/f93e5910-ae60-46d9-89ab-3c55bacd4e77\">"
   ]
  },
  {
   "cell_type": "markdown",
   "metadata": {},
   "source": [
    "ArrayLists can be created without specifying a type, allowing them to hold any object type. However, its better to define the type because it allows the compiler to catch errors at compile time whcich makes the code more efficient and easier to debug. Example is below\n",
    "- Arraylists can be created without specifying a type (they can hold any)\n",
    "- Better to define the type as it makes code easier to debug and more efficient"
   ]
  },
  {
   "cell_type": "code",
   "execution_count": 4,
   "metadata": {
    "vscode": {
     "languageId": "java"
    }
   },
   "outputs": [],
   "source": [
    "ArrayList list = new ArrayList(); // no object type specified!"
   ]
  },
  {
   "cell_type": "markdown",
   "metadata": {},
   "source": [
    "#### Popcorn Hack #2\n",
    "\n",
    "Create two ArrayList objects, one for storing integers (called sritestgrades) and another for storing strings (called srishobbies)."
   ]
  },
  {
   "cell_type": "code",
   "execution_count": 5,
   "metadata": {
    "vscode": {
     "languageId": "java"
    }
   },
   "outputs": [
    {
     "name": "stdout",
     "output_type": "stream",
     "text": [
      "Sri's horrible test grades are: [45, 32, 1, 90, 74]\n",
      "Sri's hobbies are: [watching netflix, sleeping, , annoying saathvik]\n"
     ]
    }
   ],
   "source": [
    "import java.util.ArrayList;\n",
    "\n",
    "ArrayList<Integer> sritestgrades = new ArrayList(); \n",
    "ArrayList<String> srishobbies = new ArrayList(); \n",
    "        \n",
    "        sritestgrades.add(45);\n",
    "        sritestgrades.add(32);\n",
    "        sritestgrades.add(1);\n",
    "        sritestgrades.add(90);\n",
    "        sritestgrades.add(74);\n",
    "        \n",
    "        srishobbies.add(\"watching netflix\");\n",
    "        srishobbies.add(\"sleeping\");\n",
    "        srishobbies.add(\"\");\n",
    "        srishobbies.add(\"annoying saathvik\");\n",
    "        \n",
    "        // Printing the values\n",
    "        System.out.println(\"Sri's horrible test grades are: \" + sritestgrades);\n",
    "        System.out.println(\"Sri's hobbies are: \" + srishobbies);\n"
   ]
  },
  {
   "cell_type": "markdown",
   "metadata": {},
   "source": [
    "<img width=\"641\" alt=\"Screenshot 2024-09-24 at 8 13 10 PM\" src=\"https://github.com/user-attachments/assets/7a255858-b1f2-4ad3-b270-ba9b26f5ed96\">"
   ]
  },
  {
   "cell_type": "markdown",
   "metadata": {},
   "source": [
    "# 7.2: ArrayList Methods"
   ]
  },
  {
   "cell_type": "markdown",
   "metadata": {},
   "source": [
    "- Getting access to elements stored in an ArrayList can be done with iteration statements\n",
    "- This is called \"traversing\" the ArrayList\n",
    "\n",
    "Here are some useful ArrayList methods:\n",
    "\n",
    "* `void add(int index, Object obj)` - Inserts `obj` at the specified `index`, shifting elements at and above that position to the right, and increases the list's size by one.\n",
    "  \n",
    "* `boolean add(Object obj)` - Adds `obj` to the end of the list and returns `true`.\n",
    "\n",
    "* `Object get(int index)` - Retrieves the element located at the specified `index`.\n",
    "\n",
    "* `int size()` - Returns the total number of elements currently in the list.\n",
    "\n",
    "* `Object set(int index, Object obj)` - Replaces the element at `index` with `obj` and returns the element previously at that position.\n",
    "\n",
    "* `Object remove(int index)` - Deletes the element at `index`, shifts all subsequent elements to the left, and returns the removed element.\n"
   ]
  },
  {
   "cell_type": "markdown",
   "metadata": {},
   "source": [
    "### Note on Arraylist<> (Specifying Elements)\n",
    "- When Arraylist<element> is specified, then the code will only allow or return objects of that specific type\n",
    "- You don't have to define an element, its just better to because the compiler will show an error and it'll catch bugs easier\n",
    "\n",
    "Examples below!\n"
   ]
  },
  {
   "cell_type": "code",
   "execution_count": 6,
   "metadata": {
    "vscode": {
     "languageId": "java"
    }
   },
   "outputs": [],
   "source": [
    "ArrayList<String> names = new ArrayList<>();  // Will only store Strings\n",
    "ArrayList<Integer> numbers = new ArrayList<>();  // Will only store Integers"
   ]
  },
  {
   "cell_type": "code",
   "execution_count": 7,
   "metadata": {
    "vscode": {
     "languageId": "java"
    }
   },
   "outputs": [
    {
     "ename": "CompilationException",
     "evalue": "",
     "output_type": "error",
     "traceback": [
      "\u001b[1m\u001b[30m|   \u001b[1m\u001b[30mages.add(\u001b[0m\u001b[1m\u001b[30m\u001b[41m\"25\"\u001b[0m\u001b[1m\u001b[30m);  // Compiler error because \"25\" is a String, not an Integer\u001b[0m",
      "\u001b[1m\u001b[31mincompatible types: java.lang.String cannot be converted to java.lang.Integer\u001b[0m",
      ""
     ]
    }
   ],
   "source": [
    "ArrayList<Integer> ages = new ArrayList<>();\n",
    "ages.add(25);    // Works fine\n",
    "ages.add(\"25\");  // Compiler error because \"25\" is a String, not an Integer\n"
   ]
  },
  {
   "cell_type": "markdown",
   "metadata": {},
   "source": [
    "### Size of the ArrayList\n",
    "\n",
    "* `int size();` : returns the number of elements in the list\n",
    "\n",
    "Example below!"
   ]
  },
  {
   "cell_type": "code",
   "execution_count": 8,
   "metadata": {
    "vscode": {
     "languageId": "java"
    }
   },
   "outputs": [
    {
     "name": "stdout",
     "output_type": "stream",
     "text": [
      "3\n"
     ]
    }
   ],
   "source": [
    "ArrayList<Integer> a1 = new ArrayList<>();\n",
    "a1.add(10);\n",
    "a1.add(20);\n",
    "a1.add(30);\n",
    "\n",
    "System.out.println(a1.size()); \n"
   ]
  },
  {
   "cell_type": "markdown",
   "metadata": {},
   "source": [
    "### Adding Items to an ArrayList\n",
    "\n",
    "* `boolean add(Object obj);` : adds obj to the end of the `rrayList and returns true\n",
    "* `void add(int index, Object obj)` : inserts obj at the specified index and if the index is valid, it shifts all the elements to the right from that position and increases the size of the Arraylist (wow i bet arrays cant do that!)\n",
    "\n",
    "example below!\n"
   ]
  },
  {
   "cell_type": "code",
   "execution_count": 9,
   "metadata": {
    "vscode": {
     "languageId": "java"
    }
   },
   "outputs": [
    {
     "name": "stdout",
     "output_type": "stream",
     "text": [
      "[5.5, 6.3, 7.2, 9.8]\n"
     ]
    }
   ],
   "source": [
    "ArrayList<Double> numbers = new ArrayList<>();\n",
    "numbers.add(5.5);\n",
    "numbers.add(7.2);\n",
    "numbers.add(9.8);\n",
    "\n",
    "numbers.add(1, 6.3);  // inserts 6.3 at index 1\n",
    "\n",
    "System.out.println(numbers);\n"
   ]
  },
  {
   "cell_type": "markdown",
   "metadata": {},
   "source": [
    "<img width=\"549\" alt=\"Screenshot 2024-10-03 at 10 17 22 PM\" src=\"https://github.com/user-attachments/assets/dbc0207a-5e47-4bde-a434-241d58022062\">"
   ]
  },
  {
   "cell_type": "markdown",
   "metadata": {},
   "source": [
    "# Popcorn Hack #3 (Long)\n",
    "- Step 1: Declare and Initialize\n",
    "\n",
    "Create an ArrayList that stores Double values, called scores.\n",
    "- Step 2: Add Elements\n",
    "\n",
    "Add the following values to your scores list: 85.6, 92.4, 78.9, 88.1.\n",
    "Print the size of the list after adding these elements\n",
    "- Step 3: insert at index\n",
    "\n",
    "use the add(int index, Double obj) method to insert the value 90.0 at index 2.\n",
    "Print the list to verify the insertion.\n",
    "- Step 4: Remove an Element\n",
    "\n",
    "Remove the element at index 3 using remove(int index).\n",
    "Print the list to see the updated values.\n",
    "- Step 5: Get and Set\n",
    "\n",
    "Retrieve the element at index 1 and print it.\n",
    "Then, use set(int index, Double obj) to update the element at index 0 to 91.5.\n",
    "Print the list after the modification."
   ]
  },
  {
   "cell_type": "markdown",
   "metadata": {},
   "source": [
    "### Deleting Items from an ArrayList\n",
    "\n",
    "`E remove(int index)` : Deletes the element at the specified index and shifts all elements after that index one position to the left. it reduces the size of the arraylist by 1. (also returns element thats removed when used)"
   ]
  },
  {
   "cell_type": "code",
   "execution_count": 10,
   "metadata": {
    "vscode": {
     "languageId": "java"
    }
   },
   "outputs": [
    {
     "name": "stdout",
     "output_type": "stream",
     "text": [
      "initial cars list: [MortMobile, Lopez Lambo, Jonathan Jeepatron, Cybertruck]\n",
      "updated cars list: [MortMobile, Lopez Lambo, Cybertruck]\n"
     ]
    }
   ],
   "source": [
    "ArrayList<String> cars = new ArrayList<>();\n",
    "cars.add(\"MortMobile\");\n",
    "cars.add(\"Lopez Lambo\");\n",
    "cars.add(\"Jonathan Jeepatron\");\n",
    "cars.add(\"Cybertruck\");\n",
    "\n",
    "// prints the initial list of cars\n",
    "System.out.println(\"initial cars list: \" + cars);\n",
    "\n",
    "// removing the car at index 2 (Jonathan Jeepatron)\n",
    "cars.remove(2);\n",
    "\n",
    "// prints updated list of cars after deletion (rip jonathan jeepatron)\n",
    "System.out.println(\"updated cars list: \" + cars);\n"
   ]
  },
  {
   "cell_type": "markdown",
   "metadata": {},
   "source": [
    "### Updating Items in an `ArrayList`\n",
    "\n",
    "To update variables or object properties in Java, simply assign new values using the = operator or update object fields through methods. Make sure the data types match and understand how scopes affect where updates can occur."
   ]
  },
  {
   "cell_type": "code",
   "execution_count": 11,
   "metadata": {
    "vscode": {
     "languageId": "java"
    }
   },
   "outputs": [
    {
     "name": "stdout",
     "output_type": "stream",
     "text": [
      "Original list: [Apple, Banana, Orange]\n",
      "Updated list: [Apple, Grapes, Orange]\n"
     ]
    }
   ],
   "source": [
    "import java.util.ArrayList;\n",
    "\n",
    "ArrayList<String> fruits = new ArrayList<>();\n",
    "\n",
    "\n",
    "fruits.add(\"Apple\");\n",
    "fruits.add(\"Banana\");\n",
    "fruits.add(\"Orange\");\n",
    "\n",
    "System.out.println(\"Original list: \" + fruits);\n",
    "\n",
    "\n",
    "fruits.set(1, \"Grapes\");\n",
    "\n",
    "\n",
    "System.out.println(\"Updated list: \" + fruits);"
   ]
  },
  {
   "cell_type": "markdown",
   "metadata": {},
   "source": [
    "### Popcorn hack\n",
    "\n",
    "You have an `ArrayList` that contains the names of 5 cities:\n",
    "\n",
    "```java\n",
    "[\"New York\", \"Los Angeles\", \"Chicago\", \"Houston\", \"Phoenix\"]\n",
    "\n",
    "Write a Java program to update the third city (index 2) to \"San Francisco\" using the set() method, and then print the updated list.\n"
   ]
  },
  {
   "cell_type": "code",
   "execution_count": 12,
   "metadata": {
    "vscode": {
     "languageId": "java"
    }
   },
   "outputs": [
    {
     "ename": "CompilationException",
     "evalue": "",
     "output_type": "error",
     "traceback": [
      "\u001b[1m\u001b[30m|   \u001b[1m\u001b[30mArrayList<\u001b[0m\u001b[1m\u001b[30m\u001b[41m_____\u001b[0m\u001b[1m\u001b[30m> cities = new ArrayList<>();\u001b[0m",
      "\u001b[1m\u001b[31mcannot find symbol\u001b[0m",
      "\u001b[1m\u001b[31m  symbol:   class _____\u001b[0m",
      ""
     ]
    }
   ],
   "source": [
    "\n",
    "\n",
    "import java.util.ArrayList;\n",
    "\n",
    "\n",
    "ArrayList<_____> cities = new ArrayList<>();\n",
    "cities.add(\"New York\");\n",
    "cities.add(\"Los Angeles\");\n",
    "cities.add(\"Chicago\");\n",
    "cities.add(\"Houston\");\n",
    "cities.add(\"Phoenix\");\n",
    "\n",
    "\n",
    "System.out.println(cities);"
   ]
  },
  {
   "cell_type": "markdown",
   "metadata": {},
   "source": [
    "Expected Output:\n",
    "[New York, Los Angeles, San Francisco, Houston, Phoenix]"
   ]
  },
  {
   "cell_type": "markdown",
   "metadata": {},
   "source": [
    "### Accessing Items in an `ArrayList`\n",
    "\n",
    "In Java, you can access items in an array by using the index of the element, with array indices starting from 0. For example, array[0] will access the first element, and array[2] will access the third element. You can use a loop, such as a for or while loop, to iterate through all the elements of the array."
   ]
  },
  {
   "cell_type": "code",
   "execution_count": 13,
   "metadata": {
    "vscode": {
     "languageId": "java"
    }
   },
   "outputs": [
    {
     "name": "stdout",
     "output_type": "stream",
     "text": [
      "First number: 10\n",
      "Third number: 30\n"
     ]
    }
   ],
   "source": [
    "\n",
    "import java.util.ArrayList;\n",
    "\n",
    "ArrayList<Integer> numbers = new ArrayList<>();\n",
    "\n",
    "numbers.add(10);\n",
    "numbers.add(20);\n",
    "numbers.add(30);\n",
    "numbers.add(40);\n",
    "\n",
    "int firstNumber = numbers.get(0);  \n",
    "int thirdNumber = numbers.get(2);  \n",
    "\n",
    "\n",
    "System.out.println(\"First number: \" + firstNumber);\n",
    "System.out.println(\"Third number: \" + thirdNumber);"
   ]
  },
  {
   "cell_type": "markdown",
   "metadata": {},
   "source": [
    "### Passing an `ArrayList` as a Method Parameter"
   ]
  },
  {
   "cell_type": "markdown",
   "metadata": {},
   "source": [
    "The only time that it is wise to use `ArrayList` instead of `ArrayList<E>` is when it is as a function parameter and it is only using `ArrayList<>.get(E)` or `ArrayList<>.size()`. Consider the following code:"
   ]
  },
  {
   "cell_type": "code",
   "execution_count": 14,
   "metadata": {
    "vscode": {
     "languageId": "java"
    }
   },
   "outputs": [
    {
     "name": "stdout",
     "output_type": "stream",
     "text": [
      "ArrayList Elements:\n",
      "Dog\n",
      "Cat\n",
      "Elephant\n"
     ]
    }
   ],
   "source": [
    "\n",
    "import java.util.ArrayList;\n",
    "\n",
    "public class Main {\n",
    "\n",
    "    public static void main(String[] args) {\n",
    "        // Create an ArrayList of strings\n",
    "        ArrayList<String> animals = new ArrayList<>();\n",
    "        animals.add(\"Dog\");\n",
    "        animals.add(\"Cat\");\n",
    "        animals.add(\"Elephant\");\n",
    "\n",
    "        printArrayList(animals);\n",
    "    }\n",
    "    \n",
    "    public static void printArrayList(ArrayList<String> list) {\n",
    "        System.out.println(\"ArrayList Elements:\");\n",
    "        for (String element : list) {\n",
    "            System.out.println(element);\n",
    "        }\n",
    "    }\n",
    "\n",
    "\n",
    "}\n",
    "\n",
    "Main.main(null);"
   ]
  },
  {
   "cell_type": "markdown",
   "metadata": {},
   "source": [
    "### Returning an `ArrayList` from a Method\n",
    "\n",
    "In order for you to return an `ArrayList`, the data type must be specified, and the return type must be the same as the return value. Consider the following code:"
   ]
  },
  {
   "cell_type": "code",
   "execution_count": 15,
   "metadata": {
    "vscode": {
     "languageId": "java"
    }
   },
   "outputs": [
    {
     "name": "stdout",
     "output_type": "stream",
     "text": [
      "Returned ArrayList: [Lion, Tiger, Elephant]\n"
     ]
    }
   ],
   "source": [
    "\n",
    "import java.util.ArrayList;\n",
    "\n",
    "public class Main {\n",
    "\n",
    "    public static ArrayList<String> createAnimalList() {\n",
    "        ArrayList<String> animals = new ArrayList<>();\n",
    "        animals.add(\"Lion\");\n",
    "        animals.add(\"Tiger\");\n",
    "        animals.add(\"Elephant\");\n",
    "        return animals;\n",
    "    }\n",
    "\n",
    "    public static void main(String[] args) {\n",
    "        ArrayList<String> animalList = createAnimalList();\n",
    "\n",
    "        System.out.println(\"Returned ArrayList: \" + animalList);\n",
    "    }\n",
    "}\n",
    "\n",
    "Main.main(null);"
   ]
  },
  {
   "cell_type": "markdown",
   "metadata": {},
   "source": [
    "# Hard Hack: **\"Simple Inventory Manager\"**\n",
    "\n",
    "### Problem Statement:\n",
    "\n",
    "You are building a basic inventory system using Java’s `ArrayList` to manage a list of items in a store. You will implement functions to add, update, delete, and view items in the inventory.\n",
    "\n",
    "**Starting Inventory**:  \n",
    "The inventory already contains the following items:\n",
    "- `\"Laptop\"`, `\"Mouse\"`, `\"Keyboard\"`\n",
    "\n",
    "Your task is to:\n",
    "1. **Add items** to the inventory.\n",
    "2. **Update an item** at a specific position in the inventory.\n",
    "3. **Delete an item** from the inventory.\n",
    "4. **View all the items** currently in the inventory.\n",
    "\n",
    "### Directions:\n",
    "\n",
    "1. **Create an `ArrayList`** called `inventory` that holds strings representing the items.\n",
    "2. **Implement the following methods**:\n",
    "    - `addItem(ArrayList<String> inventory, String item)`: Adds an item to the inventory.\n",
    "    - `updateItem(ArrayList<String> inventory, int index, String newItem)`: Updates the item at the specified index.\n",
    "    - `deleteItem(ArrayList<String> inventory, int index)`: Deletes the item at the specified index.\n",
    "    - `viewInventory(ArrayList<String> inventory)`: Displays all the items in the inventory.\n",
    "\n",
    "3. **In your `main()` method**:\n",
    "    - Initialize the `inventory` with the starting items.\n",
    "    - Add one new item to the inventory.\n",
    "    - Update the second item.\n",
    "    - Delete the third item.\n",
    "    - Display the final inventory.\n",
    "\n",
    "### Example Workflow:\n",
    "\n",
    "1. Start with the `inventory`: `[\"Laptop\", \"Mouse\", \"Keyboard\"]`.\n",
    "2. Add `\"Monitor\"`.\n",
    "3. Update `\"Mouse\"` to `\"Gaming Mouse\"`.\n",
    "4. Delete `\"Keyboard\"`.\n",
    "5. Display the final `inventory`.\n",
    "\n",
    "---\n",
    "\n",
    "### Expectations:\n",
    "\n",
    "- Ensure **valid index** when updating or deleting items (handle out-of-bounds indices).\n",
    "- Use the **`get()`, `set()`, `add()`, and `remove()`** methods to manage the `ArrayList`.\n",
    "- After all operations, print the final version of the `inventory` using `viewInventory()`.\n",
    "\n",
    "---"
   ]
  },
  {
   "cell_type": "markdown",
   "metadata": {},
   "source": [
    "### Starter Code"
   ]
  },
  {
   "cell_type": "code",
   "execution_count": 16,
   "metadata": {
    "vscode": {
     "languageId": "java"
    }
   },
   "outputs": [],
   "source": [
    "import java.util.ArrayList;\n",
    "\n",
    "public class InventoryManager {\n",
    "\n",
    "    // Method to add an item to the inventory\n",
    "    public static void addItem(ArrayList<String> inventory, String item) {\n",
    "        inventory.add(item);\n",
    "    }\n",
    "\n",
    "    // Method to update an item at a specific index in the inventory\n",
    "    public static void updateItem(ArrayList<String> inventory, int index, String newItem) {\n",
    "        if (index >= 0 && index < inventory.size()) {\n",
    "            inventory.set(index, newItem);\n",
    "        } else {\n",
    "            System.out.println(\"Invalid index. Cannot update.\");\n",
    "        }\n",
    "    }\n",
    "\n",
    "    // Method to delete an item from the inventory\n",
    "    public static void deleteItem(ArrayList<String> inventory, int index) {\n",
    "        if (index >= 0 && index < inventory.size()) {\n",
    "            inventory.remove(index);\n",
    "        } else {\n",
    "            System.out.println(\"Invalid index. Cannot delete.\");\n",
    "        }\n",
    "    }\n",
    "\n",
    "    // Method to display all items in the inventory\n",
    "    public static void viewInventory(ArrayList<String> inventory) {\n",
    "        System.out.println(\"Current Inventory: \" + inventory);\n",
    "    }\n",
    "\n",
    "    public static void main(String[] args) {\n",
    "        // Initialize the inventory with starting items\n",
    "        ArrayList<String> inventory = new ArrayList<>();\n",
    "        inventory.add(\"Laptop\");\n",
    "        inventory.add(\"Mouse\");\n",
    "        inventory.add(\"Keyboard\");\n",
    "\n",
    "        // Add a new item\n",
    "        addItem(inventory, \"Monitor\");\n",
    "\n",
    "        // Update the second item\n",
    "        updateItem(inventory, 1, \"Gaming Mouse\");\n",
    "\n",
    "        // Delete the third item\n",
    "        deleteItem(inventory, 2);\n",
    "\n",
    "        // View the final inventory\n",
    "        viewInventory(inventory);\n",
    "    }\n",
    "}"
   ]
  },
  {
   "cell_type": "markdown",
   "metadata": {},
   "source": [
    "# 7.3 Traversing Arraylists\n",
    "\n",
    "You can traverse through the elements in an ArrayList using loops. In order to traverse ArrayLists, we can use iterative statements, or loops. We can use **For Each Loops**, **For Loops**, and **While Loops**\n",
    "\n",
    "The following code uses a **For Each** loop to traverse through the ArrayList."
   ]
  },
  {
   "cell_type": "code",
   "execution_count": 17,
   "metadata": {
    "vscode": {
     "languageId": "java"
    }
   },
   "outputs": [
    {
     "name": "stdout",
     "output_type": "stream",
     "text": [
      "50\n",
      "30\n",
      "20\n"
     ]
    }
   ],
   "source": [
    "//7.3.1: For Each Loop\n",
    "ArrayList<Integer> myList = new ArrayList<Integer>();\n",
    "        myList.add(50);\n",
    "        myList.add(30);\n",
    "        myList.add(20);\n",
    "        for (Integer value : myList)\n",
    "        {\n",
    "            System.out.println(value);\n",
    "        }"
   ]
  },
  {
   "cell_type": "markdown",
   "metadata": {},
   "source": [
    "### Popcorn Hack #1:\n",
    "\n",
    "Modify the code above so that it prints out the sum of all the elements in the list. "
   ]
  },
  {
   "cell_type": "markdown",
   "metadata": {},
   "source": [
    "The problem with For Each loops is that you can't modify the ArrayList. To do that, you will need to use another type of loop. If you attempt to modify the ArrayList, you will get a **ConcurrentModificationException** error.\n",
    "\n",
    "## ConcurrentModificationException Error:\n",
    "- Happens when you try to modify the structure of an ArrayList using a For Each loop.\n",
    "\n",
    "Think about it this way:\n",
    "Imagine you are standing in a line at the store and then somebody cuts the line. The order of the line has changed. \n",
    "The store doesn't want people cutting the line becaues it changes the order and creates confusion. So, it throws out a ConcurrentModificationError to alert you that something is wrong and that you shouldn't do it. \n",
    "\n",
    "It's the same for For Each Loops in Java - You can't add or remove elements because it changes the structure of the loop. \n",
    "\n",
    "![image](https://github.com/user-attachments/assets/27a0d094-f4bf-47af-b047-bef393f05627)\n",
    "\n"
   ]
  },
  {
   "cell_type": "markdown",
   "metadata": {},
   "source": [
    "#### Common mistakes with For Each Loops:\n",
    "1. Make sure that the data type of your variable is the same as the data type of the ArrayList\n",
    "2. Don't try to modify the ArrayList!!!!!! I can't stress this enough\n",
    "\n",
    "![image](https://github.com/user-attachments/assets/c6c2c194-ea02-48f6-acb8-efdf4aeb180b)\n"
   ]
  },
  {
   "cell_type": "markdown",
   "metadata": {},
   "source": [
    "### For Loops\n",
    "Here's how to traverse through an arraylist using a **For Loop**. The following code will give you an **IndexOutOfBounds** error, do you know how to fix this error?\n",
    "\n",
    "There are three major parts of a for loop:\n",
    "- Initialisation, this is where you declare the variable index\n",
    "\n",
    "- Boolean condition, this is where you declare the stop condition, when it's true, it stops.\n",
    "\n",
    "- Update, this is the increment value, i++ is increment and i-- is decrement"
   ]
  },
  {
   "cell_type": "code",
   "execution_count": 18,
   "metadata": {
    "vscode": {
     "languageId": "java"
    }
   },
   "outputs": [
    {
     "name": "stdout",
     "output_type": "stream",
     "text": [
      "50\n",
      "30\n",
      "20\n"
     ]
    },
    {
     "ename": "EvalException",
     "evalue": "Index 3 out of bounds for length 3",
     "output_type": "error",
     "traceback": [
      "\u001b[1m\u001b[31m---------------------------------------------------------------------------\u001b[0m",
      "\u001b[1m\u001b[31mjava.lang.IndexOutOfBoundsException: Index 3 out of bounds for length 3\u001b[0m",
      "\u001b[1m\u001b[31m\tat java.base/jdk.internal.util.Preconditions.outOfBounds(Preconditions.java:64)\u001b[0m",
      "\u001b[1m\u001b[31m\tat java.base/jdk.internal.util.Preconditions.outOfBoundsCheckIndex(Preconditions.java:70)\u001b[0m",
      "\u001b[1m\u001b[31m\tat java.base/jdk.internal.util.Preconditions.checkIndex(Preconditions.java:266)\u001b[0m",
      "\u001b[1m\u001b[31m\tat java.base/java.util.Objects.checkIndex(Objects.java:359)\u001b[0m",
      "\u001b[1m\u001b[31m\tat java.base/java.util.ArrayList.get(ArrayList.java:427)\u001b[0m",
      "\u001b[1m\u001b[31m\tat .(#85:1)\u001b[0m"
     ]
    }
   ],
   "source": [
    "// 7.3.2 For Loops\n",
    "ArrayList<Integer> myList = new ArrayList<Integer>();\n",
    "        myList.add(50);\n",
    "        myList.add(30);\n",
    "        myList.add(20);\n",
    "        for (int i = 0; i <= myList.size(); i++)  \n",
    "        {\n",
    "            System.out.println(myList.get(i));\n",
    "        }\n"
   ]
  },
  {
   "cell_type": "markdown",
   "metadata": {},
   "source": [
    "## IndexOutOfBoundsException\n",
    "\n",
    "- This happens when the program is trying to fetch something that isn't there. If we have the equals since in the for loop, it will try to fetch up to index 3 because thats the list size. When we remove the equals sign, it goes to whatever is <3, which is 2. So, it fetches up to index 2, meaning 3 elements. "
   ]
  },
  {
   "cell_type": "markdown",
   "metadata": {},
   "source": [
    "#### Popcorn Hack 2:\n",
    "Suppose we have an arraylist named grades, and we want to remove the entries that are lower than 70. Use a for loop to achieve this.\n",
    "\n",
    "![image](https://github.com/user-attachments/assets/6964847e-0eec-4275-9d47-1d06136466b4)\n"
   ]
  },
  {
   "cell_type": "code",
   "execution_count": 19,
   "metadata": {
    "vscode": {
     "languageId": "java"
    }
   },
   "outputs": [
    {
     "ename": "CompilationException",
     "evalue": "",
     "output_type": "error",
     "traceback": [
      "\u001b[1m\u001b[30m|   \u001b[1m\u001b[30m        for(int i = 0; i<\u001b[0m\u001b[1m\u001b[30m\u001b[41m\u001b[0m\u001b[1m\u001b[30m; i++){\u001b[0m",
      "\u001b[1m\u001b[31millegal start of expression\u001b[0m",
      ""
     ]
    }
   ],
   "source": [
    "import java.util.ArrayList;\n",
    "import java.util.List;\n",
    "\n",
    "public class Main {\n",
    "    public static void main(String[] args) {\n",
    "        ArrayList<int> grades = new ArrayList<>();\n",
    "        grades.add(68.9);\n",
    "        grades.add(71);\n",
    "        grades.add(100);\n",
    "        grades.add(80);\n",
    "        for(int i = 0; i<; i++){\n",
    "            if(grades.get(i)<70){\n",
    "                grades.remove(i);\n",
    "            }\n",
    "        }\n",
    "        System.out.println(grades);\n",
    "    }\n",
    "}"
   ]
  },
  {
   "cell_type": "markdown",
   "metadata": {},
   "source": [
    "# While Loops\n",
    "\n",
    "Here is the final example of traversing through ArrayLists using while loops"
   ]
  },
  {
   "cell_type": "code",
   "execution_count": 20,
   "metadata": {
    "vscode": {
     "languageId": "java"
    }
   },
   "outputs": [
    {
     "name": "stdout",
     "output_type": "stream",
     "text": [
      "apple\n",
      "banana\n",
      "orange\n"
     ]
    }
   ],
   "source": [
    "ArrayList<String> fruits = new ArrayList<>();\n",
    "fruits.add(\"apple\");\n",
    "fruits.add(\"banana\");\n",
    "fruits.add(\"orange\");\n",
    "\n",
    "int index = 0;\n",
    "while (index < fruits.size()) {\n",
    "    System.out.println(fruits.get(index));\n",
    "    index++;\n",
    "}"
   ]
  },
  {
   "cell_type": "markdown",
   "metadata": {},
   "source": [
    "# 7.4 Developing Algorithms Using ArrayLists\n",
    "\n",
    "Common Arraylist Methods: \n",
    "- size(): Returns the size of the arraylist as an Integer\n",
    "- add(object): Adds an object to the end of your ArrayList\n",
    "- void add(index, object): Addes an object to an index of your choice. Shifts the index of everything to the right by one and increases size by 1\n",
    "- get(index): Retrieves the object at the index specified\n",
    "- set(index, obj): Like void add, but instead of adding, it replaces the object that's already in that index\n",
    "- remove(index): Removes the object at specified index"
   ]
  },
  {
   "cell_type": "code",
   "execution_count": 21,
   "metadata": {
    "vscode": {
     "languageId": "java"
    }
   },
   "outputs": [
    {
     "name": "stdout",
     "output_type": "stream",
     "text": [
      "3\n"
     ]
    }
   ],
   "source": [
    "//size() & add(object)\n",
    "\n",
    "ArrayList<Double> numbers = new ArrayList<>();\n",
    "    numbers.add(1.0);\n",
    "    numbers.add(2.0);\n",
    "    numbers.add(3.0);\n",
    "\n",
    "int size = numbers.size();\n",
    "\n",
    "System.out.println(size);"
   ]
  },
  {
   "cell_type": "code",
   "execution_count": 22,
   "metadata": {
    "vscode": {
     "languageId": "java"
    }
   },
   "outputs": [
    {
     "name": "stdout",
     "output_type": "stream",
     "text": [
      "3.0\n",
      "4.0\n",
      "3.0\n"
     ]
    }
   ],
   "source": [
    "//void add(index, object)\n",
    "//get(index)\n",
    "ArrayList<Double> numbers = new ArrayList<>();\n",
    "    numbers.add(1.0);\n",
    "    numbers.add(2.0);\n",
    "    numbers.add(3.0);\n",
    "\n",
    "System.out.println(numbers.get(2));\n",
    "\n",
    "    numbers.add(2,4.0);\n",
    "\n",
    "System.out.println(numbers.get(2));\n",
    "System.out.println(numbers.get(3));"
   ]
  },
  {
   "cell_type": "code",
   "execution_count": 23,
   "metadata": {
    "vscode": {
     "languageId": "java"
    }
   },
   "outputs": [
    {
     "name": "stdout",
     "output_type": "stream",
     "text": [
      "3.0\n",
      "4.0\n"
     ]
    }
   ],
   "source": [
    "// set(index, obj)\n",
    "\n",
    "\n",
    "ArrayList<Double> numbers = new ArrayList<>();\n",
    "    numbers.add(1.0);\n",
    "    numbers.add(2.0);\n",
    "    numbers.add(3.0);\n",
    "\n",
    "System.out.println(numbers.get(2));\n",
    "\n",
    "    numbers.set(2,4.0);\n",
    "\n",
    "System.out.println(numbers.get(2));\n"
   ]
  },
  {
   "cell_type": "code",
   "execution_count": 24,
   "metadata": {
    "vscode": {
     "languageId": "java"
    }
   },
   "outputs": [
    {
     "name": "stdout",
     "output_type": "stream",
     "text": [
      "3.0\n",
      "1.0\n",
      "2.0\n"
     ]
    },
    {
     "ename": "EvalException",
     "evalue": "Index 2 out of bounds for length 2",
     "output_type": "error",
     "traceback": [
      "\u001b[1m\u001b[31m---------------------------------------------------------------------------\u001b[0m",
      "\u001b[1m\u001b[31mjava.lang.IndexOutOfBoundsException: Index 2 out of bounds for length 2\u001b[0m",
      "\u001b[1m\u001b[31m\tat java.base/jdk.internal.util.Preconditions.outOfBounds(Preconditions.java:64)\u001b[0m",
      "\u001b[1m\u001b[31m\tat java.base/jdk.internal.util.Preconditions.outOfBoundsCheckIndex(Preconditions.java:70)\u001b[0m",
      "\u001b[1m\u001b[31m\tat java.base/jdk.internal.util.Preconditions.checkIndex(Preconditions.java:266)\u001b[0m",
      "\u001b[1m\u001b[31m\tat java.base/java.util.Objects.checkIndex(Objects.java:359)\u001b[0m",
      "\u001b[1m\u001b[31m\tat java.base/java.util.ArrayList.get(ArrayList.java:427)\u001b[0m",
      "\u001b[1m\u001b[31m\tat .(#118:1)\u001b[0m"
     ]
    }
   ],
   "source": [
    "// remove(index)\n",
    "\n",
    "\n",
    "ArrayList<Double> numbers = new ArrayList<>();\n",
    "    numbers.add(1.0);\n",
    "    numbers.add(2.0);\n",
    "    numbers.add(3.0);\n",
    "System.out.println(numbers.get(2));\n",
    "    numbers.remove(2);\n",
    "\n",
    "System.out.println(numbers.get(0));\n",
    "System.out.println(numbers.get(1));\n",
    "System.out.println(numbers.get(2));\n",
    "\n",
    "//anybody know why we get an IndexOutofBoundsException eror?"
   ]
  },
  {
   "cell_type": "markdown",
   "metadata": {},
   "source": [
    "Here's an example of a program using **Arrays** that finds the maximum value:"
   ]
  },
  {
   "cell_type": "code",
   "execution_count": null,
   "metadata": {
    "vscode": {
     "languageId": "java"
    }
   },
   "outputs": [],
   "source": [
    "public class Main {\n",
    "    public static void main(String[] args) {\n",
    "        double[] values = {1, 2, 3, 4, 5};\n",
    "\n",
    "        double maxValue = findMax(values);\n",
    "        System.out.println(\"The maximum value is: \" + maxValue);\n",
    "    }\n",
    "\n",
    "    private static double findMax(double[] values) {\n",
    "        double max = values[0];\n",
    "        for (int index = 1; index < values.length; index++) {\n",
    "            if (values[index] > max) {\n",
    "                max = values[index];\n",
    "            }\n",
    "        }\n",
    "        return max;\n",
    "    }\n",
    "}\n",
    "Main.main(null);"
   ]
  },
  {
   "cell_type": "markdown",
   "metadata": {},
   "source": [
    "#### Now, how can we modify this to use an ArrayList?"
   ]
  },
  {
   "cell_type": "code",
   "execution_count": 25,
   "metadata": {
    "vscode": {
     "languageId": "java"
    }
   },
   "outputs": [
    {
     "name": "stdout",
     "output_type": "stream",
     "text": [
      "The maximum value is: 4.9\n"
     ]
    }
   ],
   "source": [
    "\n",
    "public class Main {\n",
    "    public static void main(String[] args) {\n",
    "        ArrayList<Double> values = new ArrayList<>();\n",
    "        values.add(1.2);\n",
    "        values.add(3.4);\n",
    "        values.add(2.6);\n",
    "        values.add(4.9);\n",
    "        values.add(0.8);\n",
    "\n",
    "        double maxValue = findMax(values);\n",
    "        System.out.println(\"The maximum value is: \" + maxValue);\n",
    "    }\n",
    "\n",
    "    private static double findMax(ArrayList<Double> values) {\n",
    "        double max = values.get(0);\n",
    "\n",
    "        for (int index = 1; index < values.size(); index++) {\n",
    "            if (values.get(index) > max) {\n",
    "                max = values.get(index);\n",
    "            }\n",
    "        }\n",
    "        return max; \n",
    "    }\n",
    "}\n",
    "Main.main(null);\n"
   ]
  },
  {
   "cell_type": "markdown",
   "metadata": {},
   "source": [
    "Homework:\n",
    "\n",
    "(Paragraph Answer)\n",
    "1. What is the difference between the two examples above. Which one is better and why?\n",
    "    A: ArrayLists are the better option because they're more dynamic as opposed to static. The first code example uses a primitive array (double[]), while the second uses an ArrayList; Double. Arrays have a fixed size and are more efficient with memory, but ArrayLists are more flexible, and dynamic\n",
    "(Code Answer)\n",
    "\n",
    "2. Make your own algorithm using ArrayLists that finds the sum of the elements in the ArrayList"
   ]
  },
  {
   "cell_type": "code",
   "execution_count": 28,
   "metadata": {
    "vscode": {
     "languageId": "java"
    }
   },
   "outputs": [],
   "source": [
    "public class Main {\n",
    "    public static void main(String[] args) {\n",
    "        ArrayList<Double> values = new ArrayList<>();\n",
    "        values.add(1.2);\n",
    "        values.add(3.4);\n",
    "        values.add(2.6);\n",
    "        values.add(4.9);\n",
    "        values.add(0.8);\n",
    "\n",
    "        double sum = findSum(values);\n",
    "        System.out.println(\"The sum of the values is: \" + sum);\n",
    "    }\n",
    "\n",
    "    public static double findSum(ArrayList<Double> values) {\n",
    "        double sum = 0;\n",
    "\n",
    "        for (int index = 0; index < values.size(); index++) {\n",
    "            sum += values.get(index);\n",
    "        }\n",
    "\n",
    "        return sum;\n",
    "    }\n",
    "}"
   ]
  },
  {
   "cell_type": "markdown",
   "metadata": {},
   "source": [
    "## Binary and Linear Search\n",
    "> There are two search algorithms you will see on the AP exam:\n",
    "- <mark>Linear Search</mark>\n",
    "- <mark>Binary Search</mark>\n",
    "\n",
    "### Linear(Sequential) Search\n",
    "![Linear Search GIF 2](https://github.com/user-attachments/assets/81815823-0e64-4147-babf-5bfacb4bd175)\n",
    "\n",
    "> Search Process\n",
    "1. Remember iteration and selection? Its the same for ArrayLists: a for loop with an if statement inside. \n",
    "2. The for loop parameter uses comparison operators to compare an item inside the ArrayList to the desired searched value\n",
    "3. Keep repeating 1 and 2 until we find the desired searched value\n",
    " \n",
    "\n",
    "### Binary Search\n",
    "![Binary Search GIF 2](https://github.com/user-attachments/assets/17231c38-f0af-4b9f-8efe-6b66292f6e83)\n",
    "> Search Process\n",
    "0. Before anything, the ArrayList HAS to be sorted\n",
    "1. Set the initial minimum, middle, and max of the ArrayList. Your target value is the value you want to find\n",
    "2. Check middle value in comparison with the minimum and maximum\n",
    "    - If the middle value is less than the target value, only check the right half of the ArrayList\n",
    "    - If the middle value is greater than the target value, only check the left half of the ArrayList\n",
    "\n",
    "**Yes its very confusing but just look at the GIF**"
   ]
  },
  {
   "cell_type": "markdown",
   "metadata": {},
   "source": [
    "## Now lets look at an example of Linear Search"
   ]
  },
  {
   "cell_type": "markdown",
   "metadata": {},
   "source": [
    "> Visualize this while going through the code\n",
    "![Linear Searching GIF](https://github.com/user-attachments/assets/9704be28-32ff-48e1-88ff-bbf01b64147c)\n",
    "- A for loop will go through each index and its corresponding value until it finds the desired value. \n",
    "\n",
    "### Code\n"
   ]
  },
  {
   "cell_type": "code",
   "execution_count": 29,
   "metadata": {
    "vscode": {
     "languageId": "java"
    }
   },
   "outputs": [],
   "source": [
    "import java.util.ArrayList;\n",
    "import java.util.Scanner;\n",
    "\n",
    "public class Main {\n",
    "    public static void main(String[] args) {\n",
    "        ArrayList<Integer> numbers = new ArrayList<Integer>();\n",
    "        \n",
    "        // missing 3, 6, 7, and 10\n",
    "        numbers.add(1);\n",
    "        numbers.add(2);\n",
    "        \n",
    "        numbers.add(4);\n",
    "        numbers.add(5);\n",
    "        \n",
    "      \n",
    "        numbers.add(8);\n",
    "        numbers.add(9);\n",
    "        \n",
    "        \n",
    "        Scanner scanNumber = new Scanner(System.in);\n",
    "        System.out.println(\"Enter a number 1-10\");\n",
    "        Integer desiredNumber = scanNumber.nextInt();\n",
    "        \n",
    "\n",
    "        for (int index = 0; index < numbers.size(); index++) {\n",
    "            // notice how the == operator is used to compare integers\n",
    "            if (numbers.get(index) == desiredNumber) {\n",
    "\n",
    "                System.out.println(desiredNumber + \" is in the list\");\n",
    "                scanNumber.close();\n",
    "            } else {\n",
    "                System.out.println(desiredNumber + \" is not in the list.\");\n",
    "                scanNumber.close();\n",
    "            }\n",
    "        }\n",
    "\n",
    "        \n",
    "    }   \n",
    "\n",
    "}"
   ]
  },
  {
   "cell_type": "markdown",
   "metadata": {},
   "source": [
    "### Popcorn Hack #1(0.2 mins)\n",
    "\n",
    "![Sequential Searching Flow](https://miro.medium.com/v2/resize:fit:800/0*OWWv4gUnex1Zk2sn.png)\n",
    "\n",
    "> What does each hop or jump represent? What code(look above) is used to achieve this?"
   ]
  },
  {
   "cell_type": "markdown",
   "metadata": {},
   "source": [
    "## Now lets look at an example of Binary Search\n",
    "> Visualize this while going through the code\n",
    "![Binary Search GIF 2](https://github.com/user-attachments/assets/17231c38-f0af-4b9f-8efe-6b66292f6e83)\n",
    "- Repeatedly divide the search range in half until the target is found or the range is empty\n",
    "- **this is a great GIF to visualize binary searching**\n",
    "\n",
    "### Code"
   ]
  },
  {
   "cell_type": "code",
   "execution_count": null,
   "metadata": {
    "vscode": {
     "languageId": "java"
    }
   },
   "outputs": [],
   "source": [
    "import java.util.ArrayList;\n",
    "import java.util.Collections;\n",
    "\n",
    "\n",
    "public static int binarySearch(ArrayList<Integer> elements, int target)\n",
    "{\n",
    "    // min and max is the RANGE of the ArrayList\n",
    "    int min = 0;\n",
    "    int max = elements.size() - 1;\n",
    "\n",
    "    // while loop will ensure the array continues to be split in half until target is found\n",
    "    while (min <= max)\n",
    "    {\n",
    "        // this middle value is the INDEX not VALUE. \n",
    "        int middle = (min + max) / 2;\n",
    "\n",
    "        // now we check if the middle VALUE is less than the number we want. \n",
    "        // *remember* the list is sorted so...\n",
    "        // if middle is less than the target, you want to split the array into the UPPER HALF\n",
    "        // if middle is more than the target, you want to split the array into the LOWER HALF\n",
    "        if (elements.get(middle) < target) { // too low\n",
    "            min = middle + 1;\n",
    "        } else if (elements.get(middle) > target) { // too high\n",
    "            max = middle - 1;\n",
    "        } else if (elements.get(middle) == target) { // just right\n",
    "            return middle;\n",
    "        }\n",
    "    }\n",
    "\n",
    "    return -1;\n",
    "}\n",
    "\n",
    "ArrayList<Integer> numbers = new ArrayList<>();\n",
    "numbers.add(-20);\n",
    "numbers.add(3);\n",
    "numbers.add(15);\n",
    "numbers.add(81);\n",
    "numbers.add(432);\n",
    "\n",
    "// binary searches HAVE to be sorted\n",
    "Collections.sort(numbers);\n",
    "\n",
    "\n",
    "int index = binarySearch(numbers, 15);\n",
    "System.out.println(index);\n",
    "\n",
    "index = binarySearch(numbers, -20);\n",
    "System.out.println(index);\n",
    "\n",
    "index = binarySearch(numbers, 432);\n",
    "System.out.println(index);\n",
    "\n",
    "index = binarySearch(numbers, 53);\n",
    "System.out.println(index);\n",
    "\n"
   ]
  },
  {
   "cell_type": "markdown",
   "metadata": {},
   "source": [
    "# Homework\n",
    "- Imagine you're an online E-store that sells video games. Use linear searching to help Aidan find if the game, Grand Theft Auto V, is offered in the E-store. If it is, tell him the price. If it isn't, tell him where he can find it"
   ]
  },
  {
   "cell_type": "code",
   "execution_count": null,
   "metadata": {
    "vscode": {
     "languageId": "java"
    }
   },
   "outputs": [],
   "source": [
    "import java.util.ArrayList;\n",
    "\n",
    "public class searchString {\n",
    "    public static void main(String[] args) {\n",
    "        ArrayList<String> videoGames = new ArrayList<String>();\n",
    "        videoGames.add(\"Roblox\");\n",
    "        videoGames.add(\"Fortnite\");\n",
    "        videoGames.add(\"Valorant\");\n",
    "        videoGames.add(\"Apex Legends\");\n",
    "        videoGames.add(\"GTA V\");\n",
    "\n",
    "        // *code*\n",
    "}"
   ]
  },
  {
   "cell_type": "markdown",
   "metadata": {},
   "source": [
    "# 7.6 Sorting\n",
    "\n",
    "> Two of the following sorting algorithms will be on the AP exam.(merge sort is discussed in Unit 10)\n",
    "- <mark>Selection sort</mark>: Look for the smallest element, swap with first element. Look for the second smallest, swap with second element, etc…\n",
    "- <mark>Insertion sort</mark>: Build an increasingly large sorted front portion of array.\n",
    "#### All sorting algorithms have...\n",
    "- comparison-based sorting, which determines order of elements by comparing them to each other. Ways to compare are:\n",
    "    - <, >, compareTo "
   ]
  },
  {
   "cell_type": "markdown",
   "metadata": {},
   "source": [
    "<h2 style=\"color: ##FF5733\">Selection Sort</h2>\n",
    "\n",
    "> <mark>Process</mark>: Orders a list of values by repeatedly putting the smallest or largest unplaced value into its final position.\n",
    "- Look through the list to find the smallest value.\n",
    "- Swap it so that it is at index 0.\n",
    "- Look through the list to find the second-smallest value.\n",
    "- Swap it so that it is at index 1.\n",
    "- ...\n",
    "- Repeat until all values are in their proper places.\n",
    "\n",
    "> Visualize this diagram as you go through the code\n",
    "- ![Selection Sort GIF](https://github.com/user-attachments/assets/5887afde-3f2d-427d-bb7c-d7a30a7f876f)\n",
    "\n",
    "### Code Implementation:"
   ]
  },
  {
   "cell_type": "code",
   "execution_count": null,
   "metadata": {
    "vscode": {
     "languageId": "java"
    }
   },
   "outputs": [],
   "source": [
    "import java.util.ArrayList;\n",
    "\n",
    "public static void selectionSort(ArrayList<Integer> elements)\n",
    "{\n",
    "    // outer loop to iterate through every element in the ArrayList\n",
    "    for (int j = 0; j < elements.size() - 1; j++)\n",
    "    {\n",
    "        // set the current value being compared \n",
    "        int minIndex = j;\n",
    "        // INNER LOOP TO ITERATE EVERY ELEMENT AFTER THE minIndex VALUE\n",
    "        for (int k = j + 1; k < elements.size(); k++)\n",
    "        {\n",
    "            // FIND THE SMALLEST ELEMENT IN THE LIST AND SET IT TO THE minINDEX\n",
    "            if (elements.get(k) < elements.get(minIndex))\n",
    "            {\n",
    "                minIndex = k;\n",
    "            }\n",
    "        }\n",
    "        // swap minIndex value with new smaller value\n",
    "        int temp = elements.get(j);\n",
    "        elements.set(j, elements.get(minIndex));\n",
    "        elements.set(minIndex, temp);\n",
    "    }\n",
    "}\n",
    "\n",
    "// test cases\n",
    "ArrayList<Integer> arr1 = new ArrayList<>();\n",
    "arr1.add(3);\n",
    "arr1.add(86);\n",
    "arr1.add(-20);\n",
    "arr1.add(14);\n",
    "arr1.add(40);\n",
    "System.out.println(arr1.toString());\n",
    "selectionSort(arr1);\n",
    "System.out.println(arr1.toString());"
   ]
  },
  {
   "cell_type": "markdown",
   "metadata": {},
   "source": [
    "<h2 style=\"color: ##FF5733\">Insertion Sort</h2>\n",
    "\n",
    "> <mark>Process</mark>: Shift each element into a sorted sub-array.\n",
    "- To sort a list of n elements.\n",
    "    - Loop through indices i from 1 to n – 1:\n",
    "        - For each value at position i, insert into correct position in the sorted list from index 0 to i – 1.\n",
    "\n",
    "> Visualize this GIF as you go through the code:\n",
    "- ![Insertion Sort GIF](https://github.com/user-attachments/assets/47646078-e11c-4b50-beb6-98982fc3758b)\n",
    "\n",
    "### Code Implementation:"
   ]
  },
  {
   "cell_type": "markdown",
   "metadata": {},
   "source": [
    "import java.util.ArrayList;\n",
    "\n",
    "\n",
    "public static void insertionSort(ArrayList<Integer> elements)\n",
    "{\n",
    "    // outer loop to iterate through every element in the list\n",
    "    // notice how it starts at 1 because the 0 index is considered \"sorted\"\n",
    "    for (int j = 1; j < elements.size(); j++) {\n",
    "        // store  current element in a temporary variable\n",
    "        int temp = elements.get(j);\n",
    "        // initialize the possible index where the current element might be inserted\n",
    "        int possibleIndex = j;\n",
    "        \n",
    "        // shift elements to the right until the correct position for temp is found\n",
    "        while (possibleIndex > 0 && temp < elements.get(possibleIndex - 1)) \n",
    "        {\n",
    "            // move previous element to the right\n",
    "            elements.set(possibleIndex, elements.get(possibleIndex - 1));\n",
    "            \n",
    "            // decrement index to check values to the left\n",
    "            possibleIndex--;\n",
    "        }\n",
    "        \n",
    "        // insert current element into correct position\n",
    "        elements.set(possibleIndex, temp);\n",
    "    }\n",
    "}\n",
    "\n",
    "// test cases\n",
    "ArrayList<Integer> arr1 = new ArrayList<>();\n",
    "arr1.add(3);\n",
    "arr1.add(86);\n",
    "arr1.add(-20);\n",
    "arr1.add(14);\n",
    "arr1.add(40);\n",
    "System.out.println(arr1.toString());\n",
    "insertionSort(arr1);\n",
    "System.out.println(arr1.toString());\n",
    "\n"
   ]
  },
  {
   "cell_type": "markdown",
   "metadata": {},
   "source": [
    "# Homework\n",
    "\n",
    "- You're a teacher for a computer science class at Rancho Bernardo. You have a list of all the grades of the students in your class but its hard to see who has the highest and lowest grade. Use either insertion sort or selection sort to sort the ArrayList so the grades are easy to see. \n"
   ]
  },
  {
   "cell_type": "markdown",
   "metadata": {},
   "source": [
    "# Helpful Resources\n",
    "> Watch these if you're still unsure about selection and insertion sort. These helped me a lot. \n",
    "\n",
    "- [Selection Sort Walkthrough](https://www.youtube.com/watch?v=cqh8nQwuKNE)\n",
    "- [Insertion Sort Walkthrough](https://www.youtube.com/watch?v=lCDZ0IprFw4)"
   ]
  },
  {
   "cell_type": "code",
   "execution_count": null,
   "metadata": {
    "vscode": {
     "languageId": "java"
    }
   },
   "outputs": [],
   "source": [
    "import java.util.ArrayList;\n",
    "\n",
    "public class SortTest\n",
    "{\n",
    "    public static void someSortingAlgorithm(ArrayList<Integer> elements)\n",
    "    {   \n",
    "        /* code */\n",
    "    }\n",
    "\n",
    "    public static void main(String[] args)\n",
    "    {\n",
    "        ArrayList<Integer> arr1 = new ArrayList<>();\n",
    "        arr1.add(85);\n",
    "        arr1.add(92);\n",
    "        arr1.add(76);\n",
    "        arr1.add(88);\n",
    "        arr1.add(67);\n",
    "        arr1.add(94);\n",
    "        arr1.add(73);\n",
    "        arr1.add(89);\n",
    "        arr1.add(91);\n",
    "        arr1.add(82);\n",
    "        arr1.add(78);\n",
    "        arr1.add(88);\n",
    "        arr1.add(95);\n",
    "        arr1.add(60);\n",
    "        arr1.add(84);\n",
    "        arr1.add(77);\n",
    "        arr1.add(91);\n",
    "        arr1.add(68);\n",
    "        arr1.add(97);\n",
    "        arr1.add(83);\n",
    "\n",
    "        /* code */\n",
    "    }\n",
    "}"
   ]
  },
  {
   "cell_type": "markdown",
   "metadata": {},
   "source": [
    "# 7.7: Ethical issues around Data Collection"
   ]
  },
  {
   "cell_type": "markdown",
   "metadata": {},
   "source": [
    "### Learning Objectives:\n",
    "- Explaining the risks of privacy from collecting and storing personal data on computer systems.\n",
    "\n",
    "### Essential Knowledge:\n",
    "- Data Collection: Methods (cookies, tracking, etc.)\n",
    "- Ethical Data Use: Identifying Personal data (Personal Identifiable Information, Sensitive Personal Information)\n",
    "- Security Practices: Data Encryption, Data Anonymization, Data Minimization"
   ]
  },
  {
   "cell_type": "markdown",
   "metadata": {},
   "source": [
    "## Privacy Protection mechanisms\n",
    "- Encryption: Encode data for only authorized users to access.\n",
    "- Anonymization: Remove personal information from data.\n",
    "- Data Minimization: Collect only necessary data.\n",
    "- User Control: Allowing users to control how their data is used\n"
   ]
  },
  {
   "cell_type": "code",
   "execution_count": null,
   "metadata": {
    "vscode": {
     "languageId": "java"
    }
   },
   "outputs": [],
   "source": [
    "// Example string data\n",
    "String originalData = \"mySecretPassword123\";\n",
    "\n",
    "// Generate a hash code for the string\n",
    "int hash = originalData.hashCode();\n",
    "\n",
    "// Display the original data and its hash\n",
    "System.out.println(\"Original Data: \" + originalData);\n",
    "System.out.println(\"Hash Code: \" + hash);\n",
    "\n",
    "// Demonstrate that the same string always produces the same hash\n",
    "String sameData = \"mySecretPassword123\";\n",
    "int sameHash = sameData.hashCode();\n",
    "System.out.println(\"Same Data Hash: \" + sameHash);\n",
    "\n",
    "// Demonstrate that a small change in data produces a different hash\n",
    "String modifiedData = \"mySecretPassword124\";\n",
    "int modifiedHash = modifiedData.hashCode();\n",
    "System.out.println(\"Modified Data: \" + modifiedData);\n",
    "System.out.println(\"Modified Data Hash: \" + modifiedHash);"
   ]
  },
  {
   "cell_type": "markdown",
   "metadata": {},
   "source": [
    "### Uses of Hashing\n",
    "- Hashing is used to store passwords securely but it is not enough for large scale industries.\n",
    "- Hashing is used to conceal sensitive information like credit card information but not enough to protect it entirely."
   ]
  },
  {
   "cell_type": "markdown",
   "metadata": {},
   "source": [
    "### Hashing with Salt\n",
    "\n",
    "As we talked about earlier in the hashing section, hashing is a one-way function. This means that once you hash a value, you can't get the original value back. This is useful for storing passwords, but it also means that if two users have the same password, they will have the same hash. This is a problem because if an attacker gets access to the hash, they can use a rainbow table to look up the hash and find the original password.\n",
    "\n",
    "Thus, we use Hasing with Salt which means that even if 2 users have the same password, they will have different hashes because we add a random value to the password before hashing it. This random value is called a salt."
   ]
  },
  {
   "cell_type": "markdown",
   "metadata": {},
   "source": [
    "## Homework"
   ]
  },
  {
   "cell_type": "markdown",
   "metadata": {},
   "source": [
    "### Homework Problem: Exploring Hashing and Privacy Protection (Extra Credit)\n",
    "\n",
    "#### **Problem:**\n",
    "Write a Java program that simulates how hashing works in protecting passwords. You will implement the following tasks:\n",
    "\n",
    "1. **Task 1: Basic Password Hashing**\n",
    "   - Write a program that accepts a user's password input and generates a hash using the **`hashCode()`** method.\n",
    "   - Display the original password and the hash to show how the same input always produces the same hash.\n",
    "\n",
    "2. **Task 2: Salting the Password**\n",
    "   - Enhance the program by generating a random **salt** for the password. Append the salt to the password before hashing, and display both the salt and the hashed password.\n",
    "   - Store the salt separately and demonstrate that the same password with a different salt produces a different hash.\n",
    "\n",
    "3. **Task 3: Verifying the Password**\n",
    "   - Write a method that simulates logging in by taking a password and salt as input, hashing them again, and comparing the result to the previously stored hash.\n",
    "   - If the hash matches, display \"Login Successful\"; otherwise, display \"Login Failed.\"\n",
    "\n",
    "#### **Extra Challenge (Optional):**\n",
    "- Research and use the **`MessageDigest`** class in Java to implement password hashing with a more secure algorithm like **SHA-256**. Modify your program to use this instead of `hashCode()`."
   ]
  }
 ],
 "metadata": {
  "kernelspec": {
   "display_name": "Java",
   "language": "java",
   "name": "java"
  },
  "language_info": {
   "codemirror_mode": "java",
   "file_extension": ".jshell",
   "mimetype": "text/x-java-source",
   "name": "Java",
   "pygments_lexer": "java",
   "version": "17.0.12+8-LTS-286"
  }
 },
 "nbformat": 4,
 "nbformat_minor": 2
}
