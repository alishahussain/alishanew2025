{
 "cells": [
  {
   "cell_type": "markdown",
   "metadata": {
    "vscode": {
     "languageId": "raw"
    }
   },
   "source": [
    "---\n",
    "layout: post\n",
    "title: Unit 8 - 2D Arrays\n",
    "categories: [Collaboration]\n",
    "courses: {csa: {week: 5}}\n",
    "toc: true\n",
    "comments: true\n",
    "permalink: /unit8lesson-p1\n",
    "menu: nav/CSA_Units/csa_unit8_p1.html\n",
    "---"
   ]
  },
  {
   "cell_type": "markdown",
   "metadata": {},
   "source": [
    "## Learning Objectives\n",
    "\n",
    "The objective of this lesson is to...\n",
    "\n",
    "- Learn about 2D arrays, their use cases, and how to create them.\n",
    "\n",
    "## Essential Knowledge\n",
    "\n",
    "College Board wants you to know...\n",
    "\n",
    "- How to declare/initialize 2D arrays.\n",
    "- How to determine their size.\n",
    "- How to access and update the values of a 2D array.\n",
    "- How to traverse/access elements of a 2D array using nested iteration statements. \n",
    "- How nested iteration statements can be used to traverse 2D arrays in “row-major order” vs “column-major order.”\n",
    "- How to create algorithms that require the use of 2D array traversals."
   ]
  },
  {
   "cell_type": "markdown",
   "metadata": {},
   "source": [
    "## Warm Up\n",
    "\n",
    "Answer the following questions as a group or individually. Write down your answers in your hacks notebook.\n",
    "\n",
    "- What are 2D arrays?\n",
    "\n",
    "2D Arrays are arrays with an extra dimension. They are data structures in Java.\n",
    "\n",
    "- How are 2D arrays organized?\n",
    "\n",
    "2D arrays are organized into rows and columns in a matrix format. There are two indices, one for rows and one for columns.\n",
    "\n",
    "- What are some real-world examples of 2D arrays?\n",
    "\n",
    "Some real-world examples of 2D arrays can be spreadsheets or maybe image processing."
   ]
  },
  {
   "cell_type": "markdown",
   "metadata": {},
   "source": [
    "## The Basics/Recap\n",
    "\n",
    "2D arrays, and higher dimension arrays overall, can be thought of as just an array that's made up of other arrays or an array of arrays. One way of looking at 2D arrays is by thinking of them as a chess board. They have rows and columns, and every element is identified via row or column number or index.\n",
    "\n",
    "Below is an illustration of a 2D array:\n",
    "![2D Array Image](https://raw.githubusercontent.com/The-Code-Monkeys/Monkeys38/main/images/2dArray.png)\n",
    "\n"
   ]
  },
  {
   "cell_type": "markdown",
   "metadata": {},
   "source": [
    "# Warmup (Review)\n",
    "- For the following three code cells categorize data + organization\n",
    "  - Data Bank: Homogenous Data, Heterogeneous Data, Type of Data, Heterogeneous Dimensions, Non-Square\n",
    "  - Note: Datatypes can be reused"
   ]
  },
  {
   "cell_type": "markdown",
   "metadata": {},
   "source": [
    "# Declaring, Initializing"
   ]
  },
  {
   "cell_type": "markdown",
   "metadata": {},
   "source": [
    "## How to declare/initialize 2D arrays"
   ]
  },
  {
   "cell_type": "code",
   "execution_count": 32,
   "metadata": {},
   "outputs": [
    {
     "name": "stdout",
     "output_type": "stream",
     "text": [
      "1 2 3 \n",
      "4 5 6 \n",
      "7 8 9 \n"
     ]
    }
   ],
   "source": [
    "public class Main {\n",
    "    public static void main(String[] args) {\n",
    "\n",
    "        // Initialize a 2D Array (example)\n",
    "        int[][] myArray = {\n",
    "            {1, 2, 3},\n",
    "            {4, 5, 6},\n",
    "            {7, 8, 9}\n",
    "        };\n",
    "        // Display Array Code below\n",
    "        for(int i = 0; i < myArray.length; i++) {\n",
    "            for (int j = 0; j < myArray[i].length; j++) {\n",
    "                System.out.print(myArray[i][j] + \" \");\n",
    "            }\n",
    "            System.out.println();\n",
    "        }\n",
    "    }\n",
    "}\n",
    "Main.main(null);"
   ]
  },
  {
   "cell_type": "markdown",
   "metadata": {},
   "source": [
    "1) All in one\n",
    "~~~\n",
    "int[][] matrix = {\n",
    "    {1, 2, 3},\n",
    "    {4, 5, 6},\n",
    "    {7, 8, 9}\n",
    "};\n",
    "~~~"
   ]
  },
  {
   "cell_type": "markdown",
   "metadata": {},
   "source": [
    "2) Empty array and manual input with indexes\n",
    "~~~\n",
    "// Declare a 3x3 empty 2D array\n",
    "int[][] matrix = new int[3][3];\n",
    "\n",
    "// Assign values to the 2D array using indexes\n",
    "matrix[0][0] = 1;\n",
    "matrix[0][1] = 2;\n",
    "matrix[0][2] = 3;\n",
    "matrix[1][0] = 4;\n",
    "matrix[1][1] = 5;\n",
    "matrix[1][2] = 6;\n",
    "matrix[2][0] = 7;\n",
    "matrix[2][1] = 8;\n",
    "matrix[2][2] = 9;\n",
    "~~~"
   ]
  },
  {
   "cell_type": "markdown",
   "metadata": {},
   "source": [
    "3) Nested For-Loop\n",
    "~~~\n",
    "int value = 1; // Start value\n",
    "for (int i = 0; i < matrix.length; i++) {  // Outer loop for rows\n",
    "    for (int j = 0; j < matrix[i].length; j++) {  // Inner loop for columns\n",
    "        matrix[i][j] = value++; // Assign value and increment\n",
    "    }\n",
    "}\n",
    "~~~"
   ]
  },
  {
   "cell_type": "code",
   "execution_count": 33,
   "metadata": {},
   "outputs": [
    {
     "ename": "CompilationException",
     "evalue": "",
     "output_type": "error",
     "traceback": [
      "\u001b[1m\u001b[30m|   \u001b[1m\u001b[30m            \u001b[0m\u001b[1m\u001b[30m\u001b[41m\u001b[0m\u001b[1m\u001b[30m[[Anusha, Vibha],[Avanthika, Matthew]]\u001b[0m",
      "\u001b[1m\u001b[31millegal start of expression\u001b[0m",
      "",
      "\u001b[1m\u001b[30m|   \u001b[1m\u001b[30m            [[\u001b[0m\u001b[1m\u001b[30m\u001b[41mAnusha\u001b[0m\u001b[1m\u001b[30m, Vibha],[Avanthika, Matthew]]\u001b[0m",
      "\u001b[1m\u001b[31mnot a statement\u001b[0m",
      "",
      "\u001b[1m\u001b[30m|   \u001b[1m\u001b[30m            [[Anusha\u001b[0m\u001b[1m\u001b[30m\u001b[41m\u001b[0m\u001b[1m\u001b[30m, Vibha],[Avanthika, Matthew]]\u001b[0m",
      "\u001b[1m\u001b[31m';' expected\u001b[0m",
      "",
      "\u001b[1m\u001b[30m|   \u001b[1m\u001b[30m            [[Anusha, \u001b[0m\u001b[1m\u001b[30m\u001b[41mVibha\u001b[0m\u001b[1m\u001b[30m],[Avanthika, Matthew]]\u001b[0m",
      "\u001b[1m\u001b[31mnot a statement\u001b[0m",
      "",
      "\u001b[1m\u001b[30m|   \u001b[1m\u001b[30m            [[Anusha, Vibha\u001b[0m\u001b[1m\u001b[30m\u001b[41m\u001b[0m\u001b[1m\u001b[30m],[Avanthika, Matthew]]\u001b[0m",
      "\u001b[1m\u001b[31m';' expected\u001b[0m",
      "",
      "\u001b[1m\u001b[30m|   \u001b[1m\u001b[30m            [[Anusha, Vibha],[\u001b[0m\u001b[1m\u001b[30m\u001b[41mAvanthika\u001b[0m\u001b[1m\u001b[30m, Matthew]]\u001b[0m",
      "\u001b[1m\u001b[31mnot a statement\u001b[0m",
      "",
      "\u001b[1m\u001b[30m|   \u001b[1m\u001b[30m            [[Anusha, Vibha],[Avanthika\u001b[0m\u001b[1m\u001b[30m\u001b[41m\u001b[0m\u001b[1m\u001b[30m, Matthew]]\u001b[0m",
      "\u001b[1m\u001b[31m';' expected\u001b[0m",
      "",
      "\u001b[1m\u001b[30m|   \u001b[1m\u001b[30m            [[Anusha, Vibha],[Avanthika, \u001b[0m\u001b[1m\u001b[30m\u001b[41mMatthew\u001b[0m\u001b[1m\u001b[30m]]\u001b[0m",
      "\u001b[1m\u001b[31mnot a statement\u001b[0m",
      "",
      "\u001b[1m\u001b[30m|   \u001b[1m\u001b[30m            [[Anusha, Vibha],[Avanthika, Matthew\u001b[0m\u001b[1m\u001b[30m\u001b[41m\u001b[0m\u001b[1m\u001b[30m]]\u001b[0m",
      "\u001b[1m\u001b[31m';' expected\u001b[0m",
      "",
      "\u001b[1m\u001b[30m|   \u001b[1m\u001b[30m        \u001b[0m\u001b[1m\u001b[30m\u001b[41m\u001b[0m\u001b[1m\u001b[30mfor(int i = 0; i < myArray.length; i++) {\u001b[0m",
      "\u001b[1m\u001b[31millegal start of type\u001b[0m",
      "",
      "\u001b[1m\u001b[30m|   \u001b[1m\u001b[30m        for(int i = 0; i < myArray.length\u001b[0m\u001b[1m\u001b[30m\u001b[41m\u001b[0m\u001b[1m\u001b[30m; i++) {\u001b[0m",
      "\u001b[1m\u001b[31m> expected\u001b[0m",
      "",
      "\u001b[1m\u001b[30m|   \u001b[1m\u001b[30m        for(int i = 0; i < myArray.length; i\u001b[0m\u001b[1m\u001b[30m\u001b[41m\u001b[0m\u001b[1m\u001b[30m++) {\u001b[0m",
      "\u001b[1m\u001b[31m<identifier> expected\u001b[0m",
      ""
     ]
    }
   ],
   "source": [
    "public class Main {\n",
    "    public static void main(String[] args) {\n",
    "\n",
    "        String[][] matrix = {\n",
    "            [[Anusha, Vibha],[Avanthika, Matthew]]\n",
    "        };\n",
    "\n",
    "        // Display Array Code below\n",
    "        for(int i = 0; i < myArray.length; i++) {\n",
    "            for (int j = 0; j < myArray[i].length; j++) {\n",
    "                System.out.print(myArray[i][j] + \" \");\n",
    "            }\n",
    "            System.out.println();\n",
    "        }\n",
    "    }\n",
    "}\n",
    "\n",
    "Main.main(null)"
   ]
  },
  {
   "cell_type": "markdown",
   "metadata": {},
   "source": [
    "### Popcorn Hack 1 (Part 1): \n",
    "- **Intialize a 2D array of the people in your group grouped based on pairs with 3 different methods** \n",
    "- ex Array: [[Anusha, Vibha],[Avanthika, Matthew]]"
   ]
  },
  {
   "cell_type": "code",
   "execution_count": null,
   "metadata": {},
   "outputs": [
    {
     "name": "stdout",
     "output_type": "stream",
     "text": [
      "Anusha Vibha \n",
      "Avanthika Matthew \n"
     ]
    }
   ],
   "source": [
    "public class Main {\n",
    "    public static void main(String[] args) {\n",
    "        String[][] group1 = {\n",
    "            {\"Anusha\", \"Vibha\"},\n",
    "            {\"Avanthika\", \"Matthew\"},\n",
    "        };\n",
    "        displayArray(group1);\n",
    "    }\n",
    "    public static void displayArray(String[][] array) {\n",
    "        for (int i = 0; i < array.length; i++) {\n",
    "            for (int j = 0; j < array[i].length; j++) {\n",
    "                System.out.print(array[i][j] + \" \");\n",
    "            }\n",
    "            System.out.println();\n",
    "        }\n",
    "    }\n",
    "}\n",
    "Main.main(null);"
   ]
  },
  {
   "cell_type": "markdown",
   "metadata": {},
   "source": [
    "# Accesing, Updating"
   ]
  },
  {
   "cell_type": "markdown",
   "metadata": {},
   "source": [
    "## Accessing and updating the values of a 2D array\n",
    "In Java, accessing and updating values in a 2D array is done using the row and column indices. The general format is:\n",
    "\n",
    "~~~\n",
    "- **Accessing a value**: array[row][column]\n",
    "- **Updating a value**: array[row][column] = newValue;\n",
    "~~~\n",
    "\n",
    "![image](https://github.com/user-attachments/assets/b1f79b97-f81b-4ea5-951d-5c098fae0767)\n"
   ]
  },
  {
   "cell_type": "markdown",
   "metadata": {},
   "source": [
    "### Popcorn Hack 1 (Part 2)\n",
    "- **Update the values of the array, you made in part 1 to the group members in another group**\n",
    "\n",
    "public class Main {\n",
    "    public static void main(String[] args) {\n",
    "        // Initial Group\n",
    "        String[][] group1 = {\n",
    "            {\"Anusha\", \"Vibha\"},\n",
    "            {\"Avanthika\", \"Matthew\"}\n",
    "        };\n",
    "\n",
    "        // Update to New Group\n",
    "        group1[0][0] = \"Alice\";\n",
    "        group1[0][1] = \"Bob\";\n",
    "        group1[1][0] = \"Charlie\";\n",
    "        group1[1][1] = \"David\";\n",
    "\n",
    "        // Display updated array\n",
    "        displayArray(group1);\n",
    "    }\n",
    "\n",
    "    public static void displayArray(String[][] array) {\n",
    "        for (int i = 0; i < array.length; i++) {\n",
    "            for (int j = 0; j < array[i].length; j++) {\n",
    "                System.out.print(array[i][j] + \" \");\n",
    "            }\n",
    "            System.out.println();\n",
    "        }\n",
    "    }\n",
    "}\n",
    "\n",
    "Main.main(null);"
   ]
  },
  {
   "cell_type": "markdown",
   "metadata": {},
   "source": [
    "# Traversing"
   ]
  },
  {
   "cell_type": "markdown",
   "metadata": {},
   "source": [
    "## Traversing 2D Arrays\n",
    "- When traversing through, or looping through 1D arrays, we only need to use one loop to access every element in the array.\n",
    "- This is different in 2D arrays, where we need to use a loop inside of a loop, otherwise known as a **for loop**\n",
    "- Java for loop structure review:\n",
    "```java\n",
    "for(first execution; condition; executed after every loop) {\n",
    "    //Action\n",
    "}\n",
    "\n",
    "\n",
    "ex.\n",
    "for(i = 0; i < 5; i++) {\n",
    "    System.out.println(i);\n",
    "}\n",
    "\n",
    "\n",
    "Prints out\n",
    "0\n",
    "1\n",
    "2\n",
    "3\n",
    "4\n",
    "```\n",
    "(Remember base 0)\n",
    "\n",
    "\n",
    "- How can we use these to traverse through 1D arrays?\n",
    "\n",
    "\n",
    "Lets say we have an array, Array1...\n",
    "\n",
    "\n",
    "```java\n",
    "// Set variable i to 0, while i is less than the length of Array1, print the value of Array1[i], add 1 to i\n",
    "int[] Array1 = {1, 2, 3};\n",
    "for(int i = 0; i < Array1.length; i++){\n",
    "    System.out.println(myArray[i]);\n",
    "}\n",
    "```\n",
    "\n",
    "\n",
    "- What about 2D arrays?\n",
    "```java\n",
    "// Create an array of integers with 2 rows, 3 columns\n",
    "int[][] Array1 = {\n",
    "    {1,2,3},\n",
    "    {4,5,6}\n",
    "};\n",
    "// Set variable i to 0, while i is less than the length of Array1, proceed to the next for loop, add 1 to i\n",
    "for(int i = 0; i < Array1.length; i++){\n",
    "// Set variable i1 to 0, while i is less than the length of the array within Array1 at Array1[i], print the value of Array1[i][i1], add 1 to i1\n",
    "    for(int i1 = 0; i1 < Array1[i].length; i1++){\n",
    "        System.out.println(Array1[i][i1]);\n",
    "    }\n",
    "}\n",
    "```\n",
    "\n",
    "\n",
    "### Put in simpler terms?\n",
    "\n",
    "\n",
    "For every row, loop through the row x number of times, x being the length of the array, print each individual value.\n",
    "So this code, without the loops, would be:\n",
    "```java\n",
    "System.out.println(Array1[0][0])\n",
    "System.out.println(Array1[0][1])\n",
    "System.out.println(Array1[0][2])\n",
    "// Keeping in mind base 0 system, and that Array1 has 3 columns for each row\n",
    "// Move on to the next row\n",
    "System.out.println(Array1[1][0])\n",
    "System.out.println(Array1[1][1])\n",
    "System.out.println(Array1[1][2])\n",
    "// Again, keeping in mind that Array1 has 2 rows, and base 0 system, so \"1st row\" is actually 2nd put in plain english\n",
    "```\n",
    "\n"
   ]
  },
  {
   "cell_type": "markdown",
   "metadata": {},
   "source": [
    "## Lets try!\n"
   ]
  },
  {
   "cell_type": "code",
   "execution_count": null,
   "metadata": {},
   "outputs": [
    {
     "name": "stdout",
     "output_type": "stream",
     "text": [
      "Row 1, or 0\n",
      "1\n",
      "2\n",
      "3\n",
      "Row 2, or 1\n",
      "4\n",
      "5\n",
      "6\n"
     ]
    }
   ],
   "source": [
    "public class Main {\n",
    "    public static void main(String[] args) {\n",
    "        int[][] Array1 = {\n",
    "            {1,2,3},\n",
    "            {4,5,6}\n",
    "        };\n",
    "        // Set variable i to 0, while i is less than the length of Array1, proceed to the next for loop, add 1 to i\n",
    "        for(int i = 0; i < Array1.length; i++){\n",
    "        System.out.println(\"Row \" + (i+1) + \", or \" + i);\n",
    "        // Set variable i1 to 0, while i is less than the length of the array within Array1 at Array1[i], print the value of Array1[i][i1], add 1 to i1\n",
    "            for(int i1 = 0; i1 < Array1[i].length; i1++){\n",
    "                System.out.println(Array1[i][i1]);\n",
    "            }\n",
    "        }\n",
    "    }\n",
    "}\n",
    "\n",
    "\n",
    "Main.main(null)\n"
   ]
  },
  {
   "cell_type": "markdown",
   "metadata": {},
   "source": [
    "## Popcorn Hack\n",
    "\n",
    "\n",
    "Let's say you have an array Numbers[][] defined as:\n",
    "```java\n",
    "int Numbers[][] = {\n",
    "    {1,2,3},\n",
    "    {4,5,6},\n",
    "    {7,8,9},\n",
    "};\n",
    "```\n",
    "Loop through it until you reached a certain number of your choice, then print the value and position\n"
   ]
  },
  {
   "cell_type": "code",
   "execution_count": null,
   "metadata": {},
   "outputs": [
    {
     "name": "stdout",
     "output_type": "stream",
     "text": [
      "9 is at row 3 column 3\n"
     ]
    }
   ],
   "source": [
    "public class Main {\n",
    "    public static void main(String[] args) {\n",
    "        int[][] Numbers = {\n",
    "            {1, 2, 3},\n",
    "            {4, 5, 6},\n",
    "            {7, 8, 9}\n",
    "        };\n",
    "\n",
    "        int target = 9;\n",
    "\n",
    "        boolean found = false;\n",
    "        for (int i = 0; i < Numbers.length; i++) {\n",
    "            for (int j = 0; j < Numbers[i].length; j++) {\n",
    "                if (Numbers[i][j] == target) {\n",
    "                    System.out.println(target + \" is at row \" + (i + 1) + \" column \" + (j + 1));\n",
    "                    found = true;\n",
    "                    break; \n",
    "                }\n",
    "            }\n",
    "            if (found) {\n",
    "                break; // Exit the outer loop once the number is found\n",
    "            }\n",
    "        }\n",
    "    }\n",
    "}\n",
    "Main.main(null);"
   ]
  },
  {
   "cell_type": "markdown",
   "metadata": {},
   "source": [
    "Example output:\n",
    "9 is at row 3 column 3"
   ]
  },
  {
   "cell_type": "markdown",
   "metadata": {},
   "source": [
    "# What if you want to go column-first?\n",
    "\n",
    "## Introducing: Column Major Order, as an alternative to Row Major Order\n",
    "\n",
    "\n",
    "Put simply, all you have to do is reverse the order of the loops, and keep the insides intact, and use the length of a row for the number of times to loop instead of the length of a column.\n",
    "\n",
    "\n",
    "Why/how does this work?\n",
    "\n",
    "\n",
    "Now instead of looping once for every row by taking the number of elements in the array, which defines how many rows there, we instead loop once for every element in each element in the array, (ex. an array with an element {1, 2, 3} would loop 3 times) which defines how many columns there are. Then, we print out the value from the chosen column, represented by i1, and then increment the row value, i, to finish out the rest of the column. Then, i1, the column value, is incremented, and the value repeats. We reverse the order of the loops so that the **column** is **prioritized**, and make the changes accordingly.\n",
    "\n"
   ]
  },
  {
   "cell_type": "code",
   "execution_count": null,
   "metadata": {},
   "outputs": [
    {
     "name": "stdout",
     "output_type": "stream",
     "text": [
      "Column 1\n",
      "1\n",
      "4\n",
      "Column 2\n",
      "2\n",
      "5\n",
      "Column 3\n",
      "3\n",
      "6\n"
     ]
    }
   ],
   "source": [
    "public class Main {\n",
    "    public static void main(String[] args) {\n",
    "        int[][] Array1 = {\n",
    "            {1,2,3},\n",
    "            {4,5,6}\n",
    "        };\n",
    "        // Set variable i to 0, while i is less than the length of Array1, proceed to the next for loop, add 1 to i\n",
    "        for(int i1 = 0; i1 < Array1[0].length; i1++){\n",
    "            System.out.println(\"Column \" + (i1+1));\n",
    "            for(int i = 0; i < Array1.length; i++){\n",
    "                System.out.println(Array1[i][i1]);\n",
    "            }\n",
    "        }\n",
    "    }\n",
    "}\n",
    "\n",
    "\n",
    "Main.main(null)"
   ]
  },
  {
   "cell_type": "code",
   "execution_count": null,
   "metadata": {},
   "outputs": [],
   "source": []
  },
  {
   "cell_type": "markdown",
   "metadata": {},
   "source": [
    "# Algorithms"
   ]
  },
  {
   "cell_type": "markdown",
   "metadata": {},
   "source": [
    "## 1. Introduction to Searching in 2D Arrays\n",
    "\n",
    "Key Concepts:\n",
    "\n",
    "Linear Search: Sequentially checks every element.\n",
    "\n",
    "Binary Search: Cuts the search space in half each time, but only works on sorted arrays.\n"
   ]
  },
  {
   "cell_type": "markdown",
   "metadata": {},
   "source": [
    "### { { 3, 12, 9 }, \n",
    "###  { 5, 2, 89 }, \n",
    "###  { 90, 45, 22 } }\n"
   ]
  },
  {
   "cell_type": "markdown",
   "metadata": {},
   "source": [
    "- In the code, you use two nested loops to go through each row [i] and then each column [j] of the 2D array.\n",
    "\n",
    "- You start with arr[0][0] (which is 3), then move to arr[0][1] (which is 12), and so on.\n",
    "\n",
    "- Linear search checks every element, so it can be slow if you have a huge dataset. It takes O(n*m) time, where n is the number of rows, and m is the number of columns.\n",
    "\n",
    "- Why Use It? It works with any array, whether it’s sorted or not."
   ]
  },
  {
   "cell_type": "code",
   "execution_count": null,
   "metadata": {},
   "outputs": [
    {
     "name": "stdout",
     "output_type": "stream",
     "text": [
      "First Line\n",
      "Element found\n",
      "Element found at row 1, column 2\n"
     ]
    }
   ],
   "source": [
    "public class GFG {\n",
    "\n",
    "    static int[] linearSearch(int[][] arr, int target) {\n",
    "        for (int i = 0; i < arr.length; i++) {\n",
    "            for (int j = 0; j < arr[i].length; j++) {\n",
    "                if (arr[i][j] == target) {\n",
    "                    System.out.println(\"Element found\");\n",
    "                    return new int[] { i, j };\n",
    "                }\n",
    "            }\n",
    "        }\n",
    "        return new int[] { -1, -1 };\n",
    "    }\n",
    "    \n",
    "    public static void main(String[] args) {\n",
    "        System.out.println(\"First Line\");\n",
    "        int arr[][] = {\n",
    "            { 3, 12, 9 },\n",
    "            { 5, 2, 89 },\n",
    "            { 90, 45, 22 }\n",
    "        };\n",
    "        int target = 89;\n",
    "\n",
    "        int[] result = linearSearch(arr, target);\n",
    "        \n",
    "        if (result[0] != -1) {\n",
    "            System.out.println(\"Element found at row \" + result[0] + \", column \" + result[1]);\n",
    "        } else {\n",
    "            System.out.println(\"Element not found\");\n",
    "        }\n",
    "    }\n",
    "\n",
    "    \n",
    "}\n",
    "GFG.main(null);"
   ]
  },
  {
   "cell_type": "markdown",
   "metadata": {},
   "source": [
    "## Explanation:\n",
    "\n",
    "\n",
    "- The algorithm goes row by row and column by column until it finds the target value.\n",
    "- If the value is found, it returns the index of that element."
   ]
  },
  {
   "cell_type": "markdown",
   "metadata": {},
   "source": [
    "## Popcorn Hack 1: Custom 2D Search Challenge\n",
    "\n",
    "### Question:\n",
    "\n",
    "You are given a sorted 5x5 2D array, where each row is sorted in ascending order. Write a function to perform binary search to find a target number in this 2D array. Your function should return both the index of the found element (row and column).\n",
    "\n",
    "### Requirements:\n",
    "\n",
    "Implement a binary search function for the 2D array.\n",
    "\n",
    "Function should display the row and column\n",
    "\n",
    "The output should display whether the element was found.\n"
   ]
  },
  {
   "cell_type": "code",
   "execution_count": null,
   "metadata": {},
   "outputs": [
    {
     "name": "stdout",
     "output_type": "stream",
     "text": [
      "Element found\n",
      "Element found at row 4, column 2\n"
     ]
    }
   ],
   "source": [
    "public class Main {\n",
    "\n",
    "    static int[] binarySearch2D(int[][] arr, int target) {\n",
    "        int rows = arr.length;\n",
    "        int cols = arr[0].length;\n",
    "        int left = 0, right = rows * cols - 1;\n",
    "\n",
    "        while (left <= right) {\n",
    "            int mid = left + (right - left) / 2;\n",
    "            int midValue = arr[mid / cols][mid % cols];\n",
    "\n",
    "            if (midValue == target) {\n",
    "                System.out.println(\"Element found\");\n",
    "                return new int[] { mid / cols, mid % cols }; // Return row and column\n",
    "            }\n",
    "\n",
    "            if (midValue < target) {\n",
    "                left = mid + 1;\n",
    "            } else {\n",
    "                right = mid - 1;\n",
    "            }\n",
    "        }\n",
    "        \n",
    "        return new int[] { -1, -1 }; // Element not found\n",
    "    }\n",
    "\n",
    "    public static void main(String[] args) {\n",
    "        int[][] arr = {\n",
    "            {1, 3, 5, 7, 9},\n",
    "            {10, 12, 14, 16, 18},\n",
    "            {20, 22, 24, 26, 28},\n",
    "            {30, 32, 34, 36, 38},\n",
    "            {40, 42, 44, 46, 48}\n",
    "        };\n",
    "        int target = 44;\n",
    "\n",
    "        int[] result = binarySearch2D(arr, target);\n",
    "\n",
    "        if (result[0] != -1) {\n",
    "            System.out.println(\"Element found at row \" + result[0] + \", column \" + result[1]);\n",
    "        } else {\n",
    "            System.out.println(\"Element not found\");\n",
    "        }\n",
    "    }\n",
    "}\n",
    "Main.main(null);"
   ]
  },
  {
   "cell_type": "markdown",
   "metadata": {},
   "source": [
    "### Binary Search in a 2D Array: \n",
    "\n",
    "1. **Sorted Array Requirement:** Binary search only works on arrays that are sorted in ascending order. If the array is not sorted, the binary search algorithm will not function correctly.\n",
    "\n",
    "2. **Dividing the Search Space:** The algorithm calculates the middle index of the current search range and compares the middle element to the target value:\n",
    "\n",
    "### { 2, 5, 8, 12, 15, 23, 37, 45, 67 }\n",
    "\n",
    "- If the middle element is equal to the target, the search is complete.\n",
    "- If the middle element is less than the target, it discards the left half of the array (including the middle element) and continues searching in the right half.\n",
    "- If the middle element is greater than the target, it discards the right half of the array and continues searching in the left half."
   ]
  },
  {
   "cell_type": "markdown",
   "metadata": {},
   "source": [
    "### Applying Binary Search to a 2D Array:\n",
    "\n",
    "When dealing with a 2D array, we can treat the array as a flattened 1D array.\n",
    "\n",
    "Think of a 2D array as a long list, you can imagine the 2D array as one single row of values.\n",
    "\n",
    "#### Finding the position of an element:\n",
    "\n",
    "- If you have an element located at (i, j), you can find its position in the long list using this formula:\n",
    "\n",
    "    - Position = (i * number of columns) + j\n",
    "\n",
    "\n",
    "#### Converting back from a position to (i, j):\n",
    "- If you know the position in the long list and want to find out which row and column it corresponds to, use these formulas:\n",
    "\n",
    "    - Row = Position / number of columns\n",
    "    \n",
    "    - Column = Position % number of columns\n"
   ]
  },
  {
   "cell_type": "code",
   "execution_count": null,
   "metadata": {},
   "outputs": [],
   "source": [
    "public class Main {\n",
    "    public static void main(String[] args) {\n",
    "        // Creating a 2D matrix using sorted array values\n",
    "        int[][] matrix = {\n",
    "            {2, 5, 8},\n",
    "            {12, 15, 23},\n",
    "            {37, 45, 67}\n",
    "        };\n",
    "        int target = 5; // Change this to test with other values like 12, 23, etc.\n",
    "\n",
    "        // Perform binary search and get the result\n",
    "        int[] result = binarySearch(matrix, target);\n",
    "\n",
    "        // Check the result and print appropriate message\n",
    "        if (result[0] != -1) {\n",
    "            System.out.println(\"Target \" + target + \" found at position: Row \" + result[0] + \", Column \" + result[1]);\n",
    "        } else {\n",
    "            System.out.println(\"Target \" + target + \" not found in the matrix.\");\n",
    "        }\n",
    "    }\n",
    "\n",
    "    public static int[] binarySearch(int[][] matrix, int target) {\n",
    "        // Get the number of rows and columns\n",
    "        int rows = matrix.length;\n",
    "        int cols = matrix[0].length;\n",
    "\n",
    "        // Initialize left and right pointers for the search range\n",
    "        int left = 0;\n",
    "        int right = rows * cols - 1;\n",
    "\n",
    "        // Loop until the search range is valid\n",
    "        while (left <= right) {\n",
    "            // Calculate the middle index\n",
    "            int mid = left + (right - left) / 2;\n",
    "            // Convert the 1D index back to 2D row and column\n",
    "            int midValue = matrix[mid / cols][mid % cols];\n",
    "\n",
    "            // Check if the middle value is the target\n",
    "            if (midValue == target) {\n",
    "                return new int[] {mid / cols, mid % cols}; // Return the found position\n",
    "            }\n",
    "\n",
    "            // Adjust the search range based on the comparison\n",
    "            if (midValue < target) {\n",
    "                left = mid + 1; // Search in the right half\n",
    "            } else {\n",
    "                right = mid - 1; // Search in the left half\n",
    "            }\n",
    "        }\n",
    "\n",
    "        // Return -1 for both row and column if not found\n",
    "        return new int[] {-1, -1}; \n",
    "    }\n",
    "}\n",
    "\n",
    "// To execute the main method, use:\n",
    "Main.main(null);"
   ]
  },
  {
   "cell_type": "markdown",
   "metadata": {},
   "source": [
    "## Explanation:\n",
    "\n",
    "**Main Method**\n",
    "\n",
    "- Initialize a sorted 2D array (matrix) and define a target value to search for\n",
    "- Call binarySearch(matrix, target) to find the target's position.\n",
    "- Output the result:\n",
    "    - If found, print the row and column.\n",
    "    - If not found, indicate the target is absent.\n",
    "\n",
    "**Binary Search Method**\n",
    "\n",
    "- Parameters: Takes a 2D array and a target value.\n",
    "- Setup:\n",
    "    - Get the number of rows and columns.\n",
    "    - Initialize left (0) and right (last index).\n",
    "\n",
    "- Search Loop:\n",
    "    - While left <= right:\n",
    "        - Calculate mid index.\n",
    "        - Convert mid to 2D indices.\n",
    "        - Check midValue against target:\n",
    "            - If equal, return indices\n",
    "            - If less, adjust left\n",
    "            - If greater, adjust right\n",
    "\n",
    "Return {-1, -1} if the target isn’t found."
   ]
  },
  {
   "cell_type": "markdown",
   "metadata": {},
   "source": [
    "## Popcorn Hack - 2\n",
    "\n",
    "\n",
    "Create a program that performs binary search on a sorted 2D array to find a specified target number. Your function should return the position of the target if found, or indicate that the target is not present in the array."
   ]
  },
  {
   "cell_type": "code",
   "execution_count": null,
   "metadata": {},
   "outputs": [
    {
     "name": "stdout",
     "output_type": "stream",
     "text": [
      "Target 34 found at row 3, column 2\n"
     ]
    }
   ],
   "source": [
    "public class Main {\n",
    "\n",
    "    static int[] binarySearch2D(int[][] arr, int target) {\n",
    "        int rows = arr.length;\n",
    "        int cols = arr[0].length;\n",
    "        int left = 0, right = rows * cols - 1;\n",
    "\n",
    "        while (left <= right) {\n",
    "            int mid = left + (right - left) / 2;\n",
    "            int midValue = arr[mid / cols][mid % cols];  // Convert 1D mid index to 2D\n",
    "\n",
    "            if (midValue == target) {\n",
    "                return new int[] { mid / cols, mid % cols };  // Return row and column if found\n",
    "            }\n",
    "\n",
    "            if (midValue < target) {\n",
    "                left = mid + 1;  // Search the right half\n",
    "            } else {\n",
    "                right = mid - 1;  // Search the left half\n",
    "            }\n",
    "        }\n",
    "\n",
    "        return new int[] { -1, -1 };  // Return -1, -1 if the element is not found\n",
    "    }\n",
    "\n",
    "    public static void main(String[] args) {\n",
    "        // Sample sorted 2D array\n",
    "        int[][] arr = {\n",
    "            {1, 3, 5, 7, 9},\n",
    "            {10, 12, 14, 16, 18},\n",
    "            {20, 22, 24, 26, 28},\n",
    "            {30, 32, 34, 36, 38},\n",
    "            {40, 42, 44, 46, 48}\n",
    "        };\n",
    "        \n",
    "        int target = 34;  // Target number to search\n",
    "\n",
    "        int[] result = binarySearch2D(arr, target);\n",
    "\n",
    "        // Display result\n",
    "        if (result[0] != -1) {\n",
    "            System.out.println(\"Target \" + target + \" found at row \" + result[0] + \", column \" + result[1]);\n",
    "        } else {\n",
    "            System.out.println(\"Target \" + target + \" not found in the array.\");\n",
    "        }\n",
    "    }\n",
    "}\n",
    "Main.main(null);"
   ]
  },
  {
   "cell_type": "markdown",
   "metadata": {},
   "source": [
    "## Mathematical Analysis of a 2D Array\n",
    "\n",
    "There are 3 types of standard algorithms that can be applied upon 2D arrays that are commonly tested by Collegeboard:\n",
    "\n",
    "1. **Mathematical Analysis**: Algorithms that involve performing mathematical operations or calculations on 2D arrays, such as finding sums, averages, or other statistical measures. Examples include calculating the sum of all elements in a matrix or finding the determinant of a matrix.\n",
    "\n",
    "2. **Analyzing Element Properties**: Algorithms that focus on examining and manipulating the properties of individual elements within a 2D array. This might involve checking for specific conditions, such as how many elements are prime, identifying the number of even/odd numbers, or surveying for any other properties.\n",
    "\n",
    "3. **Reordering Elements**: Algorithms that involve changing the order of elements within a 2D array based on certain criteria. This could include sorting rows or columns, rotating the matrix, or rearranging elements to achieve a desired configuration. Examples include sorting the rows of a matrix in ascending order or rotating the matrix 90 degrees clockwise.\n"
   ]
  },
  {
   "cell_type": "markdown",
   "metadata": {},
   "source": [
    "# Mathematical Analysis"
   ]
  },
  {
   "cell_type": "code",
   "execution_count": null,
   "metadata": {},
   "outputs": [],
   "source": [
    "/// Define the class named MatrixSum\n",
    "public class MatrixSum {\n",
    "    // Entry point of the program\n",
    "    public static void main(String[] args) {\n",
    "        // Initialize a 2D array (matrix) with predefined values\n",
    "        // The matrix here is a 3x3 array with integers from 1 to 9\n",
    "        int[][] matrix = {\n",
    "            {1, 2, 3},  // First row of the matrix\n",
    "            {4, 5, 6},  // Second row of the matrix\n",
    "            {7, 8, 9}   // Third row of the matrix\n",
    "        };\n",
    "        \n",
    "        // Call the calculateSum method with the matrix as an argument\n",
    "        // This method will return the sum of all elements in the matrix\n",
    "        int sum = calculateSum(matrix);\n",
    "        \n",
    "        // Print the sum of all elements in the matrix to the console\n",
    "        // The output will be: \"Sum of all elements: 45\"\n",
    "        System.out.println(\"Sum of all elements: \" + sum);\n",
    "\n",
    "        // Call the test method to execute the tests\n",
    "        testMatrixSum();\n",
    "    }\n",
    "\n",
    "    // Method to calculate the sum of all elements in a 2D matrix\n",
    "    // This method takes a 2D integer array (matrix) as input and returns an integer (the sum)\n",
    "    public static int calculateSum(int[][] matrix) {\n",
    "        // Initialize a variable to hold the sum of the matrix elements\n",
    "        int sum = 0;\n",
    "        \n",
    "        // Iterate over each row in the matrix\n",
    "        // 'row' represents each 1D array (row) in the 2D array (matrix)\n",
    "        for (int[] row : matrix) {\n",
    "            // Iterate over each element in the current row\n",
    "            // 'element' represents each integer value in the row\n",
    "            for (int element : row) {\n",
    "                // Add the current element to the sum\n",
    "                sum += element;\n",
    "            }\n",
    "        }\n",
    "        \n",
    "        // Return the final sum after all elements have been added\n",
    "        return sum;\n",
    "    }\n",
    "\n",
    "    // Test method to execute the calculations and print results\n",
    "    public static void testMatrixSum() {\n",
    "        // Test 1: Matrix with all positive integers\n",
    "        int[][] matrix1 = {\n",
    "            {1, 2, 3},\n",
    "            {4, 5, 6},\n",
    "            {7, 8, 9}\n",
    "        };\n",
    "        System.out.println(\"Sum of all elements in matrix 1: \" + calculateSum(matrix1));\n",
    "    }\n",
    "}\n",
    "MatrixSum.testMatrixSum();\n"
   ]
  },
  {
   "cell_type": "markdown",
   "metadata": {},
   "source": [
    "# Analysis of Properties of a 2D array"
   ]
  },
  {
   "cell_type": "code",
   "execution_count": null,
   "metadata": {},
   "outputs": [],
   "source": [
    "public class PrimeNumberCounter {\n",
    "\n",
    "    /**\n",
    "     * Checks if a number is prime.\n",
    "     * \n",
    "     * @param num The number to check.\n",
    "     * @return true if the number is prime, false otherwise.\n",
    "     */\n",
    "    public static boolean isPrime(int num) {\n",
    "        // Numbers less than or equal to 1 are not prime numbers\n",
    "        if (num <= 1) return false;\n",
    "        \n",
    "        // 2 and 3 are prime numbers\n",
    "        if (num <= 3) return true;\n",
    "        \n",
    "        // Eliminate even numbers greater than 2 and multiples of 3\n",
    "        if (num % 2 == 0 || num % 3 == 0) return false;\n",
    "        \n",
    "        // Check for factors from 5 up to the square root of num\n",
    "        // Increment by 6 to check numbers of the form 6k ± 1\n",
    "        for (int i = 5; i * i <= num; i += 6) {\n",
    "            // Check divisibility by i and i + 2\n",
    "            if (num % i == 0 || num % (i + 2) == 0) return false;\n",
    "        }\n",
    "        \n",
    "        // If no factors were found, num is prime\n",
    "        return true;\n",
    "    }\n",
    "\n",
    "    /**\n",
    "     * Counts the number of prime numbers in a 2D array.\n",
    "     * \n",
    "     * @param array The 2D array of integers to check.\n",
    "     * @return The count of prime numbers in the array.\n",
    "     */\n",
    "    public static int countPrimes(int[][] array) {\n",
    "        int primeCount = 0; // Initialize count of prime numbers\n",
    "\n",
    "        // Iterate over each row in the 2D array\n",
    "        for (int[] row : array) {\n",
    "            // Iterate over each element in the row\n",
    "            for (int num : row) {\n",
    "                // Check if the current number is prime\n",
    "                if (isPrime(num)) {\n",
    "                    primeCount++; // Increment count if prime\n",
    "                }\n",
    "            }\n",
    "        }\n",
    "\n",
    "        // Return the total count of prime numbers\n",
    "        return primeCount;\n",
    "    }\n",
    "}\n",
    "\n",
    "// Test the PrimeNumberCounter class\n",
    "public class TestPrimeNumberCounter {\n",
    "    public static void main(String[] args) {\n",
    "        // Define a 2D array of integers for testing\n",
    "        int[][] testArray = {\n",
    "            {2, 4, 7, 8},\n",
    "            {11, 13, 17, 19},\n",
    "            {23, 24, 25, 29},\n",
    "            {31, 32, 37, 41}\n",
    "        };\n",
    "\n",
    "        // Count the number of prime numbers in the test array\n",
    "        int primeCount = PrimeNumberCounter.countPrimes(testArray);\n",
    "        // Print the result\n",
    "        System.out.println(\"Number of prime numbers: \" + primeCount);\n",
    "    }\n",
    "}\n",
    "TestPrimeNumberCounter.main(null);\n"
   ]
  },
  {
   "cell_type": "markdown",
   "metadata": {},
   "source": [
    "# Reordering Elements"
   ]
  },
  {
   "cell_type": "code",
   "execution_count": null,
   "metadata": {},
   "outputs": [],
   "source": [
    "public class MatrixRotation {\n",
    "    public static void main(String[] args) {\n",
    "        // Initialize a 3x3 matrix\n",
    "        int[][] matrix = {\n",
    "            {1, 2, 3},\n",
    "            {4, 5, 6},\n",
    "            {7, 8, 9}\n",
    "        };\n",
    "        \n",
    "        // Rotate the matrix 90 degrees clockwise\n",
    "        int[][] rotated = rotateMatrix90Degrees(matrix);\n",
    "        \n",
    "        // Print the rotated matrix\n",
    "        printMatrix(rotated);\n",
    "    }\n",
    "\n",
    "    /**\n",
    "     * Rotates the given square matrix 90 degrees clockwise.\n",
    "     * \n",
    "     * @param matrix The matrix to be rotated\n",
    "     * @return The rotated matrix\n",
    "     */\n",
    "    public static int[][] rotateMatrix90Degrees(int[][] matrix) {\n",
    "        int n = matrix.length;  // Get the size of the matrix\n",
    "        int[][] rotated = new int[n][n];  // Initialize a new matrix for the rotated result\n",
    "        \n",
    "        // Perform the rotation\n",
    "        for (int i = 0; i < n; i++) {\n",
    "            for (int j = 0; j < n; j++) {\n",
    "                // Map the element from the original matrix to the rotated matrix\n",
    "                rotated[j][n - 1 - i] = matrix[i][j];\n",
    "            }\n",
    "        }\n",
    "        return rotated;  // Return the rotated matrix\n",
    "    }\n",
    "    \n",
    "    /**\n",
    "     * Prints the given matrix to the console.\n",
    "     * \n",
    "     * @param matrix The matrix to be printed\n",
    "     */\n",
    "    public static void printMatrix(int[][] matrix) {\n",
    "        // Loop through each row of the matrix\n",
    "        for (int[] row : matrix) {\n",
    "            // Loop through each element in the row\n",
    "            for (int element : row) {\n",
    "                // Print the element followed by a space\n",
    "                System.out.print(element + \" \");\n",
    "            }\n",
    "            // Print a newline after each row\n",
    "            System.out.println();\n",
    "        }\n",
    "    }\n",
    "}\n",
    "MatrixRotation.main(null);\n"
   ]
  },
  {
   "cell_type": "markdown",
   "metadata": {},
   "source": [
    "## Popcorn Hack\n",
    "Write a program in Java that allows you to find the number of elements in an array that are less than a certain input k.\n"
   ]
  },
  {
   "cell_type": "code",
   "execution_count": null,
   "metadata": {},
   "outputs": [
    {
     "name": "stdout",
     "output_type": "stream",
     "text": [
      "Enter a number k: Number of elements less than 5: 3\n"
     ]
    }
   ],
   "source": [
    "import java.util.Scanner;\n",
    "\n",
    "public class Main {\n",
    "    \n",
    "    public static void main(String[] args) {\n",
    "        Scanner scanner = new Scanner(System.in);\n",
    "        \n",
    "        // Sample array\n",
    "        int[] arr = {1, 5, 3, 8, 12, 7, 4, 10, 14, 6};\n",
    "        \n",
    "        // Get user input for k\n",
    "        System.out.print(\"Enter a number k: \");\n",
    "        int k = scanner.nextInt();\n",
    "        \n",
    "        int count = countLessThanK(arr, k);\n",
    "        \n",
    "        // Display the result\n",
    "        System.out.println(\"Number of elements less than \" + k + \": \" + count);\n",
    "        \n",
    "        scanner.close();\n",
    "    }\n",
    "\n",
    "    // Function to count elements less than k\n",
    "    static int countLessThanK(int[] arr, int k) {\n",
    "        int count = 0;\n",
    "        for (int num : arr) {\n",
    "            if (num < k) {\n",
    "                count++;\n",
    "            }\n",
    "        }\n",
    "        return count;\n",
    "    }\n",
    "}\n",
    "Main.main(null);"
   ]
  },
  {
   "cell_type": "markdown",
   "metadata": {},
   "source": [
    "## Alternate Resources \n",
    "\n",
    "##### Past CSA FRQs on Algorithms Applied to 2D Arrays\n",
    "\n",
    "1. **[2014 FRQ](https://secure-media.collegeboard.org/digitalServices/pdf/ap/ap14_frq_computer_science_a.pdf)** - Problem 3: This problem involves working with a 2D array containing names and the number of absences of students. The 2D array has to be traversed and searched for all elements that satisfy a certain property.\n",
    "\n",
    "2. **[2015 FRQ](https://secure-media.collegeboard.org/digitalServices/pdf/ap/ap15_frq_computer_science_a.pdf)** - Problem 1: This problem requires basic summation of entries in the 2D array and proceeds to require a more mathematically advanced algorithm in part (c).\n",
    "\n",
    "3. **[2017 FRQ](https://apcentral.collegeboard.org/media/pdf/ap-computer-science-a-frq-2017.pdf)** - Problem 4: This FRQ begins with a traversal of a 2D array to find the position of a certain integer and then proceeds to a problem of finding the number of possible subarrays within that grid.\n"
   ]
  },
  {
   "cell_type": "markdown",
   "metadata": {},
   "source": [
    "# Homework Hack\n",
    "\n",
    "## CB 2021 FRQ Question 4a\n",
    "<a href = \"https://apcentral.collegeboard.org/media/pdf/ap21-frq-computer-science-a.pdf\">Link</a>\n",
    "\n",
    "<img src = \"{{site.baseurl}}/images/u8-p1-assets/qp1.png\">\n",
    "\n",
    "\n",
    "\n",
    "<img src = \"{{site.baseurl}}/images/u8-p1-assets/qp2.png\">\n",
    "\n"
   ]
  },
  {
   "cell_type": "code",
   "execution_count": null,
   "metadata": {},
   "outputs": [
    {
     "ename": "CompilationException",
     "evalue": "",
     "output_type": "error",
     "traceback": [
      "\u001b[1m\u001b[30m|   \u001b[1m\u001b[30m    \u001b[0m\u001b[1m\u001b[30m\u001b[41m{ /* to be implemented in part (a) */ }\u001b[0m\u001b[1m\u001b[30m\u001b[0m",
      "\u001b[1m\u001b[31mmissing return statement\u001b[0m",
      "",
      "\u001b[1m\u001b[30m|   \u001b[1m\u001b[30m    \u001b[0m\u001b[1m\u001b[30m\u001b[41m{ /* implementation not shown */ }\u001b[0m\u001b[1m\u001b[30m\u001b[0m",
      "\u001b[1m\u001b[31mmissing return statement\u001b[0m",
      "",
      "\u001b[1m\u001b[30m|   \u001b[1m\u001b[30m    \u001b[0m\u001b[1m\u001b[30m\u001b[41m{ /* to be implemented in part (b) */ }\u001b[0m\u001b[1m\u001b[30m\u001b[0m",
      "\u001b[1m\u001b[31mmissing return statement\u001b[0m",
      ""
     ]
    }
   ],
   "source": [
    "public class ArrayResizer\n",
    "{\n",
    "    /** Returns true if and only if every value in row r of array2D is non-zero.\n",
    "     *  Precondition: r is a valid row index in array2D.\n",
    "     *  Postcondition: array2D is unchanged.\n",
    "     */\n",
    "    public static boolean isNonZeroRow(int[][] array2D, int r)\n",
    "    { /* to be implemented in part (a) */ }\n",
    "\n",
    "    /** Returns the number of rows in array2D that contain all non-zero values.\n",
    "     *  Postcondition: array2D is unchanged.\n",
    "     */\n",
    "    public static int numNonZeroRows(int[][] array2D)\n",
    "    { /* implementation not shown */ }\n",
    "\n",
    "    /** Returns a new, possibly smaller, two-dimensional array that contains only rows\n",
    "     *  from array2D with no zeros, as described in part (b).\n",
    "     *  Precondition: array2D contains at least one column and at least one row with no zeros.\n",
    "     *  Postcondition: array2D is unchanged.\n",
    "     */\n",
    "    public static int[][] resize(int[][] array2D)\n",
    "    { /* to be implemented in part (b) */ }\n",
    "}"
   ]
  },
  {
   "cell_type": "code",
   "execution_count": null,
   "metadata": {},
   "outputs": [],
   "source": [
    "public static boolean isNonZeroRow(int[][] array2D, int r) {\n",
    "    for (int i = 0; i < array2D[r].length; i++) {\n",
    "        if (array2D[r][i] == 0) {\n",
    "            return false;\n",
    "        }\n",
    "    }\n",
    "    return true;\n",
    "}"
   ]
  },
  {
   "cell_type": "code",
   "execution_count": null,
   "metadata": {},
   "outputs": [],
   "source": [
    "/*extra check to ensure everything is right by printing the test arrays */"
   ]
  },
  {
   "cell_type": "code",
   "execution_count": null,
   "metadata": {},
   "outputs": [
    {
     "name": "stdout",
     "output_type": "stream",
     "text": [
      "false\n",
      "true\n",
      "false\n",
      "true\n"
     ]
    }
   ],
   "source": [
    "{% raw %}\n",
    "int[][] arr = {{2, 1, 0},\n",
    "               {1, 3, 2},\n",
    "               {0, 0, 0},\n",
    "               {4, 5, 6}};\n",
    "System.out.println(ArrayResizer.isNonZeroRow(arr, 0));\n",
    "System.out.println(ArrayResizer.isNonZeroRow(arr, 1)); \n",
    "System.out.println(ArrayResizer.isNonZeroRow(arr, 2));\n",
    "System.out.println(ArrayResizer.isNonZeroRow(arr, 3)); \n",
    "{% endraw %}\n"
   ]
  }
 ],
 "metadata": {
  "kernelspec": {
   "display_name": "Java",
   "language": "java",
   "name": "java"
  },
  "language_info": {
   "codemirror_mode": "java",
   "file_extension": ".jshell",
   "mimetype": "text/x-java-source",
   "name": "java",
   "pygments_lexer": "java",
   "version": "17.0.12+7-Ubuntu-1ubuntu222.04"
  },
  "orig_nbformat": 4
 },
 "nbformat": 4,
 "nbformat_minor": 2
}
