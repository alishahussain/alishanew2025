{
 "cells": [
  {
   "cell_type": "markdown",
   "metadata": {},
   "source": [
    "---\n",
    "layout: post\n",
    "title: Unit 4 - Iteration P1 \n",
    "categories: [Collaboration]\n",
    "courses: {'csa': {'week': 6}}\n",
    "toc: true\n",
    "comments: true\n",
    "author: hanlun, saaras, arthur, miheer, eshaan, beijan\n",
    "---"
   ]
  },
  {
   "cell_type": "markdown",
   "metadata": {},
   "source": [
    "### Collegeboard Resources for loops/iteration\n",
    " - [AP Classroom](https://apclassroom.collegeboard.org/8/home?unit=4)\n",
    "\n",
    " ## AP Computer Science A - Unit 4 Home Page\n",
    "\n",
    "Welcome to Unit 4! In this unit, we will explore various concepts of **Iteration** in Java, focusing on while, for, for each, do while loops and string manipulation\n",
    "\n",
    "### Learning Goals:\n",
    "- Understand how to declare, initialize, loops\n",
    "- Learn how to iterate through strings\n",
    "- Practice writing algorithms that use iteration\n",
    "\n",
    "### Key Topics:\n",
    "Topic 4.1 - while Loops\n",
    "Topic 4.2 - for Loops\n",
    "Topic 4.3 - Developing Algorithms Using Strings\n",
    "Topic 4.4 - Nested Iteration\n",
    " "
   ]
  },
  {
   "cell_type": "markdown",
   "metadata": {},
   "source": [
    "## 4.1 While Loops\n",
    "While loops run until the given condition is false. Format of loop below.\n"
   ]
  },
  {
   "cell_type": "code",
   "execution_count": 18,
   "metadata": {
    "vscode": {
     "languageId": "java"
    }
   },
   "outputs": [
    {
     "name": "stdout",
     "output_type": "stream",
     "text": [
      "0\n",
      "1\n",
      "2\n",
      "3\n",
      "4\n"
     ]
    }
   ],
   "source": [
    "int index = 0; // iterating value\n",
    "while (index < 5) { // condition, if this is false, the loop terminates\n",
    "    System.out.println(index); // body code\n",
    "    index++; // iterates the iterating value\n",
    "}"
   ]
  },
  {
   "cell_type": "code",
   "execution_count": 19,
   "metadata": {
    "vscode": {
     "languageId": "java"
    }
   },
   "outputs": [
    {
     "ename": "CompilationException",
     "evalue": "",
     "output_type": "error",
     "traceback": [
      "\u001b[1m\u001b[30m|   \u001b[1m\u001b[30m\u001b[0m\u001b[1m\u001b[30m\u001b[41m\u001b[0m\u001b[1m\u001b[30m# Python Version\u001b[0m",
      "\u001b[1m\u001b[31millegal character: '#'\u001b[0m",
      "",
      "\u001b[1m\u001b[30m|   \u001b[1m\u001b[30mi=0\u001b[0m\u001b[1m\u001b[30m\u001b[41m\u001b[0m\u001b[1m\u001b[30m\u001b[0m",
      "\u001b[1m\u001b[31m';' expected\u001b[0m",
      ""
     ]
    }
   ],
   "source": [
    "# Python Version\n",
    "i=0\n",
    "while (i<5):\n",
    "    print(i)\n",
    "    i+=1"
   ]
  },
  {
   "cell_type": "markdown",
   "metadata": {},
   "source": [
    "## Explanation\n",
    "- in the above while loop: \n",
    "    - index is the incrementing variable\n",
    "    - index < 5 is the condition (once index < 5 is false, this loop breaks)\n",
    "    - System.out.println(i); is the body code that runs every time the loop iterates\n",
    "    - index++; is incrementing the incrementing variable"
   ]
  },
  {
   "cell_type": "markdown",
   "metadata": {},
   "source": [
    "## Do While Loops:\n",
    "- This type of while loop runs the block inside the do{} statement once, then iterates through the loop\n",
    "- this ensures that the code runs at least once\n",
    "\n",
    "### Example of Do While loop below"
   ]
  },
  {
   "cell_type": "code",
   "execution_count": null,
   "metadata": {
    "vscode": {
     "languageId": "java"
    }
   },
   "outputs": [],
   "source": [
    "int i = 0; // iterating value\n",
    "do { // this makes sure the code runs at least once\n",
    "    System.out.println(i); // body code\n",
    "    i++; // iterates the iterating value\n",
    "} while (i < 5); // condition, if this is false, loop terminates"
   ]
  },
  {
   "cell_type": "markdown",
   "metadata": {},
   "source": [
    "## Explanation:\n",
    "- in the above loop:\n",
    "    - code inside of the do{} statement runs at least once, then keeps on running as long as the condition, i<5, is true.\n",
    "    - similarly to the normal while loop, there is body code, and there is an incrementing variable "
   ]
  },
  {
   "cell_type": "markdown",
   "metadata": {},
   "source": [
    "## IMPORTANT:\n",
    "- While loops to not have to have an incrementing variable, for example, you can have a loop that iterates as long as there are items present in a list"
   ]
  },
  {
   "cell_type": "code",
   "execution_count": null,
   "metadata": {
    "vscode": {
     "languageId": "java"
    }
   },
   "outputs": [],
   "source": [
    "ArrayList<Integer> list = new ArrayList<>();\n",
    "list.add(10);\n",
    "list.add(20);\n",
    "list.add(30);\n",
    "list.add(40);\n",
    "\n",
    "System.out.println(list + \" before loop!!\");\n",
    "while (!list.isEmpty()) {\n",
    "    System.out.println(\"Element: \" + list.remove(0));\n",
    "}\n",
    "System.out.println(list + \" after loop!!\");"
   ]
  },
  {
   "cell_type": "markdown",
   "metadata": {},
   "source": [
    "### Fun While Loop Hack:\n",
    "- find and fix the missing increment in the while loop"
   ]
  },
  {
   "cell_type": "code",
   "execution_count": 3,
   "metadata": {
    "vscode": {
     "languageId": "java"
    }
   },
   "outputs": [
    {
     "name": "stdout",
     "output_type": "stream",
     "text": [
      "0\n",
      "1\n",
      "2\n",
      "3\n",
      "4\n"
     ]
    }
   ],
   "source": [
    "int i = 0;\n",
    "while (i < 5) {\n",
    "    System.out.println(i);\n",
    "    i++;\n",
    "}"
   ]
  },
  {
   "cell_type": "markdown",
   "metadata": {},
   "source": [
    "## 4.2 For Loops\n",
    "Similar to while loops, for loops run until a condition is false. Format of for loop below: "
   ]
  },
  {
   "cell_type": "code",
   "execution_count": null,
   "metadata": {
    "vscode": {
     "languageId": "java"
    }
   },
   "outputs": [],
   "source": [
    "for (int i = 0; i < 5; i++) {\n",
    "    System.out.println(i);\n",
    "}"
   ]
  },
  {
   "cell_type": "markdown",
   "metadata": {},
   "source": [
    "## Explanation\n",
    "- in the above for loop: \n",
    "    - int i = 0 defines the iterating variable\n",
    "    - i < 5 is the condition (once i < 5 is false, this loop breaks)\n",
    "    - i++ is the incrementation of the iterating variable\n",
    "    - System.out.println(i); is the body code that runs every time the loop iterates"
   ]
  },
  {
   "cell_type": "markdown",
   "metadata": {},
   "source": [
    "## For Each Loops:\n",
    "- Apart from iterating using an incrementing variable, you can also iterate through items in a list.\n",
    "### Example of For Each loop below"
   ]
  },
  {
   "cell_type": "code",
   "execution_count": null,
   "metadata": {
    "vscode": {
     "languageId": "java"
    }
   },
   "outputs": [],
   "source": [
    "int[] list = {1, 2, 3, 4, 5}; // any list\n",
    "for (int item : list) { // for each item in the list, execute the body\n",
    "    System.out.println(item); // body code\n",
    "}"
   ]
  },
  {
   "cell_type": "code",
   "execution_count": null,
   "metadata": {
    "vscode": {
     "languageId": "java"
    }
   },
   "outputs": [],
   "source": [
    "#python version\n",
    "array=[1, 2, 3, 4, 5]\n",
    "for i in array:\n",
    "    print(i)"
   ]
  },
  {
   "cell_type": "markdown",
   "metadata": {},
   "source": [
    "## Explanation:\n",
    "- in the above loop:\n",
    "    - int item : list - this line is saying that for each item in the list, execute code below\n",
    "    - System.out.println(num); - this line is the body code."
   ]
  },
  {
   "cell_type": "markdown",
   "metadata": {},
   "source": [
    "### Fun For Loop Hack:\n",
    "Create a program that iterates through a list of numbers (int_list = {0, 4, 51, 83, 92, 10, 123, 145}) using both a for loop and a for each loop, then split the numbers in the list into even/odd lists, and output them.\n"
   ]
  },
  {
   "cell_type": "markdown",
   "metadata": {},
   "source": [
    "## 4.3 String Iteration\n",
    "simple for loop to iterate through every character using index with `charAt()`:"
   ]
  },
  {
   "cell_type": "code",
   "execution_count": 6,
   "metadata": {
    "vscode": {
     "languageId": "java"
    }
   },
   "outputs": [
    {
     "name": "stdout",
     "output_type": "stream",
     "text": [
      "h\n",
      "e\n",
      "l\n",
      "l\n",
      "o\n"
     ]
    }
   ],
   "source": [
    "String word = \"hello\";\n",
    "for (int i = 0; i < word.length(); i++) {\n",
    "    System.out.println(word.charAt(i));\n",
    "}"
   ]
  },
  {
   "cell_type": "markdown",
   "metadata": {},
   "source": [
    "in order to use an enhanced for loop, a character array is needed. <br>\n",
    "`toCharArray()` can help accomplish this. <br>\n",
    "example of iteration with an enhanced for loop:"
   ]
  },
  {
   "cell_type": "code",
   "execution_count": 5,
   "metadata": {
    "vscode": {
     "languageId": "java"
    }
   },
   "outputs": [
    {
     "name": "stdout",
     "output_type": "stream",
     "text": [
      "h\n",
      "e\n",
      "l\n",
      "l\n",
      "o\n"
     ]
    }
   ],
   "source": [
    "String word = \"hello\";\n",
    "for (char c : word.toCharArray()) {\n",
    "    System.out.println(c);\n",
    "}"
   ]
  },
  {
   "cell_type": "markdown",
   "metadata": {},
   "source": [
    "### Popcorn Hack:\n",
    "Iterate through the characters a string with a `while` loop"
   ]
  },
  {
   "cell_type": "code",
   "execution_count": 16,
   "metadata": {
    "vscode": {
     "languageId": "java"
    }
   },
   "outputs": [],
   "source": [
    "public class PopcornHack1 {\n",
    "    public static void main(String[] args) {\n",
    "        String word = \"hello\";\n",
    "        int i = 0;\n",
    "\n",
    "        while (i < word.length()) {\n",
    "            System.out.println(word.charAt(i));\n",
    "            i++;\n",
    "        }\n",
    "    }\n",
    "}"
   ]
  },
  {
   "cell_type": "markdown",
   "metadata": {},
   "source": [
    "### What is a substring?\n",
    "- a substring is a subset of the main string\n",
    "- the substring(a,b) method creates a substring with the characters of the original string with indices of a to b.\n",
    "- string.length() returns the length of the string\n",
    "- string1.equals(string2) determines if the two strings have the same characters"
   ]
  },
  {
   "cell_type": "code",
   "execution_count": null,
   "metadata": {
    "vscode": {
     "languageId": "java"
    }
   },
   "outputs": [],
   "source": [
    "String word = \"sunflower\";\n",
    "String sub = \"low\";\n",
    "boolean found = false;\n",
    "for (int i = 0; i < word.length(); i++) {\n",
    "    String portion = word.substring(i, i+sub.length());\n",
    "    if (portion.equals(sub)){\n",
    "        found = true;\n",
    "    }\n",
    "}\n",
    "\n",
    "System.out.println(\"is \" + )"
   ]
  },
  {
   "cell_type": "markdown",
   "metadata": {},
   "source": [
    "### Iterating through words\n",
    "use `split()` to split a string into an array.<br>\n",
    "then we can iterate through the array to access each individual word"
   ]
  },
  {
   "cell_type": "code",
   "execution_count": 1,
   "metadata": {
    "vscode": {
     "languageId": "java"
    }
   },
   "outputs": [
    {
     "name": "stdout",
     "output_type": "stream",
     "text": [
      "this\n",
      "is\n",
      "a\n",
      "string\n"
     ]
    }
   ],
   "source": [
    "String phrase = \"this is a string\";\n",
    "String[] words = phrase.split(\" \");\n",
    "for (String word : words) {\n",
    "    System.out.println(word);\n",
    "}"
   ]
  },
  {
   "cell_type": "markdown",
   "metadata": {},
   "source": [
    "### Homework Hack!\n",
    "\n",
    "code a caesar cipher that will encrypt any string with any key provided. <br>\n",
    "your code should go into the `encrypt()` method, and should successfully pass the test cases provided<br>\n",
    "as a bonus, try to use StringBuilder"
   ]
  },
  {
   "cell_type": "code",
   "execution_count": 1,
   "metadata": {
    "vscode": {
     "languageId": "java"
    }
   },
   "outputs": [],
   "source": [
    "public class CaesarCipher {\n",
    "    private int key;\n",
    "    private String phrase;\n",
    "\n",
    "    public CaesarCipher(int key, String phrase) {\n",
    "        this.key = key;\n",
    "        this.phrase = phrase;\n",
    "    }\n",
    "\n",
    "    public String encrypt() {\n",
    "        StringBuilder encrypted = new StringBuilder(); // Using StringBuilder for efficient string manipulation\n",
    "        int shift = key % 26; // To handle shifts greater than 26\n",
    "\n",
    "        // Loop through each character of the phrase\n",
    "        for (char c : phrase.toCharArray()) {\n",
    "            if (Character.isLetter(c)) { // Check if the character is a letter\n",
    "                char base = Character.isUpperCase(c) ? 'A' : 'a'; // Determine if it's uppercase or lowercase\n",
    "                char shifted = (char) ((c - base + shift) % 26 + base); // Shift the letter and wrap within alphabet\n",
    "                encrypted.append(shifted); // Append the shifted character to the result\n",
    "            } else {\n",
    "                encrypted.append(c); // Preserve non-letter characters (spaces, punctuation, etc.)\n",
    "            }\n",
    "        }\n",
    "\n",
    "        return encrypted.toString(); // Return the encrypted string\n",
    "    }\n",
    "\n",
    "    public static void main(String[] args) {\n",
    "        System.out.println(\"Starting tests...\"); // Check if the program is running\n",
    "\n",
    "        // Test cases\n",
    "        CaesarCipher test1 = new CaesarCipher(3, \"hello world\");\n",
    "        CaesarCipher test2 = new CaesarCipher(10, \"abcdefg\");\n",
    "        CaesarCipher test3 = new CaesarCipher(20, \"i love csa\");\n",
    "\n",
    "        // Print the results of encryption\n",
    "        System.out.println(\"Test 1: \" + test1.encrypt()); // Expected: khoor zruog\n",
    "        System.out.println(\"Test 2: \" + test2.encrypt()); // Expected: klmnopqrst\n",
    "        System.out.println(\"Test 3: \" + test3.encrypt()); // Expected: c fspi wmu\n",
    "    }\n",
    "}"
   ]
  },
  {
   "cell_type": "markdown",
   "metadata": {},
   "source": [
    "## 4.4 Nested Iteration\n",
    "How to iterate through with a time complexity of O(n^2)"
   ]
  },
  {
   "cell_type": "code",
   "execution_count": 2,
   "metadata": {
    "vscode": {
     "languageId": "java"
    }
   },
   "outputs": [
    {
     "name": "stdout",
     "output_type": "stream",
     "text": [
      "Outer loop iteration: 1\n",
      "    Inner loop iteration: 1\n",
      "    Inner loop iteration: 2\n",
      "    Inner loop iteration: 3\n",
      "Outer loop iteration: 2\n",
      "    Inner loop iteration: 1\n",
      "    Inner loop iteration: 2\n",
      "    Inner loop iteration: 3\n",
      "Outer loop iteration: 3\n",
      "    Inner loop iteration: 1\n",
      "    Inner loop iteration: 2\n",
      "    Inner loop iteration: 3\n"
     ]
    }
   ],
   "source": [
    "for (int i = 1; i <= 3; i++) { // Outer loop\n",
    "    System.out.println(\"Outer loop iteration: \" + i);\n",
    "    for (int j = 1; j <= 3; j++) { // Inner loop\n",
    "        System.out.println(\"    Inner loop iteration: \" + j);\n",
    "        }\n",
    "    }"
   ]
  },
  {
   "cell_type": "markdown",
   "metadata": {},
   "source": [
    "## What is wrong with this code cell(Hack)"
   ]
  },
  {
   "cell_type": "code",
   "execution_count": 4,
   "metadata": {
    "vscode": {
     "languageId": "java"
    }
   },
   "outputs": [
    {
     "name": "stdout",
     "output_type": "stream",
     "text": [
      "Enter the number of rows: 1 2 3 4 \n",
      "1 2 3 \n",
      "1 2 \n",
      "1 \n"
     ]
    }
   ],
   "source": [
    "//Hint: Check the Syntax and look at the equals to signs on the example above\n",
    "\n",
    "import java.util.Scanner;\n",
    "Scanner scanner = new Scanner(System.in);\n",
    "System.out.print(\"Enter the number of rows: \");\n",
    "int rows = scanner.nextInt();\n",
    "for (int i = rows; i>=1; i--) {\n",
    "    for (int j = 1; j <= i; j++) {\n",
    "        System.out.print(j + \" \");\n",
    "    }\n",
    "    System.out.println();\n",
    "    }\n",
    "        \n",
    "scanner.close();"
   ]
  },
  {
   "cell_type": "markdown",
   "metadata": {},
   "source": [
    "Sample input:\n",
    "5\n",
    "\n",
    "Sample Output\n",
    "1 2 3 4 5\n",
    "1 2 3 4\n",
    "1 2 3\n",
    "1 2\n",
    "1\n"
   ]
  },
  {
   "cell_type": "markdown",
   "metadata": {},
   "source": [
    "<img width=\"540\" alt=\"Screenshot 2024-09-19 at 20 45 04\" src=\"https://github.com/user-attachments/assets/ef76eea5-ffa1-432b-9ca0-95c1b9fd002d\">\n",
    "\n",
    "\n",
    "Ans: B, 4*5=20. this is because 8-3=5, so the first loop will run 5 times, and the nested loop will run 4 times because 5-1. "
   ]
  },
  {
   "cell_type": "markdown",
   "metadata": {},
   "source": [
    "### Answer here + One sentence Explanation\n"
   ]
  },
  {
   "cell_type": "markdown",
   "metadata": {},
   "source": [
    "<img width=\"542\" alt=\"Screenshot 2024-09-29 at 15 54 38\" src=\"https://github.com/user-attachments/assets/e3639622-1162-49fa-84fa-8853f5a7c347\">\n",
    "\n",
    "Ans: 24, 8-2=6 and 5-1=4. 6*4=24\n"
   ]
  },
  {
   "cell_type": "markdown",
   "metadata": {},
   "source": [
    "[Video To watch later if you need more help](https://www.youtube.com/watch?v=DgLptGRzFl4)"
   ]
  },
  {
   "cell_type": "markdown",
   "metadata": {},
   "source": [
    "### Cool Usecase of nested loops"
   ]
  },
  {
   "cell_type": "code",
   "execution_count": null,
   "metadata": {
    "vscode": {
     "languageId": "java"
    }
   },
   "outputs": [],
   "source": [
    "\n",
    "    // Define the dimensions\n",
    "    int rows = 5;\n",
    "\n",
    "    // First loop to generate a diamond pattern\n",
    "    System.out.println(\"Diamond Pattern:\");\n",
    "    for (int i = 1; i <= rows; i++) {\n",
    "        // Print spaces for left alignment\n",
    "        for (int j = i; j < rows; j++) {\n",
    "            System.out.print(\" \");\n",
    "        }\n",
    "        // Print asterisks for the upper part of the diamond\n",
    "        for (int k = 1; k <= (2 * i - 1); k++) {\n",
    "            System.out.print(\"*\");\n",
    "        }\n",
    "        System.out.println();\n",
    "    }\n",
    "    for (int i = rows - 1; i >= 1; i--) {\n",
    "        // Print spaces for right alignment\n",
    "        for (int j = rows; j > i; j--) {\n",
    "            System.out.print(\" \");\n",
    "        }\n",
    "        // Print asterisks for the lower part of the diamond\n",
    "        for (int k = 1; k <= (2 * i - 1); k++) {\n",
    "            System.out.print(\"*\");\n",
    "        }\n",
    "        System.out.println();\n",
    "    }\n",
    "\n",
    "    // Second loop: Magic Square (Latin Square)\n",
    "    System.out.println(\"\\nMagic Square (Latin Square):\");\n",
    "    int size = 4;\n",
    "    int[][] magicSquare = new int[size][size];\n",
    "    int num = 1, row = 0, col = size / 2;\n",
    "\n",
    "    while (num <= size * size) {\n",
    "        magicSquare[row][col] = num;\n",
    "        num++;\n",
    "        int newRow = (row - 1 + size) % size;\n",
    "        int newCol = (col + 1) % size;\n",
    "\n",
    "        if (magicSquare[newRow][newCol] != 0) {\n",
    "            row = (row + 1) % size;\n",
    "        } else {\n",
    "            row = newRow;\n",
    "            col = newCol;\n",
    "        }\n",
    "    }\n",
    "\n",
    "    // Print the magic square\n",
    "    for (int[] r : magicSquare) {\n",
    "        for (int c : r) {\n",
    "            System.out.print(c + \"\\t\");\n",
    "        }\n",
    "        System.out.println();\n",
    "    }\n",
    "    \n",
    "    // Third loop: Prime Number Spiral\n",
    "    System.out.println(\"\\nPrime Number Spiral:\");\n",
    "    int spiralSize = 5;\n",
    "    int[][] spiral = new int[spiralSize][spiralSize];\n",
    "    int val = 1, startRow = 0, endRow = spiralSize - 1, startCol = 0, endCol = spiralSize - 1;\n",
    "\n",
    "    while (startRow <= endRow && startCol <= endCol) {\n",
    "        // Fill top row\n",
    "        for (int i = startCol; i <= endCol; i++) {\n",
    "            spiral[startRow][i] = isPrime(val) ? val : 0;\n",
    "            val++;\n",
    "        }\n",
    "        startRow++;\n",
    "\n",
    "        // Fill right column\n",
    "        for (int i = startRow; i <= endRow; i++) {\n",
    "            spiral[i][endCol] = isPrime(val) ? val : 0;\n",
    "            val++;\n",
    "        }\n",
    "        endCol--;\n",
    "\n",
    "        // Fill bottom row\n",
    "        if (startRow <= endRow) {\n",
    "            for (int i = endCol; i >= startCol; i--) {\n",
    "                spiral[endRow][i] = isPrime(val) ? val : 0;\n",
    "                val++;\n",
    "            }\n",
    "            endRow--;\n",
    "        }\n",
    "\n",
    "        // Fill left column\n",
    "        if (startCol <= endCol) {\n",
    "            for (int i = endRow; i >= startRow; i--) {\n",
    "                spiral[i][startCol] = isPrime(val) ? val : 0;\n",
    "                val++;\n",
    "            }\n",
    "            startCol++;\n",
    "        }\n",
    "    }\n",
    "\n",
    "    // Print the spiral\n",
    "    for (int[] r : spiral) {\n",
    "        for (int c : r) {\n",
    "            System.out.print(c + \"\\t\");\n",
    "        }\n",
    "        System.out.println();\n",
    "    }\n",
    "\n",
    "\n",
    "// Method to check if a number is prime\n",
    "static boolean isPrime(int num) {\n",
    "    if (num <= 1) return false;\n",
    "    for (int i = 2; i <= Math.sqrt(num); i++) {\n",
    "        if (num % i == 0) return false;\n",
    "    }\n",
    "    return true;\n",
    "}\n"
   ]
  },
  {
   "cell_type": "markdown",
   "metadata": {},
   "source": [
    "## Unit 4 - Iteration: HW\n",
    "- This is the homework quiz for unit 4, iterations\n",
    "- 4 multiple choice questions\n",
    "- 2 programming hacks\n",
    "- 1 bonus programming hack (required to get above 0.9)"
   ]
  },
  {
   "cell_type": "markdown",
   "metadata": {},
   "source": [
    "### Question 1:\n",
    "What does the following code print?   \n",
    "\n",
    "A. 5 6 7 8 9   \n",
    "\n",
    "B. 4 5 6 7 8 9 10 11 12   \n",
    "\n",
    "C. 3 5 7 9 11   \n",
    "\n",
    "D. 3 4 5 6 7 8 9 10 11 12   \n",
    "\n",
    "<details>\n",
    "<summary>Click to reveal answer:</summary> \n",
    "  D\n",
    "</details>\n",
    "\n",
    "Explain your answer. (explanation is graded not answer)"
   ]
  },
  {
   "cell_type": "markdown",
   "metadata": {},
   "source": [
    "for (int i = 3; i <= 12; i++) {\n",
    "   System.out.print(i + \" \");\n",
    "}"
   ]
  },
  {
   "cell_type": "markdown",
   "metadata": {},
   "source": [
    "### A: The loop iterates from i = 3 to i = 12, and prints each value of i followed by a space."
   ]
  },
  {
   "cell_type": "markdown",
   "metadata": {},
   "source": [
    "### Bonus:\n",
    "- Explain the difference between using a variable like i inside a for loop, vs. using a variable that exists in the code itself for a while loop\n",
    "\n",
    "### A: In a `for` loop, the variable,`i`,  is only exists during the execution of the loop. A `while` loop can use any variable, so it's more flexible but can run forever sometimes"
   ]
  },
  {
   "cell_type": "markdown",
   "metadata": {},
   "source": [
    "### Question 2:\n",
    "How many times does the following method print a \"*\" ?\n",
    "\n",
    "A. 9\n",
    "\n",
    "B. 7\n",
    "\n",
    "C. 8\n",
    "\n",
    "D. 6\n",
    "\n",
    "<details>\n",
    "<summary>Click to reveal answer:</summary> \n",
    "  C\n",
    "</details>\n",
    "\n",
    "Explain your answer. (explanation is graded not answer)"
   ]
  },
  {
   "cell_type": "code",
   "execution_count": null,
   "metadata": {
    "vscode": {
     "languageId": "java"
    }
   },
   "outputs": [],
   "source": [
    "for (int i = 3; i < 11; i++) {\n",
    "    System.out.print(\"*\");\n",
    " }"
   ]
  },
  {
   "cell_type": "markdown",
   "metadata": {},
   "source": [
    "### A: The method prints a `\"*\"` 8 times. the loop starts at `i = 3` and runs while `i` is less than `11`, so 11-3 = 8"
   ]
  },
  {
   "cell_type": "markdown",
   "metadata": {},
   "source": [
    "### Question 3:\n",
    "What does the following code print?\n",
    "\n",
    "A. -4 -3 -2 -1 0\n",
    "\n",
    "B. -5 -4 -3 -2 -1\n",
    "\n",
    "C. 5 4 3 2 1\n",
    "\n",
    "<details>\n",
    "<summary>Click to reveal answer:</summary> \n",
    "  A\n",
    "</details>\n",
    "\n",
    "Explain your answer. (explanation is graded not answer)"
   ]
  },
  {
   "cell_type": "code",
   "execution_count": null,
   "metadata": {
    "vscode": {
     "languageId": "java"
    }
   },
   "outputs": [],
   "source": [
    "int x = -5;\n",
    "while (x < 0)\n",
    "{\n",
    "   x++;\n",
    "   System.out.print(x + \" \");\n",
    "}"
   ]
  },
  {
   "cell_type": "markdown",
   "metadata": {},
   "source": [
    "### A: The answer is A. The while loop increments `x` from `-5` to `0`, printing each value after the increment,  so -4, -3, -2, -1, and 0"
   ]
  },
  {
   "cell_type": "markdown",
   "metadata": {},
   "source": [
    "### Question 4:\n",
    "What does the following code print?\n",
    "\n",
    "A. 20\n",
    "\n",
    "B. 21\n",
    "\n",
    "C. 25\n",
    "\n",
    "D. 30\n",
    "\n",
    "<details>\n",
    "<summary>Click to reveal answer:</summary> \n",
    "  B\n",
    "</details>\n",
    "\n",
    "Explain your answer. (explanation is graded not answer)"
   ]
  },
  {
   "cell_type": "code",
   "execution_count": null,
   "metadata": {
    "vscode": {
     "languageId": "java"
    }
   },
   "outputs": [],
   "source": [
    "int sum = 0;\n",
    "\n",
    "for (int i = 1; i <= 5; i++) {\n",
    "    if (i % 2 == 0) {\n",
    "        sum += i * 2;\n",
    "    } else {\n",
    "        sum += i;\n",
    "    }\n",
    "}\n",
    "\n",
    "System.out.println(sum);"
   ]
  },
  {
   "cell_type": "markdown",
   "metadata": {},
   "source": [
    "### A: The answer is B.  The loop iterates through 1 to 5, adding each odd number as is and each even number multiplied by 2 to the sum, so 1+4+3+8+5=21."
   ]
  },
  {
   "cell_type": "markdown",
   "metadata": {},
   "source": [
    "## Loops HW Hack"
   ]
  },
  {
   "cell_type": "markdown",
   "metadata": {},
   "source": [
    "### Easy Hack\n",
    "- Use a while loop to find the numbers from 1-50 that are divisible by 3 or 5, then store them into a list (make sure to print it out at the end)\n",
    "- Use a for loop to do the same thing detailed above"
   ]
  },
  {
   "cell_type": "markdown",
   "metadata": {},
   "source": [
    "#### While"
   ]
  },
  {
   "cell_type": "code",
   "execution_count": 18,
   "metadata": {
    "vscode": {
     "languageId": "java"
    }
   },
   "outputs": [
    {
     "name": "stdout",
     "output_type": "stream",
     "text": [
      "0\n",
      "3\n",
      "5\n",
      "6\n",
      "9\n",
      "10\n",
      "12\n",
      "15\n",
      "18\n",
      "20\n",
      "21\n",
      "24\n",
      "25\n",
      "27\n",
      "30\n",
      "33\n",
      "35\n",
      "36\n",
      "39\n",
      "40\n",
      "42\n",
      "45\n",
      "48\n",
      "50\n"
     ]
    }
   ],
   "source": [
    "int index = 0;\n",
    "while (index <= 50) { \n",
    "    if (index % 3 == 0 || index % 5 == 0) { \n",
    "        System.out.println(index); \n",
    "    }\n",
    "    index++;\n",
    "}"
   ]
  },
  {
   "cell_type": "markdown",
   "metadata": {},
   "source": [
    "##### For"
   ]
  },
  {
   "cell_type": "code",
   "execution_count": 19,
   "metadata": {
    "vscode": {
     "languageId": "java"
    }
   },
   "outputs": [
    {
     "name": "stdout",
     "output_type": "stream",
     "text": [
      "0\n",
      "3\n",
      "5\n",
      "6\n",
      "9\n",
      "10\n",
      "12\n",
      "15\n",
      "18\n",
      "20\n",
      "21\n",
      "24\n",
      "25\n",
      "27\n",
      "30\n",
      "33\n",
      "35\n",
      "36\n",
      "39\n",
      "40\n",
      "42\n",
      "45\n",
      "48\n",
      "50\n"
     ]
    }
   ],
   "source": [
    "for (int index = 0; index <= 50; index++) {\n",
    "    if (index % 3 == 0 || index % 5 == 0) { \n",
    "        System.out.println(index);\n",
    "    }\n",
    "}"
   ]
  },
  {
   "cell_type": "markdown",
   "metadata": {},
   "source": [
    "### Harder Hack\n",
    "#### Palindromes are numbers that have the same value when reversed (ex: “123321” or “323”). Create a program that uses a while loop that outputs all palindromes in any given list. \n",
    "\n",
    "Sample Input: \n",
    "test_list = [5672, 235, 5537, 6032, 317, 8460, 1672, 8104, 7770, 4442, 913, 2508, 1116, 9969, 9091, 522, 8756, 9527, 7968, 1520, 4444, 515, 2882, 6556, 595]\n",
    "\n",
    "Sample Output:\n",
    "4444, 515, 2882, 6556, 595"
   ]
  },
  {
   "cell_type": "code",
   "execution_count": 23,
   "metadata": {
    "vscode": {
     "languageId": "java"
    }
   },
   "outputs": [],
   "source": [
    "public class Main {\n",
    "    public static void main(String[] args) {\n",
    "        int[] test_list = {5672, 235, 5537, 6032, 317, 8460, 1672, 8104, 7770, 4442, 913, 2508, 1116, 9969, 9091, 522, 8756, 9527, 7968, 1520, 4444, 515, 2882, 6556, 595};\n",
    "        int i = 0;\n",
    "\n",
    "        while (i < test_list.length) {\n",
    "            int num = test_list[i];\n",
    "            int original = num;\n",
    "            int reversed = 0;\n",
    "\n",
    "            // Reverse the digits of the current number\n",
    "            while (num != 0) {\n",
    "                int digit = num % 10;\n",
    "                reversed = reversed * 10 + digit;\n",
    "                num /= 10;\n",
    "            }\n",
    "\n",
    "            // Check if the original number is the same as the reversed number\n",
    "            if (original == reversed) {\n",
    "                System.out.print(original + \" \");\n",
    "            }\n",
    "\n",
    "            i++;\n",
    "        }\n",
    "    }\n",
    "}\n"
   ]
  },
  {
   "cell_type": "markdown",
   "metadata": {},
   "source": [
    "## Bonus Hack (for above 0.9)\n",
    "### Use a for loop to output a spiral matrix with size n\n",
    "Example:\n",
    "\n",
    "Sample Input: n = 3\n",
    "\n",
    "Output: [[1, 2, 3], [8, 9, 4], [7, 6, 5]]"
   ]
  }
 ],
 "metadata": {
  "kernelspec": {
   "display_name": "Java",
   "language": "java",
   "name": "java"
  },
  "language_info": {
   "codemirror_mode": "java",
   "file_extension": ".jshell",
   "mimetype": "text/x-java-source",
   "name": "Java",
   "pygments_lexer": "java",
   "version": "17.0.12+8-LTS-286"
  }
 },
 "nbformat": 4,
 "nbformat_minor": 2
}
