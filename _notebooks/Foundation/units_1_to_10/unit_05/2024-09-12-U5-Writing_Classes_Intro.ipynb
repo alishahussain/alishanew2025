{
 "cells": [
  {
   "cell_type": "markdown",
   "metadata": {
    "vscode": {
     "languageId": "raw"
    }
   },
   "source": [
    "---\n",
    "layout: post\n",
    "title: Unit 5 - Writing Classes P1 \n",
    "categories: ccc\n",
    "courses: {'csa': {'week': 6}}\n",
    "toc: true\n",
    "comments: true\n",
    "author: Nisarg, Imaad, Tanay, Dinesh\n",
    "permalink: csa/period1/unit5/intro\n",
    "menu: nav/CSA_Units/csa_unit5_p1.html\n",
    "---"
   ]
  },
  {
   "cell_type": "markdown",
   "metadata": {},
   "source": [
    "# What will we be teaching?\n",
    "We will be teaching Unit 5, Writing Classes. We will explore the anatomy of a class, fields, methods, and constructors. We will learn how constructors initialize objects and the different types, how mutators (setters) modify object properties, and how static variables belong to the class rather than any instance. By the end, there will be a solid understanding of how to create and manage objects efficiently in Java\n",
    "\n",
    "# Unit 5 Topics For Learning:\n",
    "- 5.1 Anatomy of a Class\n",
    "- 5.2 Constructors \n",
    "- 5.4 Accessor Methods\n",
    "- 5.5 Mutator \n",
    "- 5.7 Static Variables and Methods \n",
    "\n",
    "# Why do we need to write classes?\n",
    "Writing classes in Java is essential because it allows you to organize your code into reusable, modular components. Think of a class as a blueprint for creating objects. Without classes, your code would be cluttered and difficult to manage, especially as projects grow larger. Why not just write all your code in one place? Well, that would make it hard to maintain and update, leading to errors and inefficiency. Classes enable you to encapsulate data and behavior, making your code more flexible, scalable, and easier to troubleshoot. This structured approach is key for building complex, real-world applications.\n",
    "\n",
    "# Homework Assignment: Constructors, Mutators, Accessors, and Static Variables in Java\n",
    "\n",
    "## Objective:\n",
    "Create a `BankAccount` class to practice working with constructors, mutators (setters), accessors (getters), and static variables in Java.\n",
    "\n",
    "## Instructions:\n",
    "\n",
    "### Class: `BankAccount`\n",
    "- **Instance Variables:**\n",
    "  - `String accountHolderName`\n",
    "  - `double balance`\n",
    "- **Static Variable:**\n",
    "  - `static int totalAccounts` (tracks the number of accounts created)\n",
    "\n",
    "### Constructors:\n",
    "- **Default constructor:** Sets `accountHolderName` to `\"Unknown\"` and `balance` to `0.0`.\n",
    "- **Parameterized constructor:** Accepts `accountHolderName` and `balance` as parameters.\n",
    "- Both constructors should increment `totalAccounts`.\n",
    "\n",
    "### Mutator Methods:\n",
    "- `void setAccountHolderName(String name)`: Updates the account holder's name.\n",
    "- `void deposit(double amount)`: Adds money to the balance.\n",
    "- `void withdraw(double amount)`: Subtracts money from the balance (if funds are available).\n",
    "\n",
    "### Accessor Methods:\n",
    "- `String getAccountHolderName()`: Returns the account holder's name.\n",
    "- `double getBalance()`: Returns the account balance.\n",
    "- `static int getTotalAccounts()`: Returns the total number of accounts created.\n",
    "\n",
    "### Main Program (`BankApp`):\n",
    "- Create three `BankAccount` objects.\n",
    "- Modify account holder names and balances using setters.\n",
    "- Print account details using getters.\n",
    "- Display the total number of accounts created.\n",
    "\n",
    "### Example Output:\n",
    "\n",
    "```\n",
    "Account Holder: Alice  \n",
    "Balance: 500.0\n",
    "\n",
    "Account Holder: Bob  \n",
    "Balance: 1000.0\n",
    "\n",
    "Account Holder: Charlie  \n",
    "Balance: 750.0\n",
    "\n",
    "Total number of accounts created: 3\n",
    "```\n",
    "\n",
    "### Submission:\n",
    "Submit a Jupyter Notebook file containing your final code."
   ]
  },
  {
   "cell_type": "markdown",
   "metadata": {},
   "source": [
    "# Anatomy of a Class\n",
    "This notebook will explain the structure of a class in Java, including attributes, methods, and instantiation. It will also include examples and a mini-project that requires fixing broken code."
   ]
  },
  {
   "cell_type": "markdown",
   "metadata": {},
   "source": [
    "![Class Anatomy Diagram](https://jordanblakey.github.io/all_development_notes_2015-2017/Learning%20Java_files/Image.png)"
   ]
  },
  {
   "cell_type": "markdown",
   "metadata": {},
   "source": [
    "## 1. Introduction to Classes\n",
    "- A class in Java is a blueprint for creating objects. It defines a data structure that includes methods and attributes.\n",
    "- Example:\n",
    "\n",
    "\n"
   ]
  },
  {
   "cell_type": "code",
   "execution_count": 28,
   "metadata": {
    "vscode": {
     "languageId": "java"
    }
   },
   "outputs": [],
   "source": [
    "public class Car {\n",
    "    // Attributes\n",
    "    String model;\n",
    "    int year;\n",
    "\n",
    "    // Method\n",
    "    void drive() {\n",
    "        System.out.println(\"Driving the car.\");\n",
    "    }\n",
    "}\n"
   ]
  },
  {
   "cell_type": "markdown",
   "metadata": {},
   "source": [
    "This `Car` class has attributes `model` and `year`, and a method `drive()` that prints a message."
   ]
  },
  {
   "cell_type": "markdown",
   "metadata": {},
   "source": [
    "## 2. Attributes and Methods\n",
    "- Attributes (or fields) are variables that belong to an object.\n",
    "- Methods are functions that belong to a class.\n",
    "- Example:\n",
    "\n"
   ]
  },
  {
   "cell_type": "raw",
   "metadata": {
    "vscode": {
     "languageId": "raw"
    }
   },
   "source": [
    "\n",
    "public class Person {\n",
    "    // Attributes\n",
    "    String name;\n",
    "    int age;\n",
    "\n",
    "    // Method\n",
    "    void greet() {\n",
    "        System.out.println(\"Hello, my name is \" + name);\n",
    "    }\n",
    "}"
   ]
  },
  {
   "cell_type": "markdown",
   "metadata": {},
   "source": [
    "In this `Person` class, `name` and `age` are attributes, and `greet()` is a method."
   ]
  },
  {
   "cell_type": "markdown",
   "metadata": {},
   "source": [
    "## 3. Constructor\n",
    "- Constructors are special methods used to initialize objects.\n",
    "- They have the same name as the class and do not have a return type.\n",
    "- Example:\n",
    "\n",
    "\n"
   ]
  },
  {
   "cell_type": "code",
   "execution_count": 29,
   "metadata": {
    "vscode": {
     "languageId": "java"
    }
   },
   "outputs": [],
   "source": [
    "public class Person {\n",
    "    String name;\n",
    "    int age;\n",
    "\n",
    "    // Constructor\n",
    "    public Person(String name, int age) {\n",
    "        this.name = name;\n",
    "        this.age = age;\n",
    "    }\n",
    "\n",
    "    void greet() {\n",
    "        System.out.println(\"Hello, my name is \" + name);\n",
    "    }\n",
    "}\n"
   ]
  },
  {
   "cell_type": "markdown",
   "metadata": {},
   "source": [
    "This `Person` class includes a constructor to initialize `name` and `age`."
   ]
  },
  {
   "cell_type": "markdown",
   "metadata": {},
   "source": [
    "## 4. Class vs. Instance Variables\n",
    "- **Instance variables** are attributes specific to each object.\n",
    "- **Class variables** (static variables) are shared among all instances of the class.\n",
    "- Example:\n",
    "\n",
    "\n"
   ]
  },
  {
   "cell_type": "code",
   "execution_count": 30,
   "metadata": {
    "vscode": {
     "languageId": "java"
    }
   },
   "outputs": [],
   "source": [
    "public class Car {\n",
    "    // Class variable\n",
    "    static int numberOfCars = 0;\n",
    "\n",
    "    // Instance variables\n",
    "    String model;\n",
    "    int year;\n",
    "\n",
    "    // Constructor\n",
    "    public Car(String model, int year) {\n",
    "        this.model = model;\n",
    "        this.year = year;\n",
    "        numberOfCars++;\n",
    "    }\n",
    "}\n"
   ]
  },
  {
   "cell_type": "markdown",
   "metadata": {},
   "source": [
    "Here, `numberOfCars` is a class variable that keeps track of how many `Car` objects have been created."
   ]
  },
  {
   "cell_type": "markdown",
   "metadata": {},
   "source": [
    "## 5. Mini Project: Fix the Code\n",
    "- Below is a class with broken code. The goal is to fix the class so it properly initializes and uses instance variables.\n",
    "- Broken code:\n",
    "\n",
    "\n",
    "- **Task**: Debug the `Book` class so it correctly initializes `title` and `author`. Consider how the constructor should be modified."
   ]
  },
  {
   "cell_type": "markdown",
   "metadata": {},
   "source": [
    "public class Book {\n",
    "    String title;\n",
    "    String author;\n",
    "\n",
    "    // Broken constructor\n",
    "    public Book(String title) {\n",
    "        title = title;\n",
    "    }\n",
    "}\n"
   ]
  },
  {
   "cell_type": "markdown",
   "metadata": {},
   "source": [
    "- **Task**: Debug the `Book` class so it correctly initializes `title` and `author`. Consider how the constructor should be modified."
   ]
  },
  {
   "cell_type": "markdown",
   "metadata": {},
   "source": [
    "# Introduction to Constructors in Java\n",
    "\n",
    "## What are Constructors?\n",
    "\n",
    "In Java, a constructor is a special method used to initialize objects. The constructor is called when an object of a class is created. It has the same name as the class and does not return any value, not even `void`.\n",
    "\n",
    "### Key Points:\n",
    "- **Same name as class**: The constructor must have the same name as the class.\n",
    "- **No return type**: Constructors do not return any value.\n",
    "- **Used to initialize objects**: They set initial values for object attributes."
   ]
  },
  {
   "cell_type": "markdown",
   "metadata": {},
   "source": [
    "## Types of Constructors\n",
    "\n",
    "![TypesofConstructors](https://blogger.googleusercontent.com/img/b/R29vZ2xl/AVvXsEh97RjJAncaxhFZGTwEv6054QSXp4LoRPF8BptqAGfuAy-ZmZZ0M5xtVQoqfqv5K9x_999u74zBDkxWzEHBAONyfPPOlFKD8cViqWU2okToQXExlqEK3tH5MnI2VnvlV3rNKjV7nQbsj6E/s1600/constructor+in+java.png)\n",
    "\n",
    "### 1. Default Constructor:\n",
    "A constructor that does not accept any parameters. Java provides a default constructor if you don't define any.\n"
   ]
  },
  {
   "cell_type": "code",
   "execution_count": 31,
   "metadata": {
    "vscode": {
     "languageId": "java"
    }
   },
   "outputs": [
    {
     "name": "stdout",
     "output_type": "stream",
     "text": [
      "Unknown\n"
     ]
    }
   ],
   "source": [
    "class Car {\n",
    "    String brand;\n",
    "    \n",
    "    // Default constructor\n",
    "    Car() {\n",
    "        brand = \"Unknown\";\n",
    "    }\n",
    "}\n",
    "\n",
    "Car myCar = new Car();\n",
    "System.out.println(myCar.brand);  // Outputs: Unknown"
   ]
  },
  {
   "cell_type": "markdown",
   "metadata": {},
   "source": [
    "### 2. Parameterized Constructor:\n",
    "A constructor that takes parameters to initialize object attributes with custom values."
   ]
  },
  {
   "cell_type": "code",
   "execution_count": 32,
   "metadata": {
    "vscode": {
     "languageId": "java"
    }
   },
   "outputs": [
    {
     "name": "stdout",
     "output_type": "stream",
     "text": [
      "Toyota\n"
     ]
    }
   ],
   "source": [
    "class Car {\n",
    "    String brand;\n",
    "\n",
    "    // Parameterized constructor\n",
    "    Car(String b) {\n",
    "        brand = b;\n",
    "    }\n",
    "}\n",
    "\n",
    "Car myCar = new Car(\"Toyota\");\n",
    "System.out.println(myCar.brand);  // Outputs: Toyota"
   ]
  },
  {
   "cell_type": "markdown",
   "metadata": {},
   "source": [
    "### 3. **Constructor Overloading**\n",
    "\n",
    "\n",
    "## Constructor Overloading\n",
    "\n",
    "In Java, you can have more than one constructor in a class. This is known as constructor overloading. Each constructor must have a different parameter list.\n",
    "\n",
    "\n"
   ]
  },
  {
   "cell_type": "code",
   "execution_count": 33,
   "metadata": {
    "vscode": {
     "languageId": "java"
    }
   },
   "outputs": [
    {
     "name": "stdout",
     "output_type": "stream",
     "text": [
      "Unknown 0\n",
      "Ford 2020\n"
     ]
    }
   ],
   "source": [
    "class Car {\n",
    "    String brand;\n",
    "    int year;\n",
    "\n",
    "    // Default constructor\n",
    "    Car() {\n",
    "        brand = \"Unknown\";\n",
    "        year = 0;\n",
    "    }\n",
    "\n",
    "    // Parameterized constructor\n",
    "    Car(String b, int y) {\n",
    "        brand = b;\n",
    "        year = y;\n",
    "    }\n",
    "}\n",
    "Car car1 = new Car();\n",
    "Car car2 = new Car(\"Ford\", 2020);\n",
    "System.out.println(car1.brand + \" \" + car1.year);  // Outputs: Unknown 0\n",
    "System.out.println(car2.brand + \" \" + car2.year);  // Outputs: Ford 2020"
   ]
  },
  {
   "cell_type": "markdown",
   "metadata": {},
   "source": [
    "![Constructors Diagram](https://runestone.academy/ns/books/published/csjava/_images/TurtleClassDefn.png)"
   ]
  },
  {
   "cell_type": "markdown",
   "metadata": {},
   "source": [
    "# Escape Room: Constructor Puzzle\n",
    "\n",
    "You're trapped in a room and the only way out is to unlock a door using your Java constructor knowledge!\n",
    "\n",
    "### Rules:\n",
    "- Each clue is a code snippet related to constructors. Solve the problems to reveal the next clue.\n",
    "- Once you complete all tasks, you will receive the \"escape\" message.\n",
    "\n",
    "### Clue 1: \n",
    "The constructor below is missing a key part. Complete the code so that it runs correctly.\n",
    "\n"
   ]
  },
  {
   "cell_type": "code",
   "execution_count": 1,
   "metadata": {
    "vscode": {
     "languageId": "java"
    }
   },
   "outputs": [
    {
     "name": "stdout",
     "output_type": "stream",
     "text": [
      "1234\n"
     ]
    }
   ],
   "source": [
    "// CLUE  1 \n",
    "\n",
    "class Door {\n",
    "    String lockCode;\n",
    "\n",
    "    // Add the correct constructor here\n",
    "    Door(String lock) {\n",
    "        // Constructor body\n",
    "        lockCode = \"1234\";\n",
    "    }\n",
    "}\n",
    "\n",
    "\n",
    "Door escapeDoor = new Door(\"1234\");\n",
    "System.out.println(escapeDoor.lockCode);  // Should print: 1234\n"
   ]
  },
  {
   "cell_type": "code",
   "execution_count": 2,
   "metadata": {
    "vscode": {
     "languageId": "java"
    }
   },
   "outputs": [
    {
     "name": "stdout",
     "output_type": "stream",
     "text": [
      "Room: Puzzle Room, Area: 500\n"
     ]
    }
   ],
   "source": [
    "//CLUE 2\n",
    "\n",
    "class Room {\n",
    "    String name;\n",
    "    int area;\n",
    "\n",
    "    // Constructor 1\n",
    "    Room(String name) {\n",
    "        this.name = \"Puzzle Room\";\n",
    "    }\n",
    "\n",
    "    // Constructor 2 (missing)\n",
    "    Room(String name, int area) {\n",
    "        this.name = \"Puzzle Room\";\n",
    "        this.area = 500;\n",
    "    }\n",
    "}\n",
    "\n",
    "Room escapeRoom = new Room(\"Puzzle Room\", 500);\n",
    "System.out.println(\"Room: \" + escapeRoom.name + \", Area: \" + escapeRoom.area);  \n",
    "// Should print: Room: Puzzle Room, Area: 500\n"
   ]
  },
  {
   "cell_type": "code",
   "execution_count": 4,
   "metadata": {
    "vscode": {
     "languageId": "java"
    }
   },
   "outputs": [
    {
     "name": "stdout",
     "output_type": "stream",
     "text": [
      "Default Key: Unknown\n",
      "Custom Key: Golden Key\n"
     ]
    }
   ],
   "source": [
    "//CLUE 3\n",
    "class Key {\n",
    "    String keyType;\n",
    "\n",
    "    // Default constructor (to be completed)\n",
    "    Key() {\n",
    "        keyType = \"Unknown\";\n",
    "        // Hint: Initialize keyType to a default value, e.g., \"Unknown\"\n",
    "    }\n",
    "\n",
    "    // Parameterized constructor\n",
    "    Key(String keyType) {\n",
    "        this.keyType = keyType;\n",
    "    }\n",
    "}\n",
    "\n",
    "Key defaultKey = new Key();\n",
    "Key customKey = new Key(\"Golden Key\");\n",
    "\n",
    "System.out.println(\"Default Key: \" + defaultKey.keyType);  // Should print: Unknown\n",
    "System.out.println(\"Custom Key: \" + customKey.keyType);    // Should print: Golden Key\n"
   ]
  },
  {
   "cell_type": "code",
   "execution_count": 5,
   "metadata": {
    "vscode": {
     "languageId": "java"
    }
   },
   "outputs": [
    {
     "name": "stdout",
     "output_type": "stream",
     "text": [
      "Vault Code: X1Y2Z3, Is Locked: true\n"
     ]
    }
   ],
   "source": [
    "//CLUE 4\n",
    "class Vault {\n",
    "    String vaultCode;\n",
    "    boolean isLocked;\n",
    "\n",
    "    // Constructor\n",
    "    Vault(String code, boolean lockStatus) {\n",
    "        vaultCode = code;\n",
    "        isLocked = lockStatus;\n",
    "    }\n",
    "}\n",
    "\n",
    "Vault secretVault = new Vault(\"X1Y2Z3\", true);\n",
    "System.out.println(\"Vault Code: \" + secretVault.vaultCode + \", Is Locked: \" + secretVault.isLocked);\n",
    "// Should print: Vault Code: X1Y2Z3, Is Locked: true\n"
   ]
  },
  {
   "cell_type": "code",
   "execution_count": 6,
   "metadata": {
    "vscode": {
     "languageId": "java"
    }
   },
   "outputs": [
    {
     "name": "stdout",
     "output_type": "stream",
     "text": [
      "Unknown 100\n",
      "Treasure Safe 1000\n"
     ]
    }
   ],
   "source": [
    "//CLUE 5\n",
    "class Safe {\n",
    "    String safeName;\n",
    "    int capacity;\n",
    "\n",
    "    // Default constructor\n",
    "    Safe() {\n",
    "        // Initialize safeName to \"Unknown\" and capacity to 100\n",
    "        safeName = \"Unknown\";\n",
    "        capacity = 100;\n",
    "    }\n",
    "\n",
    "    // Parameterized constructor\n",
    "    Safe(String name, int cap) {\n",
    "        safeName = name;\n",
    "        capacity = cap;\n",
    "    }\n",
    "}\n",
    "\n",
    "Safe defaultSafe = new Safe();\n",
    "Safe customSafe = new Safe(\"Treasure Safe\", 1000);\n",
    "\n",
    "System.out.println(defaultSafe.safeName + \" \" + defaultSafe.capacity);  // Outputs: Unknown 100\n",
    "System.out.println(customSafe.safeName + \" \" + customSafe.capacity);    // Outputs: Treasure Safe 1000\n"
   ]
  },
  {
   "cell_type": "code",
   "execution_count": 7,
   "metadata": {
    "vscode": {
     "languageId": "java"
    }
   },
   "outputs": [
    {
     "name": "stdout",
     "output_type": "stream",
     "text": [
      "Box Color: Red, Weight: 50\n"
     ]
    }
   ],
   "source": [
    "//CLUE 6\n",
    "class Box {\n",
    "    String color;\n",
    "    int weight;\n",
    "\n",
    "    // Constructor (with mistake)\n",
    "    Box(String color, int w) {\n",
    "        this.color = color;\n",
    "        weight = w;\n",
    "    }\n",
    "}\n",
    "\n",
    "Box myBox = new Box(\"Red\", 50);\n",
    "System.out.println(\"Box Color: \" + myBox.color + \", Weight: \" + myBox.weight);\n",
    "// Should print: Box Color: Red, Weight: 50"
   ]
  },
  {
   "cell_type": "code",
   "execution_count": 9,
   "metadata": {
    "vscode": {
     "languageId": "java"
    }
   },
   "outputs": [],
   "source": [
    "//FINAL CLUE\n",
    "class TreasureChest {\n",
    "    String chestType;\n",
    "    int goldCoins;\n",
    "    boolean isLocked;\n",
    "\n",
    "    // Constructor 1: No parameters (calls Constructor 2 with default values)\n",
    "    TreasureChest() {\n",
    "        this(\"Wooden\", 50, true);  // Chaining to Constructor 2 with default values\n",
    "    }\n",
    "\n",
    "    // Constructor 2: Takes all parameters\n",
    "    TreasureChest(String type, int coins, boolean locked) {\n",
    "        chestType = type;\n",
    "        goldCoins = coins;\n",
    "        isLocked = locked;\n",
    "    }\n",
    "\n",
    "    // Constructor 3: Takes only type and coins, defaults 'isLocked' to true\n",
    "    TreasureChest(String type, int coins) {\n",
    "        this(type, coins, true);  // Chaining to Constructor 2, passing true for isLocked\n",
    "    }\n",
    "\n",
    "    // Constructor 4: Takes only the number of coins and defaults type to \"Wooden\" and isLocked to false\n",
    "    TreasureChest(int coins) {\n",
    "        this(\"Wooden\", coins, false);  // Chaining to Constructor 2 with default values\n",
    "    }\n",
    "\n",
    "    // Print method to check the values\n",
    "    void printChestInfo() {\n",
    "        System.out.println(\"Chest Type: \" + chestType + \", Gold Coins: \" + goldCoins + \", Is Locked: \" + isLocked);\n",
    "    }\n",
    "}\n",
    "\n",
    "public class EscapeRoom {\n",
    "    public static void main(String[] args) {\n",
    "        // Test the different constructors by creating different objects\n",
    "        TreasureChest chest1 = new TreasureChest();\n",
    "        TreasureChest chest2 = new TreasureChest(\"Golden\", 100);\n",
    "        TreasureChest chest3 = new TreasureChest(200);\n",
    "\n",
    "        // Print information to check if everything works correctly\n",
    "        chest1.printChestInfo();  // Should print: Wooden, 50, true\n",
    "        chest2.printChestInfo();  // Should print: Golden, 100, true\n",
    "        chest3.printChestInfo();  // Should print: Wooden, 200, false\n",
    "\n",
    "        // Escape message when code is correctly fixed\n",
    "        if (chest1 != null && chest2 != null && chest3 != null) {\n",
    "            System.out.println(\"You have successfully escaped!\");\n",
    "        }\n",
    "    }\n",
    "}"
   ]
  },
  {
   "cell_type": "markdown",
   "metadata": {},
   "source": [
    "# HINT: \n",
    "\n",
    "    1. Constructor chaining: You must properly use this() to chain constructors and avoid code duplication.\n",
    "\t2.\tCalling another constructor from a constructor: Ensure that each constructor calls the correct constructor with default or passed values.\n",
    "\t3.\tInitialize all fields properly: Ensure that every TreasureChest object is initialized with the correct values based on the constructor called."
   ]
  },
  {
   "cell_type": "markdown",
   "metadata": {},
   "source": [
    "# Accesor Methods\n",
    "## What is an accessor method? \n",
    "\n",
    "- Allow safe access to instance variables \n",
    "    - Prevents access to variables from outside \n",
    "- AKA \"get methods\" or \"getters\" \n",
    "- If another class or a function needs access to the variable, you use an accessor method \n",
    "\n",
    "## Example: "
   ]
  },
  {
   "cell_type": "code",
   "execution_count": 41,
   "metadata": {
    "vscode": {
     "languageId": "java"
    }
   },
   "outputs": [
    {
     "ename": "CompilationException",
     "evalue": "",
     "output_type": "error",
     "traceback": [
      "\u001b[1m\u001b[30m|   \u001b[1m\u001b[30m    public \u001b[0m\u001b[1m\u001b[30m\u001b[41m\u001b[0m\u001b[1m\u001b[30mSnack() { \u001b[0m",
      "\u001b[1m\u001b[31minvalid method declaration; return type required\u001b[0m",
      "",
      "\u001b[1m\u001b[30m|   \u001b[1m\u001b[30m        \u001b[0m\u001b[1m\u001b[30m\u001b[41mname\u001b[0m\u001b[1m\u001b[30m \"\"; \u001b[0m",
      "\u001b[1m\u001b[31mnot a statement\u001b[0m",
      "",
      "\u001b[1m\u001b[30m|   \u001b[1m\u001b[30m        name\u001b[0m\u001b[1m\u001b[30m\u001b[41m\u001b[0m\u001b[1m\u001b[30m \"\"; \u001b[0m",
      "\u001b[1m\u001b[31m';' expected\u001b[0m",
      "",
      "\u001b[1m\u001b[30m|   \u001b[1m\u001b[30m    public \u001b[0m\u001b[1m\u001b[30m\u001b[41m\u001b[0m\u001b[1m\u001b[30mSnack (string n, int c) { \u001b[0m",
      "\u001b[1m\u001b[31minvalid method declaration; return type required\u001b[0m",
      ""
     ]
    }
   ],
   "source": [
    "public class snack { \n",
    "    private String name; \n",
    "    private int calories; \n",
    "\n",
    "    public Snack() { \n",
    "        name \"\"; \n",
    "        calories = 0; \n",
    "    }\n",
    "\n",
    "    public Snack (string n, int c) { \n",
    "        name = n; \n",
    "        calories = c; \n",
    "    }\n",
    "\n",
    "    public String getName(){\n",
    "        return Name; \n",
    "    }\n",
    "\n",
    "    public int getCalories() { \n",
    "        return calories; \n",
    "    }\n",
    "}"
   ]
  },
  {
   "cell_type": "markdown",
   "metadata": {},
   "source": [
    "### Private Instance Variables: \n",
    "\n",
    "`private String name; \n",
    "private int calories;`\n",
    "\n",
    "### Default Constructors \n",
    "`public Snack() { \n",
    "        name \"\"; \n",
    "        calories = 0; \n",
    "    }`\n",
    "\n",
    "### Overload Constructor\n",
    "`public Snack (string n, int c) { \n",
    "        name = n; \n",
    "        calories = c; \n",
    "    }`\n",
    "\n",
    "### Accessor Methods \n",
    "` public String getName(){\n",
    "        return Name; \n",
    "    }`\n",
    "\n",
    "`public int getCalories() { \n",
    "        return calories; \n",
    "    }`\n",
    "- Return command reciprocate a copy of the instance variable \n"
   ]
  },
  {
   "cell_type": "markdown",
   "metadata": {},
   "source": [
    "## Requirements\n",
    "\n",
    "- Accessor Methods must be public \n",
    "- Return type must match the variable type \n",
    "    - int = int \n",
    "    - string = string \n",
    "    - etc \n",
    "- REMEMBER PRINTING A VALUE IS NOT THE SAME AS RETURNING \n",
    "- Name appropriately\n",
    "    - Often is `getNameOfVariable` \n",
    "- No parameters \n",
    "\n",
    "#### Notice how the methods from the example match: `public String getName(){` and `public int getCalories()` "
   ]
  },
  {
   "cell_type": "markdown",
   "metadata": {},
   "source": [
    "![Accessors Diagram](https://www.cs.emory.edu/~cheung/Courses/171/Syllabus/03-classes/FIGS/immutable01d.png)"
   ]
  },
  {
   "cell_type": "markdown",
   "metadata": {},
   "source": [
    "## Popcorn Hack #1: \n",
    "\n",
    "Below is a constructor of a class, write the acccessor methods for all instance variables. "
   ]
  },
  {
   "cell_type": "code",
   "execution_count": 10,
   "metadata": {
    "vscode": {
     "languageId": "java"
    }
   },
   "outputs": [],
   "source": [
    "public class Pet { \n",
    "\n",
    "    private String name;  // Variable names should start with lowercase\n",
    "    private String typeOfPet;\n",
    "    private int age;\n",
    "\n",
    "    public String getName() { \n",
    "        return name;  // Return 'name', not 'Name'\n",
    "    }\n",
    "\n",
    "    public String getTypeOfPet() { \n",
    "        return typeOfPet; \n",
    "    }\n",
    "\n",
    "    public int getAge() { \n",
    "        return age; \n",
    "    }\n",
    "}"
   ]
  },
  {
   "cell_type": "markdown",
   "metadata": {},
   "source": [
    "### How can we print out all the information about an instance of an object?"
   ]
  },
  {
   "cell_type": "code",
   "execution_count": 13,
   "metadata": {
    "vscode": {
     "languageId": "java"
    }
   },
   "outputs": [
    {
     "ename": "CompilationException",
     "evalue": "",
     "output_type": "error",
     "traceback": [
      "\u001b[1m\u001b[30m|   \u001b[1m\u001b[30m    public static void main (\u001b[0m\u001b[1m\u001b[30m\u001b[41mstring\u001b[0m\u001b[1m\u001b[30m[] args) {\u001b[0m",
      "\u001b[1m\u001b[31mcannot find symbol\u001b[0m",
      "\u001b[1m\u001b[31m  symbol:   class string\u001b[0m",
      "",
      "\u001b[1m\u001b[30m|   \u001b[1m\u001b[30m        \u001b[0m\u001b[1m\u001b[30m\u001b[41msport\u001b[0m\u001b[1m\u001b[30m volley = new Sport(\"volleyball\", 12); \u001b[0m",
      "\u001b[1m\u001b[31mcannot find symbol\u001b[0m",
      "\u001b[1m\u001b[31m  symbol:   class sport\u001b[0m",
      "",
      "\u001b[1m\u001b[30m|   \u001b[1m\u001b[30m        sport volley = new \u001b[0m\u001b[1m\u001b[30m\u001b[41mSport\u001b[0m\u001b[1m\u001b[30m(\"volleyball\", 12); \u001b[0m",
      "\u001b[1m\u001b[31mcannot find symbol\u001b[0m",
      "\u001b[1m\u001b[31m  symbol:   class Sport\u001b[0m",
      "",
      "\u001b[1m\u001b[30m|   \u001b[1m\u001b[30m        \u001b[0m\u001b[1m\u001b[30m\u001b[41msystem.out\u001b[0m\u001b[1m\u001b[30m.println(volley);\u001b[0m",
      "\u001b[1m\u001b[31mpackage system does not exist\u001b[0m",
      ""
     ]
    }
   ],
   "source": [
    "public class SportTester {\n",
    "    public static void main (string[] args) {\n",
    "        sport volley = new Sport(\"volleyball\", 12); \n",
    "        system.out.println(volley);\n",
    "    }\n",
    "\n",
    "    public String toString(String sportName, int numPlayers) {\n",
    "        return \"Sport: \" + sportName + \", Players: \" + numPlayers;\n",
    "    }\n",
    "}\n",
    "\n",
    "\n",
    "/* see what it prints out \n",
    "   This is called hash code in hexadecimal form*/\n"
   ]
  },
  {
   "cell_type": "markdown",
   "metadata": {},
   "source": [
    "# Mutators/Setters\n",
    "Mutators are used to modify the attribute of an object. They are typically public methods to allow external code to modify the object state.\n",
    "### Naming & Parameters\n",
    "Mutators are named in the setBlank syntax where \"Blank\" is the name of the field you want to modify. Mutators, like other methods in Java, take one or more parameters. \n",
    "\n",
    "### Return Type\n",
    "Since mutators are type void as they do not return a value but rather they modify the object's state.\n",
    "\n",
    "### Validation\n",
    "Mutators often include validation logic to ensure that the new values are being set within acceptable bounds. An example of validation being used with mutators can be seen with the setSpeed mutator that doesn't allow negative values. "
   ]
  },
  {
   "cell_type": "markdown",
   "metadata": {},
   "source": [
    "![Mutators Diagram]( https://www.cs.emory.edu/~cheung/Courses/171/Syllabus/03-classes/FIGS/immutable01d.png)"
   ]
  },
  {
   "cell_type": "markdown",
   "metadata": {},
   "source": [
    "## Lets take a look at an example!\n",
    "This example discusses showcases some of the most vital use cases for mutators"
   ]
  },
  {
   "cell_type": "code",
   "execution_count": 42,
   "metadata": {
    "vscode": {
     "languageId": "java"
    }
   },
   "outputs": [
    {
     "name": "stdout",
     "output_type": "stream",
     "text": [
      "Brand: Honda\n",
      "Model: Civic\n",
      "Speed: 100 mph\n",
      "Brand: Rolls Royce\n",
      "Model: Phantom\n",
      "Speed: 150 mph\n",
      "Speed cannot be negative.\n"
     ]
    }
   ],
   "source": [
    "// A class representing a Car with attributes like make, model, and speed.\n",
    "public class Car {\n",
    "    private String brand;\n",
    "    private String model;\n",
    "    private int speed;\n",
    "\n",
    "    // Constructor to initialize attributes\n",
    "    public Car(String brand, String model, int speed) {\n",
    "        this.brand = brand;\n",
    "        this.model = model;\n",
    "        if (speed >= 0) {  \n",
    "            this.speed = speed;\n",
    "        } else {\n",
    "            System.out.println(\"Speed cannot be negative, setting speed to 0.\");\n",
    "            this.speed = 0;\n",
    "        }\n",
    "    }\n",
    "    //Mutators \n",
    "    public void setBrand(String brand) {\n",
    "        this.brand = brand;\n",
    "    }\n",
    "    public void setModel(String model) {\n",
    "        this.model = model;\n",
    "    }\n",
    "    public void setSpeed(int speed) {\n",
    "        if (speed >= 0) { //Validation so speed is not negative\n",
    "            this.speed = speed;\n",
    "        } else {\n",
    "            System.out.println(\"Speed cannot be negative.\");\n",
    "        }\n",
    "    }\n",
    "    // Display car details\n",
    "    public void displayCarInfo() {\n",
    "        System.out.println(\"Brand: \" + brand);\n",
    "        System.out.println(\"Model: \" + model);\n",
    "        System.out.println(\"Speed: \" + speed + \" mph\");\n",
    "    }\n",
    "}\n",
    "Car myCar = new Car(\"Honda\", \"Civic\", 100);\n",
    "myCar.displayCarInfo();\n",
    "\n",
    "// Modifying attributes mutators\n",
    "myCar.setSpeed(150);\n",
    "myCar.setBrand(\"Rolls Royce\");\n",
    "myCar.setModel(\"Phantom\");\n",
    "myCar.displayCarInfo();\n",
    "\n",
    "//Testing Validation with invalid value (Should trigger warning)\n",
    "myCar.setSpeed(-50); "
   ]
  },
  {
   "cell_type": "markdown",
   "metadata": {},
   "source": [
    "## Popcorn Hack\n",
    "\n",
    "### 1. Create a Class\n",
    "Define a class Person with private fields: String name, int age, and double height. This is done for you.\n",
    "### 2. Create Mutators\n",
    "Write mutator methods setName(String name), setAge(int age) (with validation for non-negative age), and setHeight(double height) (with validation for non-negative height).\n",
    "### 3. Write a Constructor\n",
    "Create a constructor that initializes name, age, and height with provided values.\n",
    "### 4. Test the Mutators\n",
    "In the main method, create a Person object, modify its fields using the mutators, and print the details after each modification."
   ]
  },
  {
   "cell_type": "code",
   "execution_count": 15,
   "metadata": {
    "vscode": {
     "languageId": "java"
    }
   },
   "outputs": [],
   "source": [
    "public class Person {\n",
    "    // Step 1: Define private fields\n",
    "    private String name;\n",
    "    private int age;\n",
    "    private double height;\n",
    "\n",
    "    // Step 2: Create mutators (setters) with validation\n",
    "    public void setName(String name) {\n",
    "        this.name = name;\n",
    "    }\n",
    "\n",
    "    public void setAge(int age) {\n",
    "        if (age >= 0) {  // Validation to ensure non-negative age\n",
    "            this.age = age;\n",
    "        } else {\n",
    "            System.out.println(\"Age cannot be negative.\");\n",
    "        }\n",
    "    }\n",
    "\n",
    "    public void setHeight(double height) {\n",
    "        if (height >= 0) {  // Validation to ensure non-negative height\n",
    "            this.height = height;\n",
    "        } else {\n",
    "            System.out.println(\"Height cannot be negative.\");\n",
    "        }\n",
    "    }\n",
    "\n",
    "    // Step 3: Constructor to initialize fields\n",
    "    public Person(String name, int age, double height) {\n",
    "        this.name = name;\n",
    "        setAge(age);  // Using mutator to ensure validation\n",
    "        setHeight(height);  // Using mutator to ensure validation\n",
    "    }\n",
    "\n",
    "    // Method to display person details\n",
    "    public void displayPersonInfo() {\n",
    "        System.out.println(\"Name: \" + name);\n",
    "        System.out.println(\"Age: \" + age);\n",
    "        System.out.println(\"Height: \" + height + \" meters\");\n",
    "    }\n",
    "}\n",
    "public class PersonTester {\n",
    "    public static void main(String[] args) {\n",
    "        // Step 4: Create a Person object using constructor\n",
    "        Person person1 = new Person(\"Alice\", 25, 1.65);\n",
    "\n",
    "        // Display initial details\n",
    "        System.out.println(\"Initial Person Details:\");\n",
    "        person1.displayPersonInfo();\n",
    "\n",
    "        // Modify the fields using mutators\n",
    "        System.out.println(\"\\nModifying Person Details:\");\n",
    "        person1.setName(\"Bob\");\n",
    "        person1.setAge(30);   // Valid age\n",
    "        person1.setHeight(1.75);  // Valid height\n",
    "        person1.displayPersonInfo();\n",
    "\n",
    "        // Test validation by setting an invalid age\n",
    "        System.out.println(\"\\nTesting Validation:\");\n",
    "        person1.setAge(-5);   // Invalid age, should trigger a warning\n",
    "        person1.setHeight(-1.8);  // Invalid height, should trigger a warning\n",
    "        person1.displayPersonInfo();\n",
    "    }\n",
    "}\n"
   ]
  },
  {
   "cell_type": "code",
   "execution_count": 14,
   "metadata": {
    "vscode": {
     "languageId": "java"
    }
   },
   "outputs": [
    {
     "ename": "CompilationException",
     "evalue": "",
     "output_type": "error",
     "traceback": [
      "\u001b[1m\u001b[30m|   \u001b[1m\u001b[30m    public \u001b[0m\u001b[1m\u001b[30m\u001b[41m\u001b[0m\u001b[1m\u001b[30mCar(String brand, String model, int speed) {\u001b[0m",
      "\u001b[1m\u001b[31minvalid method declaration; return type required\u001b[0m",
      ""
     ]
    }
   ],
   "source": [
    "public class Person {\n",
    "    // Private fields\n",
    "    private String name;\n",
    "    private int age;\n",
    "    private double height;\n",
    "\n",
    "    public Car(String brand, String model, int speed) {\n",
    "        this.brand = brand;\n",
    "        this.model = model;\n",
    "        if (speed >= 0) {  \n",
    "            this.speed = speed;\n",
    "        } else {\n",
    "            System.out.println(\"Speed cannot be negative, setting speed to 0.\");\n",
    "            this.speed = 0;\n",
    "        }\n",
    "    }\n",
    "    //Mutators \n",
    "    public void setBrand(String brand) {\n",
    "        this.brand = brand;\n",
    "}\n",
    "}\n",
    "\n",
    "Car myCar = new Car(\"Honda\", \"Civic\", 100);\n",
    "myCar.displayCarInfo();\n",
    "\n",
    "// Modifying attributes mutators\n",
    "myCar.setSpeed(150);\n",
    "myCar.setBrand(\"Rolls Royce\");\n",
    "myCar.setModel(\"Phantom\");\n",
    "myCar.displayCarInfo();\n",
    "\n",
    "//Testing Validation with invalid value (Should trigger warning)\n",
    "myCar.setSpeed(-50); "
   ]
  },
  {
   "cell_type": "markdown",
   "metadata": {},
   "source": [
    "# Static Variables\n",
    "This notebook will explain what static variables are, how they differ from instance variables, and provide examples, including a mini-project with broken code to fix."
   ]
  },
  {
   "cell_type": "markdown",
   "metadata": {},
   "source": [
    "## 1. Introduction to Static Variables\n",
    "- Static variables belong to the class rather than any particular instance. They are shared across all instances of the class.\n",
    "- Example:\n",
    "\n",
    "\n",
    "\n"
   ]
  },
  {
   "cell_type": "code",
   "execution_count": null,
   "metadata": {
    "vscode": {
     "languageId": "java"
    }
   },
   "outputs": [],
   "source": [
    "public class BankAccount {\n",
    "    // Static variable\n",
    "    static double interestRate = 0.03;\n",
    "\n",
    "    // Instance variable\n",
    "    double balance;\n",
    "\n",
    "    // Constructor\n",
    "    public BankAccount(double balance) {\n",
    "        this.balance = balance;\n",
    "    }\n",
    "\n",
    "    // Static method\n",
    "    static void setInterestRate(double newRate) {\n",
    "        interestRate = newRate;\n",
    "    }\n",
    "}"
   ]
  },
  {
   "cell_type": "markdown",
   "metadata": {},
   "source": [
    "In this `BankAccount` class, `interestRate` is a static variable shared by all instances, and `setInterestRate()` is a static method that updates this variable."
   ]
  },
  {
   "cell_type": "markdown",
   "metadata": {},
   "source": [
    "## 2. Defining Static Variables\n",
    "- Static variables are defined using the `static` keyword and accessed using the class name.\n",
    "- Example:\n",
    "\n",
    "\n",
    "\n"
   ]
  },
  {
   "cell_type": "code",
   "execution_count": null,
   "metadata": {
    "vscode": {
     "languageId": "java"
    }
   },
   "outputs": [],
   "source": [
    "public class Student {\n",
    "    // Static variable\n",
    "    static String schoolName = \"XYZ School\";\n",
    "\n",
    "    // Instance variable\n",
    "    String name;\n",
    "\n",
    "    // Constructor\n",
    "    public Student(String name) {\n",
    "        this.name = name;\n",
    "    }\n",
    "}\n",
    "\n",
    "// Accessing static variable\n",
    "System.out.println(Student.schoolName);"
   ]
  },
  {
   "cell_type": "markdown",
   "metadata": {},
   "source": [
    "Here, `schoolName` is a static variable shared by all `Student` instances."
   ]
  },
  {
   "cell_type": "markdown",
   "metadata": {},
   "source": [
    "## 3. Static Methods\n",
    "- Static methods can access static variables but cannot access instance variables directly.\n",
    "- Example:\n",
    "\n",
    "\n",
    "\n"
   ]
  },
  {
   "cell_type": "code",
   "execution_count": null,
   "metadata": {
    "vscode": {
     "languageId": "java"
    }
   },
   "outputs": [],
   "source": [
    "public class BankAccount {\n",
    "    static double interestRate = 0.03;\n",
    "\n",
    "    static void updateInterestRate(double newRate) {\n",
    "        interestRate = newRate;\n",
    "    }\n",
    "}\n",
    "\n",
    "// Using static method\n",
    "BankAccount.updateInterestRate(0.04);"
   ]
  },
  {
   "cell_type": "markdown",
   "metadata": {},
   "source": [
    "The `updateInterestRate` method updates the static variable `interestRate`."
   ]
  },
  {
   "cell_type": "markdown",
   "metadata": {},
   "source": [
    "## 4. Mini Project: Fix the Code\n",
    "- Below is a class with broken code. The goal is to fix the class so it correctly implements and accesses static variables and methods.\n",
    "- Broken code:\n",
    "\n"
   ]
  },
  {
   "cell_type": "code",
   "execution_count": null,
   "metadata": {
    "vscode": {
     "languageId": "java"
    }
   },
   "outputs": [],
   "source": [
    "\n",
    "public class Vehicle {\n",
    "    static int count = 0;\n",
    "\n",
    "    // Constructor\n",
    "    public Vehicle() {\n",
    "        count = count + 1;\n",
    "    }\n",
    "\n",
    "    // Method\n",
    "    public void displayCount() {\n",
    "        System.out.println(count);\n",
    "    }\n",
    "}\n"
   ]
  },
  {
   "cell_type": "markdown",
   "metadata": {},
   "source": [
    "- **Task**: Debug the `Vehicle` class to ensure `count` is properly incremented and displayed. Consider how `displayCount()` should be modified if `count` is a static variable."
   ]
  }
 ],
 "metadata": {
  "kernelspec": {
   "display_name": "Java",
   "language": "java",
   "name": "java"
  },
  "language_info": {
   "codemirror_mode": "java",
   "file_extension": ".jshell",
   "mimetype": "text/x-java-source",
   "name": "Java",
   "pygments_lexer": "java",
   "version": "17.0.12+8-LTS-286"
  }
 },
 "nbformat": 4,
 "nbformat_minor": 2
}
