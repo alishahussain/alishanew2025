{
 "cells": [
  {
   "cell_type": "markdown",
   "metadata": {},
   "source": [
    "---\n",
    "layout: post\n",
    "comments: true\n",
    "title: Unit 3 Boolean Expressions - 3.1\n",
    "description: Unit 3 Team Teach\n",
    "categories: [AP CSA]\n",
    "menu: nav/CSA_Units/csa_unit3_p1.html\n",
    "permalink: /unit3lesson#boolean-expressions\n",
    "author: Alisha Hussain, Anika Bhatnagar, Kayden Le, Sharon Kodali\n",
    "---"
   ]
  },
  {
   "cell_type": "markdown",
   "metadata": {},
   "source": []
  }
 ],
 "metadata": {
  "language_info": {
   "name": "python"
  }
 },
 "nbformat": 4,
 "nbformat_minor": 2
}
