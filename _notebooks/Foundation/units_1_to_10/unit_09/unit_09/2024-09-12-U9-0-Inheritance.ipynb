{
 "cells": [
  {
   "cell_type": "markdown",
   "metadata": {
    "vscode": {
     "languageId": "raw"
    }
   },
   "source": [
    "---\n",
    "layout: post\n",
    "title: Unit 9 - Java Inheritance\n",
    "categories: [Collaboration]\n",
    "courses: {csa: {week: 3}}\n",
    "toc: true\n",
    "comments: true\n",
    "author: Bella, Trystan, Nikhil, Dylan\n",
    "menu: nav/inheritance.html\n",
    "permalink: /inheritance\n",
    "---"
   ]
  },
  {
   "cell_type": "markdown",
   "metadata": {},
   "source": [
    "##  Introduction\n",
    "\n",
    "- 9.1\n",
    "\n",
    "In Java, object-oriented programming allows developers to structure programs as a collection of classes and objects. One key concept in OOP is inheritance, where a class (subclass) inherits properties and methods from another class (superclass). This allows code to be reused and models relationships between objects.\n",
    "\n",
    "> Superclass:\n",
    "A superclass in Java is a general class that contains common fields and methods that can be shared by its subclasses. It is also sometimes referred to as a parent class.\n",
    "\n",
    "> Subclass:\n",
    "A subclass (or child class) is a class that extends the functionality of a superclass. A subclass inherits all the attributes and methods of the superclass and can also have its own additional properties and methods.\n"
   ]
  },
  {
   "cell_type": "markdown",
   "metadata": {},
   "source": [
    "You might be wondering why are subclasses and super classes useful? Well, let's take a look at an example.\n",
    "\n",
    "## Shapes\n",
    "\n",
    "What if we wanted to solve the problem of managing different types of shapes, each with unique properties and behaviors, but still wanted to avoid repetitive code? Well, let's plan out a solution using inheritance.  By creating a general Shape class with shared attributes, and then extending it into specific subclasses like Rectangle and Triangle, we can reuse common logic while allowing each shape to override methods like calc_area() for their specific needs. This approach simplifies the design. \n",
    "\n",
    "\n",
    "## How are we setting this up?\n",
    "\n",
    "Let's think about attributes that all shapes have. For simplicity, we can think of `name`, `length`, and `width` as attributes of a shape. \n",
    "\n",
    "Let's start setting up our main class. Here, we have a default and parametrized constructor. People can create a default shape, or pass in values to characterize their own shape.\n",
    "\n",
    "We can also add additional methods to calculate area/print a shape. \n",
    "\n",
    "\n",
    "\n"
   ]
  },
  {
   "cell_type": "code",
   "execution_count": null,
   "metadata": {},
   "outputs": [],
   "source": [
    "public class Shape {\n",
    "    protected String name;\n",
    "    private int length;\n",
    "    private int width;\n",
    "\n",
    "    // Default constructor\n",
    "    public Shape() {\n",
    "        this.name = \"Shape\";\n",
    "        this.length = 10;\n",
    "        this.width = 5;\n",
    "    }\n",
    "\n",
    "    // Parameterized constructor\n",
    "    public Shape(String name, int length, int width) {\n",
    "        this.name = name;\n",
    "        this.length = length;\n",
    "        this.width = width;\n",
    "    }\n",
    "\n",
    "}\n",
    "\n",
    "\n"
   ]
  },
  {
   "cell_type": "markdown",
   "metadata": {},
   "source": [
    "Let's add setters (to set variables) and getters (to get a shapes attributes like name, length, and width.)"
   ]
  },
  {
   "cell_type": "code",
   "execution_count": null,
   "metadata": {},
   "outputs": [],
   "source": [
    "public class Shape {\n",
    "    protected String name;\n",
    "    private int length;\n",
    "    private int width;\n",
    "\n",
    "    // Default constructor\n",
    "    public Shape() {\n",
    "        this.name = \"Shape\";\n",
    "        this.length = 10;\n",
    "        this.width = 5;\n",
    "    }\n",
    "\n",
    "    // Parameterized constructor\n",
    "    public Shape(String name, int length, int width) {\n",
    "        this.name = name;\n",
    "        this.length = length;\n",
    "        this.width = width;\n",
    "    }\n",
    "\n",
    "    // Getter methods\n",
    "    public String get_name() {\n",
    "        return this.name;\n",
    "    }\n",
    "\n",
    "    public int get_length() {\n",
    "        return this.length;\n",
    "    }\n",
    "\n",
    "    public int get_width() {\n",
    "        return this.width;\n",
    "    }\n",
    "\n",
    "    // Setter methods\n",
    "    public void set_name(String n) {\n",
    "        this.name = n;\n",
    "    }\n",
    "\n",
    "    public void set_length(int a) {\n",
    "        this.length = a;\n",
    "    }\n",
    "\n",
    "    public void set_width(int b) {\n",
    "        this.width = b;\n",
    "    }\n",
    "}"
   ]
  },
  {
   "cell_type": "markdown",
   "metadata": {},
   "source": [
    "Now we can have two subclasses, Rectangle and Triangle.\n",
    "\n",
    "<img width=\"519\" alt=\"Screenshot 2024-09-18 at 12 04 51 PM\" src=\"https://github.com/user-attachments/assets/2e8eeed2-3f97-48be-9b5d-e52d2b07d355\">\n"
   ]
  },
  {
   "cell_type": "code",
   "execution_count": null,
   "metadata": {},
   "outputs": [],
   "source": [
    "public class Rectangle extends Shape {\n",
    "    public Rectangle() {\n",
    "        super();\n",
    "    }\n",
    "\n",
    "    public Rectangle(String name, int length, int width) {\n",
    "        super(name, length, width);\n",
    "    }\n",
    "\n",
    "\n",
    "}\n",
    "\n",
    "public class Triangle extends Shape {\n",
    "    public Triangle() {\n",
    "        super();\n",
    "    }\n",
    "\n",
    "    public Triangle(String name, int length, int width) {\n",
    "        super(name, length, width);\n",
    "    }\n",
    "\n",
    "\n",
    "}"
   ]
  },
  {
   "cell_type": "markdown",
   "metadata": {},
   "source": [
    "You might notice the `super()` keyword being used a lot here. But what does it mean?\n",
    "\n",
    "This leads us to our next big idea.\n",
    "\n",
    "\n",
    "> 9.2 Constructors for Subclasses\n",
    "\n",
    "\n",
    "\n",
    "-  Writing a Constructor for Subclass:\n",
    "When a subclass is created, it inherits the fields and methods from its superclass. However, a subclass does not inherit constructors from the superclass. If a subclass needs to initialize its own fields in addition to the fields of the superclass, it must provide its own constructor and explicitly call the constructor of the superclass using super().\n",
    "\n",
    "- Understanding super():\n",
    "When writing a constructor for a subclass, you often need to call the constructor of the superclass to initialize the fields inherited from it. The super() call must be the first statement in the subclass constructor.\n",
    "If the superclass constructor requires arguments, those arguments must be passed in the super() call."
   ]
  },
  {
   "cell_type": "markdown",
   "metadata": {},
   "source": [
    "Obviously, the  code blocks above are pretty basic and have  a lot to be improved. For example, what if we wanted to model more complex shapes, like a circle or a hexagon? How could we extend our current Shape class to do that?\n",
    "\n",
    "# Popcorn Hack\n",
    "Here’s a challenge for you: Implement two new subclasses, Circle and Hexagon, extending from the Shape class.  Follow the same structure as the Rectangle and Triangle classes!\n",
    "\n",
    "<img width=\"899\" alt=\"Screenshot 2024-09-18 at 12 21 38 PM\" src=\"https://github.com/user-attachments/assets/16926722-06a8-4489-a7c0-05dc921644c3\">\n",
    "\n"
   ]
  },
  {
   "cell_type": "code",
   "execution_count": null,
   "metadata": {},
   "outputs": [],
   "source": [
    "/* Your code goes in here. Copy paste the code cell above  and your new implementations here */"
   ]
  },
  {
   "cell_type": "markdown",
   "metadata": {},
   "source": [
    "You might notice the `super()` keyword being used a lot. But what does it mean?\n",
    "\n",
    "This leads us to our next lesson.\n",
    "\n",
    "\n",
    "> 9.2 Constructors for Subclasses\n",
    "\n",
    "\n",
    "\n",
    "-  Writing a Constructor for Subclass:\n",
    "When a subclass is created, it inherits the fields and methods from its superclass. However, a subclass does not inherit constructors from the superclass. If a subclass needs to initialize its own fields in addition to the fields of the superclass, it must provide its own constructor and explicitly call the constructor of the superclass using super().\n",
    "\n",
    "- Understanding super():\n",
    "When writing a constructor for a subclass, you often need to call the constructor of the superclass to initialize the fields inherited from it. The super() call must be the first statement in the subclass constructor.\n",
    "If the superclass constructor requires arguments, those arguments must be passed in the super() call."
   ]
  },
  {
   "cell_type": "markdown",
   "metadata": {},
   "source": [
    "# Popcorn Hack 2 Optional: Mastering super()\n",
    "What if we wanted to understand how to properly use the super() keyword in subclasses to ensure that our shapes are correctly initialized?\n",
    "\n",
    "Here’s a fun challenge:\n",
    "\n",
    "1. Create a new subclass called Ellipse that extends Shape.\n",
    "\n",
    "Constructor: Implement a constructor for Ellipse that accepts parameters for name, length, and width. This constructor should call the superclass constructor using super().\n",
    "2. Update Your Driver Code\n",
    "\n",
    "Test the Ellipse: Instantiate an Ellipse object and print its area. Verify that the constructor correctly initializes the shape and that the super() keyword is used properly.\n",
    "Hints:\n",
    "\n",
    "Ellipse Constructor: Use super(name, length, width) to initialize inherited fields.\n",
    "Check Order: Remember, super() must be the first statement in your subclass constructor."
   ]
  },
  {
   "cell_type": "markdown",
   "metadata": {},
   "source": [
    "# Full Running Code Cell"
   ]
  },
  {
   "cell_type": "code",
   "execution_count": null,
   "metadata": {},
   "outputs": [
    {
     "name": "stdout",
     "output_type": "stream",
     "text": [
      "Area of s1 = 50.0\n",
      "Area of s2 = 40.0\n",
      "Area of s3 = 50.0\n",
      "Shape: Shape\n",
      "Shape: rectangle\n",
      "This is a shape\n",
      "This is a rectangle\n"
     ]
    }
   ],
   "source": [
    "public class Shape {\n",
    "    protected String name;\n",
    "    private int length;\n",
    "    private int width;\n",
    "\n",
    "    // Default constructor\n",
    "    public Shape() {\n",
    "        this.name = \"Shape\";\n",
    "        this.length = 10;\n",
    "        this.width = 5;\n",
    "    }\n",
    "\n",
    "    // Parameterized constructor\n",
    "    public Shape(String name, int length, int width) {\n",
    "        this.name = name;\n",
    "        this.length = length;\n",
    "        this.width = width;\n",
    "    }\n",
    "\n",
    "    // Getter methods\n",
    "    public String get_name() {\n",
    "        return this.name;\n",
    "    }\n",
    "\n",
    "    public int get_length() {\n",
    "        return this.length;\n",
    "    }\n",
    "\n",
    "    public int get_width() {\n",
    "        return this.width;\n",
    "    }\n",
    "\n",
    "    // Setter methods\n",
    "    public void set_name(String n) {\n",
    "        this.name = n;\n",
    "    }\n",
    "\n",
    "    public void set_length(int a) {\n",
    "        this.length = a;\n",
    "    }\n",
    "\n",
    "    public void set_width(int b) {\n",
    "        this.width = b;\n",
    "    }\n",
    "\n",
    "    // Method to calculate the area\n",
    "    public double calc_area() {\n",
    "        return this.length * this.width;\n",
    "    }\n",
    "\n",
    "    // Method to print the shape\n",
    "    public void print_shape() {\n",
    "        System.out.println(\"Shape: \" + this.name);\n",
    "    }\n",
    "\n",
    "    // Additional method to print something\n",
    "    public void print_something() {\n",
    "        System.out.println(\"This is a shape\");\n",
    "    }\n",
    "}\n",
    "\n",
    "public class Rectangle extends Shape {\n",
    "    public Rectangle() {\n",
    "        super();\n",
    "    }\n",
    "\n",
    "    public Rectangle(String name, int length, int width) {\n",
    "        super(name, length, width);\n",
    "    }\n",
    "\n",
    "    @Override\n",
    "    public double calc_area() {\n",
    "        return (this.get_length() * this.get_width());\n",
    "    }\n",
    "\n",
    "    @Override\n",
    "    public void print_something() {\n",
    "        System.out.println(\"This is a rectangle\");\n",
    "    }\n",
    "}\n",
    "\n",
    "public class Triangle extends Shape {\n",
    "    public Triangle() {\n",
    "        super();\n",
    "    }\n",
    "\n",
    "    public Triangle(String name, int length, int width) {\n",
    "        super(name, length, width);\n",
    "    }\n",
    "\n",
    "    @Override\n",
    "    public double calc_area() {\n",
    "        return (get_length() * get_width() * 0.5);\n",
    "    }\n",
    "}\n",
    "\n",
    "public class Driver {\n",
    "    public static void main(String[] args) {\n",
    "        Shape s1 = new Shape();\n",
    "        Shape s2 = new Rectangle(\"rectangle\", 4, 10);\n",
    "        Shape s3 = new Triangle(\"triangle\", 5, 20);\n",
    "\n",
    "        System.out.println(\"Area of s1 = \" + s1.calc_area());\n",
    "        System.out.println(\"Area of s2 = \" + s2.calc_area());\n",
    "        System.out.println(\"Area of s3 = \" + s3.calc_area());\n",
    "\n",
    "        s1.print_shape();\n",
    "        s2.print_shape();\n",
    "\n",
    "        // Using the overridden method\n",
    "        s1.print_something();\n",
    "        s2.print_something();\n",
    "    }\n",
    "}\n",
    "\n",
    "// Run the driver code\n",
    "Driver.main(new String[0]);\n"
   ]
  },
  {
   "cell_type": "markdown",
   "metadata": {},
   "source": [
    "## Introduction to Inheritance in Java\n",
    "\n",
    "Inheritance is a fundamental concept in object-oriented programming (OOP) that allows one class (the subclass) to inherit fields and methods from another class (the superclass). This promotes code reusability and establishes a natural hierarchical relationship between classes.\n",
    "\n",
    "### Key Concepts of Inheritance:\n",
    "\n",
    "1. **Superclass and Subclass**:\n",
    "   - **Superclass (Parent Class)**: The class whose features are inherited. It provides common attributes and behaviors that can be shared by subclasses.\n",
    "   - **Subclass (Child Class)**: The class that inherits from the superclass. It can extend or modify the behavior of the superclass and add its own unique features.\n",
    "\n",
    "2. **Basic Syntax**:\n",
    "   - To declare a subclass, use the `extends` keyword.\n",
    "   ```java\n",
    "   public class Subclass extends Superclass {\n",
    "       // Subclass-specific fields and methods\n",
    "   }\n",
    "\n",
    "**Topics to Explore**:\n",
    "To learn more, you can explore the tabs on the navigation bar to explore additional units within the CollegeBoard curriculum."
   ]
  },
  {
   "cell_type": "code",
   "execution_count": 1,
   "metadata": {},
   "outputs": [
    {
     "name": "stdout",
     "output_type": "stream",
     "text": [
      "As you can see my Car also has the inherited varible hasMovement\n",
      "myCar.hasMovement: true\n"
     ]
    }
   ],
   "source": [
    "public class Vehicle {\n",
    "    float miles = 0;\n",
    "    float milesTraveled(float milesToAdd){\n",
    "        this.miles += milesToAdd;\n",
    "        return this.miles;\n",
    "    }\n",
    "    boolean hasMovement = true;\n",
    "}\n",
    "\n",
    "public class Car extends Vehicle {\n",
    "    boolean canFly = true;\n",
    "}\n",
    "\n",
    "public class Plane extends Vehicle {\n",
    "    boolean canFly = true;\n",
    "}\n",
    "\n",
    "Car myCar = new Car();\n",
    "System.out.println(\"As you can see my Car also has the inherited varible hasMovement\");\n",
    "System.out.println(\"myCar.hasMovement: \"+(new Boolean(myCar.hasMovement)).toString());"
   ]
  },
  {
   "cell_type": "markdown",
   "metadata": {},
   "source": [
    "## Method Overrides"
   ]
  },
  {
   "cell_type": "markdown",
   "metadata": {},
   "source": [
    "Every class inherits methods from its **parent class**. These methods can be called in the child class and can also be **overridden**."
   ]
  },
  {
   "cell_type": "markdown",
   "metadata": {},
   "source": [
    "## Shape Class\n",
    "This is the same shape class from before."
   ]
  },
  {
   "cell_type": "code",
   "execution_count": null,
   "metadata": {},
   "outputs": [],
   "source": [
    "public class Shape {\n",
    "    protected String name;\n",
    "    private int length;\n",
    "    private int width;\n",
    "\n",
    "    // Default constructor\n",
    "    public Shape() {\n",
    "        this.name = \"shape\";\n",
    "        this.length = 10;\n",
    "        this.width = 5;\n",
    "    }\n",
    "\n",
    "    // Parameterized constructor\n",
    "    public Shape(String name, int length, int width) {\n",
    "        this.name = name;\n",
    "        this.length = length;\n",
    "        this.width = width;\n",
    "    }\n",
    "\n",
    "    // Getter methods\n",
    "    public String get_name() {\n",
    "        return this.name;\n",
    "    }\n",
    "\n",
    "    public int get_length() {\n",
    "        return this.length;\n",
    "    }\n",
    "\n",
    "    public int get_width() {\n",
    "        return this.width;\n",
    "    }\n",
    "\n",
    "    // Setter methods\n",
    "    public void set_name(String n) {\n",
    "        this.name = n;\n",
    "    }\n",
    "\n",
    "    public void set_length(int a) {\n",
    "        this.length = a;\n",
    "    }\n",
    "\n",
    "    public void set_width(int b) {\n",
    "        this.width = b;\n",
    "    }\n",
    "\n",
    "    // Method to calculate the area\n",
    "    public double calc_area() {\n",
    "        return this.length * this.width;\n",
    "    }\n",
    "\n",
    "    // Method to calculate the perimeter\n",
    "    public double calc_perimeter(){\n",
    "        return 2*this.length + 2*this.width;\n",
    "    }\n",
    "\n",
    "    // Method to print the shape\n",
    "    public void print_shape() {\n",
    "        System.out.println(\"Shape: \" + this.name);\n",
    "    }\n",
    "\n",
    "    // Additional method to print something\n",
    "    public void print_something() {\n",
    "        System.out.println(\"This is a shape\");\n",
    "    }\n",
    "}\n",
    "\n",
    "public class Driver {\n",
    "    public static void main(String[] args) {\n",
    "        Shape s1 = new Shape();\n",
    "    }\n",
    "}\n"
   ]
  },
  {
   "cell_type": "markdown",
   "metadata": {},
   "source": [
    "### Creating a Triangle:\n",
    "\n",
    "Currently Our shape class only takes in length and width parameters. This works fine for squares and rectangles, but what if we wanted to make a different shape? To define a Triangle we can use the 3 side lengths. while still inheriting the same behavior from the base Shape class."
   ]
  },
  {
   "cell_type": "code",
   "execution_count": null,
   "metadata": {},
   "outputs": [],
   "source": [
    "public class Triangle extends Shape {\n",
    "    private int side1;\n",
    "    private int side2;\n",
    "    private int side3;\n",
    "\n",
    "\n",
    "    public Triangle() {\n",
    "        this.name = \"triangle\";\n",
    "        this.side1 = 1;\n",
    "        this.side2 = 2;\n",
    "        this.side3 = 3;\n",
    "    }\n",
    "\n",
    "    // Constructor that takes a name and three side lengths\n",
    "    public Triangle(String name, int s1, int s2, int s3) {\n",
    "        super(name, 0, 0); // Call to Shape constructor to set the name\n",
    "        this.name = \"triangle\";\n",
    "        this.side1 = s1;\n",
    "        this.side2 = s2;\n",
    "        this.side3 = s3;\n",
    "    }\n",
    "}"
   ]
  },
  {
   "cell_type": "markdown",
   "metadata": {},
   "source": [
    "## Here's our Triangle\n",
    "\n",
    "![](https://github.com/user-attachments/assets/69377fe6-8bf2-497b-98b5-576db179f5ad)\n",
    "\n",
    "\n",
    "As seen above, we're creating a new child class: Triangle\n",
    "This class inherits name parameter from the parent shape class and takes in 3 new side length paramiters to define the triangle's geometry.\n",
    "\n",
    "Lets try to create a new triangle with the side lengths 3, 4, and 5. We can also check to see if we inherited correctly from shape by callign the calc_area and print_shape methods.\n",
    "\n",
    "Triangle t1 = new Triangle(\"triangle\", 3, 4, 5);\n",
    "t1.print_shape();\n",
    "System.out.println(\"Area of t1 = \" + t1.calc_area());"
   ]
  },
  {
   "cell_type": "markdown",
   "metadata": {},
   "source": [
    "## We have a problem...\n",
    "\n",
    "We were able to make a new triangle from the inherited triangle class, however, our area is not being calculated correctly. We inherited the default shape class' calc_area method:\n",
    "\n",
    "**area = length x width**\n",
    "\n",
    "This is defaulting to an area of 0 when we create a new triangle without specifying the length and width. Instead, we can use **Heron's formula** to calculate the area of a triangle given 3 side lengths. \n",
    "\n",
    "**area = sqrt(s(s-s1)(s-s2)(s-s3))** where s is the semi-perimiter **(s1+s2+s3)/2**\n",
    "\n",
    "## Popcorn Hack 1\n",
    "Lets re-define the Triangle class but this time override the default area method with the **Heron's formula**\n"
   ]
  },
  {
   "cell_type": "code",
   "execution_count": null,
   "metadata": {},
   "outputs": [],
   "source": [
    "public class Triangle extends Shape {\n",
    "    private int side1;\n",
    "    private int side2;\n",
    "    private int side3;\n",
    "\n",
    "\n",
    "    public Triangle() {\n",
    "        this.name = \"triangle\";\n",
    "        this.side1 = 1;\n",
    "        this.side2 = 2;\n",
    "        this.side3 = 3;\n",
    "    }\n",
    "\n",
    "    // Constructor that takes a name and three side lengths\n",
    "    public Triangle(String name, int s1, int s2, int s3) {\n",
    "        super(name, 0, 0); // Call to Shape constructor to set the name\n",
    "        this.name = \"triangle\";\n",
    "        this.side1 = s1;\n",
    "        this.side2 = s2;\n",
    "        this.side3 = s3;\n",
    "    }\n",
    "\n",
    "    @Override\n",
    "    public double calc_area() {\n",
    "        double area = 0.0;\n",
    "        //Write Code Here\n",
    "        return area;\n",
    "        //expected output 6\n",
    "    }\n",
    "    \n",
    "}"
   ]
  },
  {
   "cell_type": "markdown",
   "metadata": {},
   "source": [
    "The **@Override** annotation tells Java that the following method will be a method override. If the following method does not override an existing method the compiler will throw an error. This is useful to catch mistakes in method name spelling and ensuring that a method override takes place. The annotation is not necessary, but is good practice. \n",
    "\n",
    "***Note it is essential to type the name of the function to be overridden exactly**"
   ]
  },
  {
   "cell_type": "code",
   "execution_count": null,
   "metadata": {},
   "outputs": [
    {
     "name": "stdout",
     "output_type": "stream",
     "text": [
      "Shape: triangle\n"
     ]
    },
    {
     "name": "stdout",
     "output_type": "stream",
     "text": [
      "Area of t1 = 0.0\n"
     ]
    }
   ],
   "source": [
    "Triangle t1 = new Triangle(\"triangle\", 3, 4, 5);\n",
    "t1.print_shape();\n",
    "System.out.println(\"Area of t1 = \" + t1.calc_area());"
   ]
  },
  {
   "cell_type": "markdown",
   "metadata": {},
   "source": [
    "If done correctly the area of Triangle t1 should be 6."
   ]
  },
  {
   "cell_type": "markdown",
   "metadata": {},
   "source": [
    "## Important things to note\n",
    "1. using the **final** keyword in the parent method will make that method unable to be overridden\n",
    "2. methods can be overidden to give more access but cannot restrict acces: private -> public,  but not public -> private\n",
    "3. use of **@Override** is highly encouraged"
   ]
  },
  {
   "cell_type": "markdown",
   "metadata": {},
   "source": [
    "## Popcorn Hack 2\n",
    "\n",
    "re-write the Triangle sublcass so that it also overrides the calc_perimeter()"
   ]
  },
  {
   "cell_type": "code",
   "execution_count": null,
   "metadata": {},
   "outputs": [],
   "source": [
    "public class Triangle extends Shape {\n",
    "    private int side1;\n",
    "    private int side2;\n",
    "    private int side3;\n",
    "\n",
    "\n",
    "    public Triangle() {\n",
    "        this.name = \"triangle\";\n",
    "        this.side1 = 1;\n",
    "        this.side2 = 2;\n",
    "        this.side3 = 3;\n",
    "    }\n",
    "\n",
    "    // Constructor that takes a name and three side lengths\n",
    "    public Triangle(String name, int s1, int s2, int s3) {\n",
    "        super(name, 0, 0); // Call to Shape constructor to set the name\n",
    "        this.name = \"triangle\";\n",
    "        this.side1 = s1;\n",
    "        this.side2 = s2;\n",
    "        this.side3 = s3;\n",
    "    }\n",
    "\n",
    "    @Override\n",
    "    public double calc_area() {\n",
    "        double area = 0;\n",
    "        //your previous area code\n",
    "        return area;\n",
    "    }\n",
    "\n",
    "    // Add perimeter method override here\n",
    "    //expected output 12\n",
    "    \n",
    "}"
   ]
  },
  {
   "cell_type": "code",
   "execution_count": null,
   "metadata": {},
   "outputs": [
    {
     "name": "stdout",
     "output_type": "stream",
     "text": [
      "0.0\n"
     ]
    },
    {
     "name": "stdout",
     "output_type": "stream",
     "text": [
      "0.0\n"
     ]
    }
   ],
   "source": [
    "Triangle ti84 = new Triangle(\"triangle\", 3, 4, 5);\n",
    "System.out.println(ti84.calc_area());\n",
    "System.out.println(ti84.calc_perimeter());"
   ]
  },
  {
   "cell_type": "markdown",
   "metadata": {},
   "source": [
    "# Super keyword"
   ]
  },
  {
   "cell_type": "markdown",
   "metadata": {},
   "source": [
    "What if we wanted to create our child triangle class, but also use overridden methods from the parent shape class?\n",
    "For example, what if we wanted to print out not only that our shape is a triangle, but also that it is a shape. We could accomplish this with the super keyword."
   ]
  },
  {
   "cell_type": "code",
   "execution_count": null,
   "metadata": {},
   "outputs": [
    {
     "name": "stdout",
     "output_type": "stream",
     "text": [
      "This is a shape\n",
      "This is a triangle\n",
      "Shape: triangle\n"
     ]
    }
   ],
   "source": [
    "public class Triangle extends Shape {\n",
    "    private int side1;\n",
    "    private int side2;\n",
    "    private int side3;\n",
    "\n",
    "\n",
    "    public Triangle() {\n",
    "        this.name = \"triangle\";\n",
    "        this.side1 = 1;\n",
    "        this.side2 = 2;\n",
    "        this.side3 = 3;\n",
    "    }\n",
    "\n",
    "    // Constructor that takes a name and three side lengths\n",
    "    public Triangle(String name, int s1, int s2, int s3) {\n",
    "        super(name, 0, 0); // Call to Shape constructor to set the name\n",
    "        this.name = \"triangle\";\n",
    "        this.side1 = s1;\n",
    "        this.side2 = s2;\n",
    "        this.side3 = s3;\n",
    "    }\n",
    "    public void print_shape() {\n",
    "        super.print_something();\n",
    "        print_something();\n",
    "        System.out.println(\"Shape: \" + this.name);\n",
    "    }\n",
    "\n",
    "\n",
    "    @Override\n",
    "    public void print_something() {\n",
    "        System.out.println(\"This is a triangle\");\n",
    "    }\n",
    "\n",
    "}\n",
    "\n",
    "Triangle t2 = new Triangle(\"triangle\", 3, 4, 5);\n",
    "t2.print_shape();"
   ]
  },
  {
   "cell_type": "markdown",
   "metadata": {},
   "source": [
    "## The Super Keyword\n",
    "\n",
    "As seen above, using the super.method calls the parent class' method. Something to note is that calling a super method inside annother method will first complete the parent method before moving on to the next line. \n",
    "\n",
    "As seen above, the parent print something is called first, then the triangle's print something, and lastly print shape. \n",
    "\n",
    "Something to be aware of is not to call a method in itself without the super keyword. This will cause an error/"
   ]
  },
  {
   "cell_type": "code",
   "execution_count": null,
   "metadata": {},
   "outputs": [],
   "source": [
    "public class Triangle extends Shape {\n",
    "    private int side1;\n",
    "    private int side2;\n",
    "    private int side3;\n",
    "\n",
    "\n",
    "    public Triangle() {\n",
    "        this.name = \"triangle\";\n",
    "        this.side1 = 1;\n",
    "        this.side2 = 2;\n",
    "        this.side3 = 3;\n",
    "    }\n",
    "\n",
    "    // Constructor that takes a name and three side lengths\n",
    "    public Triangle(String name, int s1, int s2, int s3) {\n",
    "        super(name, 0, 0); // Call to Shape constructor to set the name\n",
    "        this.name = \"triangle\";\n",
    "        this.side1 = s1;\n",
    "        this.side2 = s2;\n",
    "        this.side3 = s3;\n",
    "    }\n",
    "    public void print_shape() {\n",
    "        print_shape();\n",
    "    }\n",
    "\n",
    "\n",
    "    @Override\n",
    "    public void print_something() {\n",
    "        System.out.println(\"This is a triangle\");\n",
    "    }\n",
    "\n",
    "}\n",
    "\n",
    "Triangle t2 = new Triangle(\"triangle\", 3, 4, 5);\n",
    "t2.print_shape();"
   ]
  },
  {
   "cell_type": "markdown",
   "metadata": {},
   "source": [
    "As seen above, this results in an infinite loop"
   ]
  },
  {
   "cell_type": "markdown",
   "metadata": {},
   "source": [
    "## Homework Hack\n",
    "For your homework, create your own class hierarchy for shapes. You should have a base class called `Shape` with subclasses `Triangle`, `Rectangle`, and `Hexagon`. Each subclass should implement a method called `draw()`, returning a unique string for each shape type.\n",
    "\n",
    "    - `Triangle`: \"Drawing a triangle.\"\n",
    "\n",
    "    - `Rectangle`: \"Drawing a rectangle.\"\n",
    "\n",
    "    - `Hexagon`: \"Drawing a hexagon.\"\n",
    "\n",
    "Make sure to demonstrate polymorphism by creating an array of `Shape` types and iterating through it to call the `draw()` method. This will reinforce your understanding of class hierarchies and method overriding."
   ]
  },
  {
   "cell_type": "markdown",
   "metadata": {},
   "source": [
    "## Understanding Class Hierarchies"
   ]
  },
  {
   "cell_type": "markdown",
   "metadata": {},
   "source": [
    "Class hierarchies in Java enable structured relationships between classes through **inheritance**. This concept is foundational to object-oriented programming and enhances code reusability and organization, which simplifies managing complex systems.\n",
    "\n",
    "In a class hierarchy, a **superclass** can pass down properties and methods to its **subclasses**. This allows subclasses to inherit functionality while also being able to define or modify behaviors that are specific to themselves. This leads to a more manageable code structure and helps in maintaining code consistency."
   ]
  },
  {
   "cell_type": "markdown",
   "metadata": {},
   "source": [
    "### Components of Class Hierarchies\n",
    "1. **Superclass**: The parent class from which properties and methods are inherited.\n",
    "2. **Subclass**: A child class that inherits from the superclass and can override or extend its functionality.\n",
    "3. **Polymorphism**: The ability to treat objects of different classes through a common interface, allowing for method overriding."
   ]
  },
  {
   "cell_type": "markdown",
   "metadata": {},
   "source": [
    "### Example Hierarchy"
   ]
  },
  {
   "cell_type": "code",
   "execution_count": null,
   "metadata": {},
   "outputs": [],
   "source": [
    "public class Shape {\n",
    "    protected String name;\n",
    "\n",
    "    public Shape(String name) {\n",
    "        this.name = name;\n",
    "    }\n",
    "\n",
    "    public double calc_area() {\n",
    "        return 0.0;\n",
    "    }\n",
    "\n",
    "    public void print_shape() {\n",
    "        System.out.println(\"Shape: \" + name);\n",
    "    }\n",
    "}\n"
   ]
  },
  {
   "cell_type": "markdown",
   "metadata": {},
   "source": [
    "## Derived Class: Rectangle\n",
    "Now, let's create a `Rectangle` class that inherits from `Shape`."
   ]
  },
  {
   "cell_type": "code",
   "execution_count": null,
   "metadata": {},
   "outputs": [],
   "source": [
    "public class Rectangle extends Shape {\n",
    "    private int length;\n",
    "    private int width;\n",
    "\n",
    "    public Rectangle(String name, int length, int width) {\n",
    "        super(name);\n",
    "        this.length = length;\n",
    "        this.width = width;\n",
    "    }\n",
    "}\n",
    "\n",
    "class Circle extends Shape {\n",
    "    @Override\n",
    "    public double calc_area() {\n",
    "        return length * width;\n",
    "    }\n",
    "}\n"
   ]
  },
  {
   "cell_type": "markdown",
   "metadata": {},
   "source": [
    "## Derived Class: Triangle\n",
    "Next, let's create a `Triangle` class that also inherits from `Shape`."
   ]
  },
  {
   "cell_type": "code",
   "execution_count": null,
   "metadata": {},
   "outputs": [],
   "source": [
    "public class Triangle extends Shape {\n",
    "    private int side1;\n",
    "    private int side2;\n",
    "    private int side3;\n",
    "\n",
    "    public Triangle(String name, int s1, int s2, int s3) {\n",
    "        super(name);\n",
    "        this.side1 = s1;\n",
    "        this.side2 = s2;\n",
    "        this.side3 = s3;\n",
    "    }\n",
    "}\n",
    "\n",
    "class Square extends Shape {\n",
    "    @Override\n",
    "    public String draw() {\n",
    "        return \"Drawing a square\";\n",
    "    }\n",
    "}\n"
   ]
  },
  {
   "cell_type": "markdown",
   "metadata": {},
   "source": [
    "## Testing Our Classes\n",
    "Let's create instances of `Rectangle` and `Triangle` and call their methods."
   ]
  },
  {
   "cell_type": "code",
   "execution_count": null,
   "metadata": {},
   "outputs": [
    {
     "name": "stdout",
     "output_type": "stream",
     "text": [
      "Shape: Rectangle\n",
      "Area of rectangle: 20.0\n",
      "Shape: Triangle\n",
      "Area of triangle: 6.0\n"
     ]
    }
   ],
   "source": [
    "}\n",
    "\n",
    "public class Main {\n",
    "    public static void main(String[] args) {\n",
    "        Shape myCircle = new Circle();\n",
    "        Shape mySquare = new Square();\n",
    "\n",
    "        System.out.println(myCircle.draw()); // Outputs: Drawing a circle\n",
    "        System.out.println(mySquare.draw()); // Outputs: Drawing a square\n",
    "    }\n",
    "}"
   ]
  },
  {
   "cell_type": "markdown",
   "metadata": {},
   "source": [
    "In the example above, `Shape` acts as the superclass, while `Circle` and `Square` are subclasses that override the `draw` method to provide specific behavior. This demonstrates **polymorphism**, enabling us to reference subclasses using a superclass type and invoke the overridden methods dynamically at runtime. This is particularly powerful as it allows for flexibility in the code, facilitating easier changes and enhancements."
   ]
  },
  {
   "cell_type": "markdown",
   "metadata": {},
   "source": [
    "### Benefits of Using Class Hierarchies\n",
    "1. **Code Reusability**: Common behaviors are defined in the superclass, significantly reducing code duplication and making it easier to maintain and update.\n",
    "2. **Organized Structure**: A clear hierarchical structure in your code aids in understanding the relationships between classes, making the codebase more intuitive and manageable.\n",
    "3. **Polymorphism**: Allows for dynamic method resolution, enabling methods to be invoked on objects of subclasses through references of the superclass type."
   ]
  },
  {
   "cell_type": "markdown",
   "metadata": {},
   "source": [
    "## Practical Exercise: Popcorn Hack 1\n",
    "Let's implement the `Triangle` subclass to deepen your understanding. Below is a half-completed method for the `Triangle` class. Your task is to complete the `draw` method:\n",
    "\n",
    "    ```java\n",
    "class Shape {\n",
    "    public String draw() {\n",
    "        return \"Drawing a shape\";\n",
    "    }\n",
    "}\n",
    "\n",
    "    class Triangle extends Shape {\n",
    "        @Override\n",
    "        public String draw() {\n",
    "            // TODO: Implement this method\n",
    "        }\n",
    "    }\n",
    "\n",
    "    public class Main {\n",
    "        public static void main(String[] args) {\n",
    "            Shape myTriangle = new Triangle();\n",
    "            System.out.println(myTriangle.draw()); // Should output: \"Drawing a triangle.\"\n",
    "        }\n",
    "    }\n",
    "    ```\n",
    "Make sure your implementation returns a unique string for the `Triangle` class. This exercise will help reinforce how subclasses can extend functionality."
   ]
  },
  {
   "cell_type": "markdown",
   "metadata": {},
   "source": [
    "### Expanding Your Skills: Adding a Rectangle Class\n",
    "Next, let's implement the `Rectangle` subclass. Below is the basic setup for it. Your task is to implement the `draw` method for the `Rectangle` class:\n",
    "\n",
    "    ```java\n",
    "class Rectangle extends Shape {\n",
    "    @Override\n",
    "    public String draw() {\n",
    "        // TODO: Implement this method\n",
    "    }\n",
    "}\n",
    "\n",
    "    public static void main(String[] args) {\n",
    "        Shape myRectangle = new Rectangle();\n",
    "        System.out.println(myRectangle.draw()); // Should output: \"Drawing a rectangle.\"\n",
    "    }\n",
    "    ```\n",
    "Complete the `draw` method in `Rectangle`, ensuring it returns a unique string. This will reinforce how multiple subclasses can have distinct implementations of the same method, enhancing your understanding of class hierarchies."
   ]
  },
  {
   "cell_type": "markdown",
   "metadata": {},
   "source": [
    "## Polymorphism"
   ]
  },
  {
   "cell_type": "markdown",
   "metadata": {},
   "source": [
    "Learning Targets:\n",
    "* What is Polymorphism\n",
    "* Difference between Static and Dynamic Data Types\n",
    "* Compile Time vs Run time"
   ]
  },
  {
   "cell_type": "markdown",
   "metadata": {},
   "source": [
    "***"
   ]
  },
  {
   "cell_type": "markdown",
   "metadata": {},
   "source": [
    "* \"A reference variable is **polymorphic** when it can refer to objects of different classes in the code\"\n",
    "* \"A method is **polymorphic** when it is overriden in at least one subclass\"\n",
    "* \"**Polymorphism** is the act of executing an overriden ```non-static``` method from the correct class at runtime based on the actual object type\""
   ]
  },
  {
   "cell_type": "code",
   "execution_count": null,
   "metadata": {},
   "outputs": [],
   "source": [
    "public class Shape {\n",
    "    protected String name;\n",
    "    private int length;\n",
    "    private int width;\n",
    "\n",
    "    // Parameterized constructor\n",
    "    public Shape(String name, int length, int width) {\n",
    "        this.name = name;\n",
    "        this.length = length;\n",
    "        this.width = width;\n",
    "    }\n",
    "\n",
    "    // Method to calculate the area\n",
    "    public double calc_area() {\n",
    "        return this.length * this.width;\n",
    "    }\n",
    "}\n",
    "\n",
    "public class Triangle extends Shape {\n",
    "    private int side1;\n",
    "    private int side2;\n",
    "    private int side3;\n",
    "\n",
    "    // Constructor that takes a name and three side lengths\n",
    "    public Triangle(String name, int s1, int s2, int s3) {\n",
    "        super(name, 0, 0); // Call to Shape constructor to set the name\n",
    "        this.name = \"triangle\";\n",
    "        this.side1 = s1;\n",
    "        this.side2 = s2;\n",
    "        this.side3 = s3;\n",
    "    }\n",
    "\n",
    "    @Override\n",
    "    public double calc_area() {\n",
    "        double s = (side1 + side2 + side3) / 2.0; // Semi-perimeter\n",
    "        return Math.sqrt(s * (s - side1) * (s - side2) * (s - side3));\n",
    "    }\n",
    "}\n",
    "\n",
    "//creates a \"Shape\" class using a \"Triangle\" constructor\n",
    "Shape triangle = new Triangle(\"Equilateral\",1,1,1); \n",
    "// Therefore the calc_area is overriden\n",
    "System.out.println(triangle.calc_area()); "
   ]
  },
  {
   "cell_type": "markdown",
   "metadata": {},
   "source": [
    "## How Does This Work?\n",
    "\n",
    "<img width=\"441\" alt=\"Screenshot 2024-09-24 at 3 41 23 PM\" src=\"https://github.com/user-attachments/assets/11a11c1e-df70-4b9d-9d40-fc0720363d30\">\n",
    "\n",
    "\n",
    "Let's start with this line:\n",
    "``` Shape myObject = new Triangle();```\n",
    "\n",
    "It may seem like you are magically creating a Shape Object with the Triangle, but you are not. Instead you actually are creating a Triangle Object. The difference is that the Shape variable is referencing the Shape parts of the Triangle.\n",
    "* \"A reference variable can store a refernece to its declared class or any subclass of its declared class\"\n",
    "\n",
    "\n",
    "This also means that if the data type is the SuperClass and you try to call a method that doesn't exist in the SuperClass, it will return an error. But you can cast the variable to the SubClass because the refrence is the SubClass. After casting if you call a method that is only in the subclass then it won't return an error.\n",
    "\n",
    "Next running methods:\n",
    "```myObject.calc_area() == Triangle.calc_area();```\n",
    "\n",
    "When you run a method that the Shape has, it starts at the referenced object and checks if there is an override, if not it moves up the ancestry chain until it either finds an override or finds the orginal method."
   ]
  },
  {
   "cell_type": "markdown",
   "metadata": {},
   "source": [
    "## Popcorn Hacks\n",
    "* Create an example of Polymorphism in your own project.\n",
    "\n",
    "If you want some more information and examples of Polymorphism see the examples further down"
   ]
  },
  {
   "cell_type": "markdown",
   "metadata": {},
   "source": [
    "## Static vs Dynamic Types"
   ]
  },
  {
   "cell_type": "markdown",
   "metadata": {},
   "source": [
    "**static types**: static types is simply the type.\n",
    "\n",
    "**dynamic types**: dynamic type is the type of the value during runtime"
   ]
  },
  {
   "cell_type": "code",
   "execution_count": null,
   "metadata": {},
   "outputs": [],
   "source": [
    "class Shape {\n",
    "    String getName(){\n",
    "        return \"Shape\"\n",
    "    }\n",
    "}\n",
    "\n",
    "class Square extends Shape{\n",
    "    @Override\n",
    "    String getName(){\n",
    "        return \"Square\"\n",
    "    }\n",
    "}\n",
    "\n",
    "Shape myShape = new Square();"
   ]
  },
  {
   "cell_type": "markdown",
   "metadata": {},
   "source": [
    "<img width=\"643\" alt=\"Screenshot 2024-09-24 at 3 41 56 PM\" src=\"https://github.com/user-attachments/assets/2cf84906-8a22-4c0d-aa4f-096e85eb822c\">"
   ]
  },
  {
   "cell_type": "markdown",
   "metadata": {},
   "source": [
    "**Shape** is a static type, but at runtime ```myShape``` is referencing  **Sqaure**, so my ```myShape``` is the dynamic type of **Square**.\n",
    "\n"
   ]
  },
  {
   "cell_type": "markdown",
   "metadata": {},
   "source": [
    "## Popcorn Hacks\n",
    "\n",
    "Using your previous polymorphism example, explain which parts are the static types and which are the dynamic types\n",
    "\n",
    "*Read [this](https://www.cs.cornell.edu/courses/JavaAndDS/files/staticType.pdf) for more information*"
   ]
  },
  {
   "cell_type": "markdown",
   "metadata": {},
   "source": [
    "## Compile-Time vs Run-Time methods"
   ]
  },
  {
   "cell_type": "markdown",
   "metadata": {},
   "source": [
    "Compile time is when you are writing your code. Once you have written your code it is  *compiled* into something the computer can run.\n",
    "\n",
    "Run-time is when you are actually running the code. This is after the compiler is complete and when the code starts exectuting.\n",
    "\n",
    "There are some differences between Compile-Time and Run-Time. The case we will be going over breifly is the difference in methods. When you create a Shape with a Square you can't run the methods built solely into the square, it must be methods from the shape first. **But why?**"
   ]
  },
  {
   "cell_type": "markdown",
   "metadata": {},
   "source": [
    "This is the difference between Compile-Time and Run-Time\n",
    "\n",
    "During Runtime: \n",
    "When you are creating a dynamic reference of a different with a type than the static type, it searches the superclass for the attributes of the static type, then overrides any that the child has overriden. But it doesn't include the methods from the child.\n",
    "\n",
    "So basically even if you have methods that exist on the referenced object, in run-time those methods may be ignored because the static type doesn't include them.\n",
    "\n",
    "If you want to run a method that is only in the child class then you can use **down-casting**."
   ]
  },
  {
   "cell_type": "code",
   "execution_count": null,
   "metadata": {},
   "outputs": [],
   "source": [
    "class Shape {\n",
    "    String getName(){\n",
    "        return \"Shape\";\n",
    "    }\n",
    "}\n",
    "\n",
    "class Square extends Shape{\n",
    "    @Override\n",
    "    String getName(){\n",
    "        return \"Square\";\n",
    "    }\n",
    "\n",
    "    int getSides(){\n",
    "        return 4;\n",
    "    }\n",
    "}\n",
    "\n",
    "Shape myShape = new Square(); //this does not have access to the Sqaure methods despite referencing a sqaure\n",
    "\n",
    "Square mySquare = (Square)myShape; //down-cast the Shape to a Sqaure to run the Sqaure specific methods\n",
    "System.out.println(mySquare.getSides());//after down-casting you can now run the Square methods"
   ]
  },
  {
   "cell_type": "markdown",
   "metadata": {},
   "source": [
    "<img width=\"366\" alt=\"Screenshot 2024-09-24 at 3 40 55 PM\" src=\"https://github.com/user-attachments/assets/08415e0b-0bbc-403d-be4c-e16731e08ad2\">\n"
   ]
  },
  {
   "cell_type": "markdown",
   "metadata": {},
   "source": [
    "## Popcorn Hacks\n",
    "* Define **down-casting** in your own words\n",
    "* add an example of down-casting to your previous polymorphism example"
   ]
  },
  {
   "cell_type": "markdown",
   "metadata": {},
   "source": [
    "***\n",
    "***"
   ]
  },
  {
   "cell_type": "markdown",
   "metadata": {},
   "source": [
    "## Examples of Polymorphism and the effects\n",
    "Here are some examples of Polymorphism."
   ]
  },
  {
   "cell_type": "markdown",
   "metadata": {},
   "source": [
    "1- Executing the overriden method from the referenced subclass in the datatype of the superclass."
   ]
  },
  {
   "cell_type": "code",
   "execution_count": null,
   "metadata": {},
   "outputs": [],
   "source": [
    "class Water {\n",
    "    public String typeOfWater(){\n",
    "        return \"water\";\n",
    "    }\n",
    "}\n",
    "\n",
    "class Lake extends Water {\n",
    "    @Override\n",
    "    public String typeOfWater(){\n",
    "        return \"lake\";\n",
    "    }\n",
    "}\n",
    "\n",
    "//creates a \"Water\" class using a \"Lake\" constructor\n",
    "Water lake = new Lake(); \n",
    "// Therefore the typeOfWater method is overriden\n",
    "System.out.println(lake.typeOfWater()); "
   ]
  },
  {
   "cell_type": "markdown",
   "metadata": {},
   "source": [
    "2- You can pass a subclass into an argument that is asking for the parent class. "
   ]
  },
  {
   "cell_type": "code",
   "execution_count": null,
   "metadata": {},
   "outputs": [],
   "source": [
    "class Shape{\n",
    "    public int getSize(){\n",
    "        return 1;\n",
    "    }\n",
    "}\n",
    "\n",
    "class Square extends Shape{\n",
    "    @Override\n",
    "    public int getSize(){\n",
    "        return 2;\n",
    "    }\n",
    "}\n",
    "\n",
    "int getSizePlusOne(Shape s){ //argument of class \"Shape\"\n",
    "    return s.getSize() +1;\n",
    "}\n",
    "\n",
    "Shape myShape = new Shape();\n",
    "//passes through a \"Shape\"\n",
    "System.out.println(getSizePlusOne(myShape)); \n",
    "\n",
    "Square mySquare = new Square();\n",
    "//passes through a \"Square\" as a \"Shape\" with the square's \"getSize()\" method\n",
    "System.out.println(getSizePlusOne(mySquare)); "
   ]
  },
  {
   "cell_type": "markdown",
   "metadata": {},
   "source": [
    "3- You can cast from the superclass to the subclass (**down-casting**). The superclass **must** be referencing the subclass."
   ]
  },
  {
   "cell_type": "code",
   "execution_count": null,
   "metadata": {},
   "outputs": [],
   "source": [
    "class Electronic{\n",
    "    public void playSound(){\n",
    "        System.out.println(\"Beep boop\");\n",
    "    }\n",
    "}\n",
    "\n",
    "class Computer extends Electronic{\n",
    "    @Override\n",
    "    public void playSound(){\n",
    "        System.out.println(\"Click clack\");\n",
    "    }\n",
    "}\n",
    "\n",
    "//creates a \"Electronic\" class using a \"Computer\" constructor\n",
    "Electronic device = new Computer(); \n",
    "\n",
    "//casts the \"Electronic\" to a \"Computer\"\n",
    "Computer  computer = (Computer)device; \n",
    "\n",
    "computer.playSound();"
   ]
  },
  {
   "cell_type": "code",
   "execution_count": null,
   "metadata": {},
   "outputs": [],
   "source": [
    "class Electronic{\n",
    "    public void playSound(){\n",
    "        System.out.println(\"Beep boop\");\n",
    "    }\n",
    "}\n",
    "\n",
    "class Computer extends Electronic{\n",
    "    @Override\n",
    "    public void playSound(){\n",
    "        System.out.println(\"Click clack\");\n",
    "    }\n",
    "}\n",
    "\n",
    "Electronic device = new Electronic(); //creates a \"Electronic\" class using a \"Electronic\" constructor\n",
    "\n",
    "Computer  computer = (Computer)device; //cannot cast the \"Electronic\" to a \"Computer\""
   ]
  },
  {
   "cell_type": "markdown",
   "metadata": {},
   "source": [
    "4- Down-casting doesn't mean changing the reference to the obejct, so polymorphism will still apply"
   ]
  },
  {
   "cell_type": "code",
   "execution_count": null,
   "metadata": {},
   "outputs": [],
   "source": [
    "class Furniture{\n",
    "    String getName(){\n",
    "        return \"Furniture\";\n",
    "    }\n",
    "}\n",
    "\n",
    "class Table extends Furniture{\n",
    "    @Override\n",
    "    String getName(){\n",
    "        return \"Table\";\n",
    "    }\n",
    "}\n",
    "\n",
    "class CoffeeTable extends Table{\n",
    "    @Override\n",
    "    String getName(){\n",
    "        return super.getName() + \" Coffee\";\n",
    "    }\n",
    "}\n",
    "\n",
    "Furniture myTable = new CoffeeTable();\n",
    " //runs \"CoffeeTable\" method\n",
    "System.out.println(myTable.getName());\n",
    "\n",
    "Table myOtherTable = (Table)myTable;\n",
    "//method exectuted doesn't change despite casting-down\n",
    "System.out.println(myOtherTable.getName()); "
   ]
  },
  {
   "cell_type": "markdown",
   "metadata": {},
   "source": [
    "5- you can cast upward and polymorphic behaviour will apply."
   ]
  },
  {
   "cell_type": "code",
   "execution_count": null,
   "metadata": {},
   "outputs": [],
   "source": [
    "class Sport{\n",
    "    public int numberOfPlayers(){\n",
    "        return (int)Double.NaN; //ends up being 0 but whatever\n",
    "    }\n",
    "    public String name(){\n",
    "        return \"Sport\";\n",
    "    }\n",
    "}\n",
    "\n",
    "class Soccer extends Sport{\n",
    "    @Override\n",
    "    public int numberOfPlayers(){\n",
    "        return 11;\n",
    "    }\n",
    "    @Override\n",
    "    public String name(){\n",
    "        return \"Soccer\";\n",
    "    }\n",
    "}\n",
    "\n",
    "//creates a a soccer object\n",
    "Soccer mySoccer = new Soccer();\n",
    "\n",
    "Sport mySoccerSport = (Sport)mySoccer;\n",
    "System.out.println(mySoccerSport.numberOfPlayers());"
   ]
  },
  {
   "cell_type": "markdown",
   "metadata": {},
   "source": [
    "### Polymorphism with the Object class\n",
    "* see the lesson 9.7 about [Object Superclass](linkHere)\n",
    "\n",
    "Polymorphism also applies with the **Object Superclass**.\n",
    "Techically any class or object is an ```Object```."
   ]
  },
  {
   "cell_type": "code",
   "execution_count": null,
   "metadata": {},
   "outputs": [],
   "source": [
    "class Fruit{\n",
    "    @Override\n",
    "    public String toString(){\n",
    "        return \"I'm a Fruit!\";\n",
    "    }\n",
    "}\n",
    "class Banana extends Fruit{\n",
    "    @Override\n",
    "    public boolean equals(Object obj){ //overrides the equals\n",
    "        return true;\n",
    "    }\n",
    "}\n",
    "\n",
    "\n",
    "Object banana = new Banana();\n",
    "System.out.println(banana.toString());\n",
    "//if \".equals()\" was not overriden from the \"Object\" this should always return false\n",
    "System.out.println(banana.equals(null)); "
   ]
  },
  {
   "cell_type": "markdown",
   "metadata": {},
   "source": [
    "## Object Superclass"
   ]
  },
  {
   "cell_type": "markdown",
   "metadata": {},
   "source": [
    "Learning Targets: \n",
    "   * What is the *Object* class\n",
    "   * Why is the *Object* class important to remember"
   ]
  },
  {
   "cell_type": "markdown",
   "metadata": {},
   "source": [
    "***"
   ]
  },
  {
   "cell_type": "markdown",
   "metadata": {},
   "source": [
    "Every class and object created **without** the ```extends``` keyword will be implicitly extended from the **[Object Superclass](https://docs.oracle.com/javase/8/docs/api/java/lang/Object.html)**. This means it will inherit some basic methods. Some notable methods are:\n",
    "1. ```getClass()```\n",
    "2. ```toString()```\n",
    "3. ```equals()```"
   ]
  },
  {
   "cell_type": "markdown",
   "metadata": {},
   "source": [
    "### So What?\n",
    "Well its important to keep in mind when writing out your class. If you are planning to have a **method** in your class/object that **matches** the basic **Object**, then it **must** be a ```public override``` because all of the Object methods are public.\n",
    "* are some methods from Object such as **getClass()** that you **cannot** override."
   ]
  },
  {
   "cell_type": "code",
   "execution_count": null,
   "metadata": {},
   "outputs": [],
   "source": [
    "// this will return an error\n",
    "class Shape {\n",
    "    String toString(){\n",
    "        return \"Shape\";\n",
    "    }\n",
    "}"
   ]
  },
  {
   "cell_type": "code",
   "execution_count": null,
   "metadata": {},
   "outputs": [],
   "source": [
    "// this will be fine\n",
    "class Shape{\n",
    "    @Override\n",
    "    public String toString(){\n",
    "        return \"Shape\";\n",
    "    }\n",
    "}"
   ]
  },
  {
   "cell_type": "markdown",
   "metadata": {},
   "source": [
    "## Popcorn Hacks\n",
    "Create an example where you execute an unchanged method from *Object*, then execute a different method from *Object* that you changed."
   ]
  },
  {
   "cell_type": "markdown",
   "metadata": {},
   "source": [
    "# 9.1 Hacks\n",
    "\n",
    "- Implement two new subclasses, Circle and Hexagon, extending from the Shape class. Each shape should have a method to calculate its area and should override the print_something() method to print something unique for that shape. Follow the same structure as the Rectangle and Triangle classes!\n",
    "\n",
    "- Optional!\n",
    "- Create a new subclass called Ellipse that extends Shape. Update Your Driver Code\n",
    "\n",
    "- Constructor: Implement a constructor for Ellipse that accepts parameters for name, length, and width. This constructor should call the superclass constructor using super().\n",
    "\n",
    "\n",
    "\n",
    "\n",
    "- Test the Ellipse: Instantiate an Ellipse object and print its area. Verify that the constructor correctly initializes the shape and that the super() keyword is used properly.\n",
    "Hints:\n",
    "\n",
    "- Ellipse Constructor: Use super(name, length, width) to initialize inherited fields.\n",
    "Check Order: Remember, super() must be the first statement in your subclass constructor.\n"
   ]
  },
  {
   "cell_type": "markdown",
   "metadata": {},
   "source": [
    "# 9.3 Hacks\n",
    "\n",
    "- When overriding the area method for both the Ellipse and the Hexagon use the `@Override` notation. \n",
    "- For the area of the hexagon it may be useful to look into the [hexagon area formula](https://www.cuemath.com/measurement/area-of-a-hexagon/):\n",
    "\n",
    "Area = (3√3 / 2) * s²\n",
    "- Also override the `calc_perimeter()` method for both shapes.\n",
    "- use the super keyword to have both shaps use both the parent `print_something()` and child `print_something()` method\n",
    "    Both shapes should print out something along the lines of: \"This is a shape and also a hexagon\""
   ]
  },
  {
   "cell_type": "markdown",
   "metadata": {},
   "source": [
    "# 9.5 Hacks\n",
    "\n",
    "\n",
    "Let's implement the `Triangle` subclass to deepen your understanding. Below is a half-completed method for the `Triangle` class. Your task is to complete the `draw` method. Make sure your implementation returns a unique string for the `Triangle` class. This exercise will help reinforce how subclasses can extend functionality.\n",
    "\n",
    "### Advanced Challenge: Area Calculation\n",
    "Now, let’s enhance our `Shape` class to include an area calculation feature. Modify the `Shape` class to include an `area` method, and implement it in your subclasses. Below is a structure to help you get started: Ensure each subclass calculates and returns its area correctly. This will allow you to practice method overriding further and understand how different shapes can extend base functionalities.\n",
    "\n",
    "\n",
    "## Homework Hack\n",
    "For your homework, create your own class hierarchy for shapes. You should have a base class called `Shape` with subclasses `Triangle`, `Rectangle`, and `Hexagon`. Each subclass should implement a method called `draw()`, returning a unique string for each shape type.\n",
    "\n",
    "    - `Triangle`: \"Drawing a triangle.\"\n",
    "\n",
    "    - `Rectangle`: \"Drawing a rectangle.\"\n",
    "\n",
    "    - `Hexagon`: \"Drawing a hexagon.\"\n",
    "\n",
    "Make sure to demonstrate polymorphism by creating an array of `Shape` types and iterating through it to call the `draw()` method. This will reinforce your understanding of class hierarchies and method overriding."
   ]
  },
  {
   "cell_type": "markdown",
   "metadata": {},
   "source": [
    "# 9.6 Hacks\n",
    "* using a previous example of inheritance create an example of polymorphsim, or create an example of polymorphic behavhoir between two classes of **Shape** and **Sqaure**\n",
    "* Using the previous polymorphism popcorn hack, explain which parts are static and dynamic data types and when that is the case\n",
    "* Define **Down-Casting** in your own words\n",
    "* using the previous polymorphism example add an example of down-casting."
   ]
  },
  {
   "cell_type": "markdown",
   "metadata": {},
   "source": [
    "# 9.7 Hacks\n",
    "* Create an class where you execute an unchanged method from *Object*, then execute a different method from *Object* that you changed."
   ]
  },
  {
   "cell_type": "markdown",
   "metadata": {},
   "source": [
    "### FRQ Prompt\n",
    "\n",
    "**Consider a program that manages a collection of books, specifically focusing on textbooks. You are required to implement a class named `Textbook` that extends an existing class called `Book`. The `Textbook` class should include the following features:**\n",
    "\n",
    "1. A private integer field named `edition` that represents the edition number of the textbook.\n",
    "2. A constructor that takes three parameters: a string for the title, a double for the price, and an integer for the edition. This constructor should invoke the superclass constructor to initialize the title and price.\n",
    "3. A method `getEdition()` that returns the edition of the textbook.\n",
    "4. A method `canSubstituteFor(Textbook other)` that determines if the current textbook can be substituted for another textbook. This method should return true if both textbooks have the same title and the current textbook's edition is equal to or greater than the other textbook's edition.\n",
    "5. An overridden method `getBookInfo()` that returns a string representation of the textbook information, including the title, price, and edition.\n",
    "6. Optional: Include error handling in the constructor to ensure that the edition is a positive integer, and override the `toString()` method for convenient output of the textbook information.\n",
    "\n",
    "Write the complete implementation of the `Textbook` class, including all specified methods and any additional features you believe would be beneficial.\n"
   ]
  },
  {
   "cell_type": "markdown",
   "metadata": {},
   "source": [
    "## Multiple Choice\n",
    "### 1. What is wrong with this block of code?"
   ]
  },
  {
   "cell_type": "code",
   "execution_count": null,
   "metadata": {},
   "outputs": [],
   "source": [
    "class Shape{\n",
    "    private double length = 0;\n",
    "    private double width = 0;\n",
    "    \n",
    "    public Shape(double length, double width){\n",
    "        this.length = length;\n",
    "        this.width = width;\n",
    "    }\n",
    "\n",
    "    public double getArea(){\n",
    "        return this.length * this.width;\n",
    "    }\n",
    "\n",
    "    private String toString(){\n",
    "        return \"Shape length:\"+ (new Double(this.length)).toString() + \" width:\" + (new Double(this.width)).toString();\n",
    "    }\n",
    "}\n",
    "\n",
    "Shape myShape = new Shape(2,3);\n",
    "\n",
    "System.out.println(myShape.getArea());"
   ]
  },
  {
   "cell_type": "markdown",
   "metadata": {},
   "source": [
    "a) You can't use the **this** keyword in the constructor\n",
    "\n",
    "b) When passing a **double** through an argument it must be in the form of 0.0\n",
    "\n",
    "c) The **toString()** method must be public\n",
    "\n",
    "d) The **getArea()** method doesn't return a double\n",
    "\n",
    "### 2. Which method cannot be exectuted in the following example of Polymorphism"
   ]
  },
  {
   "cell_type": "code",
   "execution_count": null,
   "metadata": {},
   "outputs": [],
   "source": [
    "class Water{\n",
    "    public String toString(){\n",
    "        return \"Water\";\n",
    "    }\n",
    "\n",
    "    private boolean isSalty(){\n",
    "        return false;\n",
    "    }\n",
    "\n",
    "    public String typeOfWater(){\n",
    "        return \"Static\";\n",
    "    }\n",
    "\n",
    "}\n",
    "\n",
    "class Lake extends Water{\n",
    "    public String toString(){\n",
    "        return \"Lake\";\n",
    "    }\n",
    "\n",
    "    public boolean isSalty(){\n",
    "        return true;\n",
    "    }\n",
    "}\n",
    "\n",
    "Water myLakeWater = new Lake();"
   ]
  },
  {
   "cell_type": "markdown",
   "metadata": {},
   "source": [
    "a) **typeOfWater()**\n",
    "\n",
    "b) **isSalty()**\n",
    "\n",
    "c) **toString()**\n",
    "\n",
    "d) **getClass()**"
   ]
  }
 ],
 "metadata": {
  "kernelspec": {
   "display_name": "java (IJava/j!)",
   "language": "java",
   "name": "jbang-ijava"
  },
  "language_info": {
   "codemirror_mode": "java",
   "file_extension": ".jshell",
   "mimetype": "text/x-java-source",
   "name": "java",
   "pygments_lexer": "java",
   "version": "3.12.6"
  }
 },
 "nbformat": 4,
 "nbformat_minor": 2
}
