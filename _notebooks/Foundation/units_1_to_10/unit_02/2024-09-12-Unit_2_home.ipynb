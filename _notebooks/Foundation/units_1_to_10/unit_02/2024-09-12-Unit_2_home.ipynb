{
 "cells": [
  {
   "cell_type": "markdown",
   "metadata": {
    "vscode": {
     "languageId": "raw"
    }
   },
   "source": [
    "---\n",
    "layout: post\n",
    "title: Unit 2 — Using Objects \n",
    "categories: ccc\n",
    "courses: {'csa': {'week': 5}}\n",
    "toc: true\n",
    "comments: true\n",
    "author: Aadit Mathur, Eric Yu, Shuban Pal, Rahul Verma\n",
    "permalink: /csa/unit2/period3/home/\n",
    "menu: nav/CSA_Units/unit2/period3.html\n",
    "---"
   ]
  },
  {
   "cell_type": "markdown",
   "metadata": {},
   "source": [
    "# Unit 2 - Using Objects\n",
    "\n",
    "This is one of the **most important** concepts in Java. Buckle up and pay attention!\n",
    "\n",
    "\n",
    "## Learning Goals\n",
    "- Understand classes and objects as a concept\n",
    "  - Learn about attributes and methods\n",
    "- Learn about the String class and its methods\n",
    "- Learn about the wrapper classes for primitives\n",
    "- Learn about the Math module\n",
    "\n",
    "## Demos\n",
    "- Book (what are objects?)\n",
    "- Rubiks cube (methods and classes)\n",
    "- Box (autoboxing/unboxing)\n",
    "\n",
    "## In-Class Activities\n",
    "- Method golf (method signatures)\n",
    "- Shooting hoops (MC practice)\n",
    "\n",
    "## Resources\n",
    "- [Programiz](https://www.programiz.com/java-programming/class-objects)\n",
    "  - Brief overview\n",
    "- W3Schools [objects](https://www.w3schools.com/java/java_classes.asp), [strings](https://www.w3schools.com/java/java_strings.asp), and [math](https://www.w3schools.com/java/java_math.asp)\n",
    "  - More detailed explanations\n",
    "- [AP Classroom](https://apclassroom.collegeboard.org/)\n",
    "  - Everything needed for the AP exam in this unit\n",
    "- Official documentation for [objects](https://docs.oracle.com/javase/8/docs/api/java/util/Objects.html), [strings](https://docs.oracle.com/en/java/javase/22/docs/api/java.base/java/lang/String.html), and [math](https://docs.oracle.com/javase/8/docs/api/java/lang/Math.html)\n",
    "  - Very detailed\n"
   ]
  },
  {
   "cell_type": "markdown",
   "metadata": {},
   "source": [
    "# Objects"
   ]
  },
  {
   "cell_type": "markdown",
   "metadata": {},
   "source": [
    "## What are objects?\n",
    "\n",
    "Brief note: The text here is useful for following along and reviewing after the lesson. However, for the best experience, I'd recommend you simply pay attention to the presentation and run the code as you go.\n",
    "\n",
    "Let's say we have a book. This book has several properties, such as a title, author, and publisher. We can represent this with a few variables in our code.\n",
    "\n",
    "<img src=\"https://github.com/user-attachments/assets/68ca47b5-caa1-40c1-9e9b-394577621769\" alt=\"image\" width=\"70%\" />\n"
   ]
  },
  {
   "cell_type": "code",
   "execution_count": 6,
   "metadata": {
    "vscode": {
     "languageId": "java"
    }
   },
   "outputs": [
    {
     "name": "stdout",
     "output_type": "stream",
     "text": [
      "The title of the book is The Guide to Failure\n",
      "The author of the book is Aadit Mathur\n",
      "The publisher of the book is The Crusaders of FreeBSD\n"
     ]
    }
   ],
   "source": [
    "class Main {\n",
    "    public static void main(String[] args) {\n",
    "        String title = \"The Guide to Failure\";\n",
    "        String author = \"Aadit Mathur\";\n",
    "        String publisher = \"The Crusaders of FreeBSD\";\n",
    "        String content = \"...\";\n",
    "\n",
    "        System.out.println(\"The title of the book is \" + title);\n",
    "        System.out.println(\"The author of the book is \" + author);\n",
    "        System.out.println(\"The publisher of the book is \" + publisher);\n",
    "    }\n",
    "}\n",
    "\n",
    "Main.main(new String[]{});"
   ]
  },
  {
   "cell_type": "markdown",
   "metadata": {},
   "source": [
    "That's all well and dandy, until we want to add another book."
   ]
  },
  {
   "cell_type": "code",
   "execution_count": 7,
   "metadata": {
    "vscode": {
     "languageId": "java"
    }
   },
   "outputs": [
    {
     "name": "stdout",
     "output_type": "stream",
     "text": [
      "The title of the book is The Guide to Failure\n",
      "The author of The Guide to Failure is Aadit Mathur\n",
      "The publisher of The Guide to Failure is The Crusaders of FreeBSD\n",
      "The title of the book is The Tragedy of Mr. Mortensen, Teacher of A101\n",
      "The author of The Tragedy of Mr. Mortensen, Teacher of A101 is Shuban Pal\n",
      "The publisher of The Tragedy of Mr. Mortensen, Teacher of A101 is The Crusaders of FreeBSD\n"
     ]
    }
   ],
   "source": [
    "class Main {\n",
    "    public static void main(String[] args) {\n",
    "        String book1_title = \"The Guide to Failure\";\n",
    "        String book1_author = \"Aadit Mathur\";\n",
    "        String book1_publisher = \"The Crusaders of FreeBSD\";\n",
    "        String book1_content = \"...\"; // placeholder\n",
    "\n",
    "        System.out.println(\"The title of the book is \" + book1_title);\n",
    "        System.out.println(\"The author of \" + book1_title + \" is \" + book1_author);\n",
    "        System.out.println(\"The publisher of \" + book1_title + \" is \" + book1_publisher);\n",
    "\n",
    "        String book2_title = \"The Tragedy of Mr. Mortensen, Teacher of A101\";\n",
    "        String book2_author = \"Shuban Pal\";\n",
    "        String book2_publisher = \"The Crusaders of FreeBSD\";\n",
    "        String book2_content = \"...\";\n",
    "\n",
    "        System.out.println(\"The title of the book is \" + book2_title);\n",
    "        System.out.println(\"The author of \" + book2_title + \" is \" + book2_author);\n",
    "        System.out.println(\"The publisher of \" + book2_title + \" is \" + book2_publisher);\n",
    "    }\n",
    "}\n",
    "\n",
    "Main.main(new String[]{});"
   ]
  },
  {
   "cell_type": "markdown",
   "metadata": {},
   "source": [
    "Within a second, our simple program has turned into a mess. Also, although we named our variables in a wway that allows us to see that theyre related, it would be nice if we could group these attributes together.\n",
    "\n",
    "### Introducing... classes! ✨\n",
    "Classes are a way for us to logically group these attributes and behaviors together. 😋"
   ]
  },
  {
   "cell_type": "code",
   "execution_count": 8,
   "metadata": {
    "vscode": {
     "languageId": "java"
    }
   },
   "outputs": [
    {
     "name": "stdout",
     "output_type": "stream",
     "text": [
      "The title of the book is The Guide to Failure\n",
      "The author of The Guide to Failure is Aadit Mathur\n",
      "The publisher of The Guide to Failure is Crusaders of FreeBSD\n",
      "The title of the book is The Tragedy of Mr. Mortensen, Teacher of A101\n",
      "The author of The Tragedy of Mr. Mortensen, Teacher of A101 is Shuban Pal\n",
      "The publisher of The Tragedy of Mr. Mortensen, Teacher of A101 is Crusaders of FreeBSD\n"
     ]
    }
   ],
   "source": [
    "class Book {\n",
    "    public String title;\n",
    "    public String author;\n",
    "    public String publisher;\n",
    "    public String content;\n",
    "    public int pages;\n",
    "\n",
    "    public Book(String title, String author, String publisher, String content, int pages) {\n",
    "        this.title = title;\n",
    "        this.author = author;\n",
    "        this.publisher = publisher;\n",
    "        this.content = content;\n",
    "        this.pages = pages;\n",
    "    }\n",
    "\n",
    "    public Book(String title, String author, String publisher, String content) {\n",
    "        this.title = title;\n",
    "        this.author = author;\n",
    "        this.publisher = publisher;\n",
    "        this.content = content;\n",
    "        this.pages = 0;\n",
    "    }\n",
    "}\n",
    "\n",
    "class Main {\n",
    "    public static void main(String[] args) {\n",
    "        Book book1 = new Book(\"The Guide to Failure\", \"Aadit Mathur\", \"Crusaders of FreeBSD\", \"...\", 50);\n",
    "        \n",
    "        System.out.println(\"The title of the book is \" + book1.title);\n",
    "        System.out.println(\"The author of \" + book1.title + \" is \" + book1.author);\n",
    "        System.out.println(\"The publisher of \" + book1.title + \" is \" + book1.publisher);\n",
    "        \n",
    "        Book book2 = new Book(\n",
    "            \"The Tragedy of Mr. Mortensen, Teacher of A101\",\n",
    "            \"Shuban Pal\",\n",
    "            \"Crusaders of FreeBSD\",\n",
    "            \"...\"\n",
    "        );\n",
    "\n",
    "        System.out.println(\"The title of the book is \" + book2.title);\n",
    "        System.out.println(\"The author of \" + book2.title + \" is \" + book2.author);\n",
    "        System.out.println(\"The publisher of \" + book2.title + \" is \" + book2.publisher);\n",
    "    }\n",
    "}\n",
    "\n",
    "Main.main(new String[]{});"
   ]
  },
  {
   "cell_type": "markdown",
   "metadata": {},
   "source": [
    "There are a few things to note here:\n",
    "- **Classes as Blueprints**: The class, Book, acts as a blueprint for creating objects, such as our book, \"The Guide to Failure\"\n",
    "- **Objects**: These are different `Book`s made using our \"blueprint\"\n",
    "  - Each of these books (i.e. the things made using our class) are usually called \"instances\" of the class\n",
    "- **Types**: The `Book` class is a type that can be used like something such as a `String`\n",
    "- **The `new` Keyword**: This allows us to create an object of type `Book`\n",
    "- **Constructors**: When we make a `new Book()`, the arguments passed in are matched to the correct constructor, a special function which creates a new instance\n",
    "- **Class-wide variables**: These variables can be accessed with the dot operator\n",
    "- **Dot operator**: Allows us to access class variables\n",
    "- **The `this` Keyword**: Allows us to access class variables from inside the class\n",
    "\n",
    "As you can see, classes allows us to create repeated objects without wasting so many lines of code! In the grand scheme of software development, this greatly helps simplify our code. Even if right now it may seem useless, it is extremely important in the long run.\n",
    "\n",
    "![image](https://github.com/user-attachments/assets/c1b8a119-2ed3-408c-81ec-b4124c3e8cff)"
   ]
  },
  {
   "cell_type": "markdown",
   "metadata": {},
   "source": [
    "## PRACTICE: Objects\n",
    "Now, we'll see if you understand the concept of classes and objects.\n",
    "\n",
    "Try and create a class in the following code space to represent a dog."
   ]
  },
  {
   "cell_type": "code",
   "execution_count": 14,
   "metadata": {
    "vscode": {
     "languageId": "java"
    }
   },
   "outputs": [],
   "source": [
    "class Dog {\n",
    "    public String dog; \n",
    "}\n",
    "\n",
    "public class Main {\n",
    "    public static void main(String[] args) {\n",
    "        Dog myDog = new Dog(\"Shelby\", \"Golden Retriever\", 5); // name, breed, age\n",
    "        myDog.bark(); // should print \"Woof!\"\n",
    "    }\n",
    "}"
   ]
  },
  {
   "cell_type": "markdown",
   "metadata": {},
   "source": [
    "### Non-Void Methods\n",
    "Objects can group attributes together, but they can also group together behaviors. Let's see an example."
   ]
  },
  {
   "cell_type": "code",
   "execution_count": 5,
   "metadata": {
    "vscode": {
     "languageId": "java"
    }
   },
   "outputs": [
    {
     "ename": "CompilationException",
     "evalue": "",
     "output_type": "error",
     "traceback": [
      "\u001b[1m\u001b[30m|   \u001b[1m\u001b[30m            \"A child is a monkey in its mother's eye. Yet that child dreams of going on a wild journey, far beyond her reach.\"\u001b[0m\u001b[1m\u001b[30m\u001b[41m\u001b[0m\u001b[1m\u001b[30m\u001b[0m",
      "\u001b[1m\u001b[31m')' expected\u001b[0m",
      ""
     ]
    }
   ],
   "source": [
    "class Book {\n",
    "    public String title;\n",
    "    public String author;\n",
    "    public String publisher;\n",
    "    public String content;\n",
    "    public int pages;\n",
    "\n",
    "    public Book(String title, String author, String publisher, String content, int pages) {\n",
    "        this.title = title;\n",
    "        this.author = author;\n",
    "        this.publisher = publisher;\n",
    "        this.content = content;\n",
    "        this.pages = pages;\n",
    "    }\n",
    "\n",
    "    public Book(String title, String author, String publisher, String content) {\n",
    "        this.title = title;\n",
    "        this.author = author;\n",
    "        this.publisher = publisher;\n",
    "        this.content = content;\n",
    "        this.pages = 0;\n",
    "    }\n",
    "\n",
    "    public void printInformation() {\n",
    "        System.out.println(\"The book \\\"\" + this.title + \"\\\", written by \" + this.author + \" and published by \" + this.publisher + \" has \" + Integer.toString(this.pages) + \" pages.\");\n",
    "    }\n",
    "    \n",
    "    public void printPage(int page, int charactersPerPage) {\n",
    "        page -= 1;\n",
    "        String pageContent = this.content.substring(charactersPerPage * page, charactersPerPage * (page+1));\n",
    "        System.out.println(pageContent);\n",
    "    }\n",
    "}\n",
    "\n",
    "public class Main {\n",
    "    public static void main(String[] args) {\n",
    "        Book myFaveBook = new Book(\n",
    "            \"The Tragedy of Mr. Mortensen, Teacher of A101\",\n",
    "            \"Shuban Pal\",\n",
    "            \"Crusaders of FreeBSD\",\n",
    "            \"A child is a monkey in its mother's eye. Yet that child dreams of going on a wild journey, far beyond her reach.\"\n",
    "            5\n",
    "        );\n",
    "        \n",
    "        myFaveBook.printPage(1, 18);\n",
    "        myFaveBook.printInformation();\n",
    "    }\n",
    "}"
   ]
  },
  {
   "cell_type": "markdown",
   "metadata": {},
   "source": [
    "Here, we were able to make our code much more readable. In addition, if we have more books in the future, it's likely that we'll reuse these functions. 😮 💨 😮 💨 😮 💨\n",
    "\n",
    "\n",
    "**Void Methods** are functions in classes which have no return value.\n",
    "\n",
    "❓ What is a return value? That's a surprise tool we'll save for later! 🤫🤫🤫"
   ]
  },
  {
   "cell_type": "markdown",
   "metadata": {},
   "source": [
    "## Section 2.4: Calling a Void Method with Parameters\n",
    "\n",
    "### Small Recap: Methods in Python vs Java  \n"
   ]
  },
  {
   "cell_type": "code",
   "execution_count": 10,
   "metadata": {
    "vscode": {
     "languageId": "java"
    }
   },
   "outputs": [
    {
     "ename": "CompilationException",
     "evalue": "",
     "output_type": "error",
     "traceback": [
      "\u001b[1m\u001b[30m|   \u001b[1m\u001b[30mclass Animal\u001b[0m\u001b[1m\u001b[30m\u001b[41m\u001b[0m\u001b[1m\u001b[30m:\u001b[0m",
      "\u001b[1m\u001b[31m'{' expected\u001b[0m",
      "",
      "\u001b[1m\u001b[30m|   \u001b[1m\u001b[30m\u001b[0m\u001b[1m\u001b[30m\u001b[41m\u001b[0m\u001b[1m\u001b[30m# Example usage:\u001b[0m",
      "\u001b[1m\u001b[31millegal character: '#'\u001b[0m",
      ""
     ]
    }
   ],
   "source": [
    "class Animal:\n",
    "    def __init__(self, group):\n",
    "        self.group = group\n",
    "\n",
    "    def getInfo(self):\n",
    "        if self.group == \"bird\":\n",
    "            print(\"Birds: Have feathers, lay eggs, (most) can fly.\")\n",
    "        elif self.group == \"mammal\":\n",
    "            print(\"Mammals: Mammals are known for their big brains.\")\n",
    "        elif self.group == \"fish\":\n",
    "            print(\"Fish: Fish have gills to breathe underwater.\")\n",
    "        elif self.group == \"reptile\":\n",
    "            print(\"Reptiles: Reptiles are cold-blooded.\")\n",
    "        elif self.group == \"amphibian\":\n",
    "            print(\"Amphibian: Amphibians are ectothermic.\")\n",
    "        else:\n",
    "            print(\"Unknown animal group.\")\n",
    "\n",
    "# Example usage:\n",
    "shark = Animal(group=\"fish\")\n",
    "shark.getInfo()"
   ]
  },
  {
   "cell_type": "code",
   "execution_count": 11,
   "metadata": {
    "vscode": {
     "languageId": "java"
    }
   },
   "outputs": [],
   "source": [
    "class Animal {\n",
    "    private String group;\n",
    "\n",
    "    // Constructor to initialize the group\n",
    "    public Animal(String group) {\n",
    "        this.group = group;\n",
    "    }\n",
    "\n",
    "    // Method to print group information\n",
    "    public void getInfo() {\n",
    "        if (group.equals(\"bird\")) {\n",
    "            System.out.println(\"Birds: Have feathers, lay eggs, (most) can fly.\");\n",
    "        } else if (group.equals(\"mammal\")) {\n",
    "            System.out.println(\"Mammals: Mammals are known for their big brains.\");\n",
    "        } else if (group.equals(\"fish\")) {\n",
    "            System.out.println(\"Fish: Fish have gills to breathe underwater.\");\n",
    "        } else if (group.equals(\"reptile\")) {\n",
    "            System.out.println(\"Reptiles: Reptiles are cold-blooded.\");\n",
    "        } else if (group.equals(\"amphibian\")) {\n",
    "            System.out.println(\"Amphibians: Amphibians are ectothermic.\");\n",
    "        } else {\n",
    "            System.out.println(\"Unknown group.\");\n",
    "        }\n",
    "    }\n",
    "\n",
    "    public static void main(String[] args) {\n",
    "        // Example usage\n",
    "        Animal shark = new Animal(\"fish\");\n",
    "        shark.getInfo();\n",
    "    }\n",
    "}\n"
   ]
  },
  {
   "cell_type": "markdown",
   "metadata": {},
   "source": [
    "- Python 🐍: Here, the method is `getInfo()` and it is provided by the `Animal` class. Whenever a new `Animal` class is declared, the `getInfo()` method can be used upon itself to get the info of the new class based on its group.\n",
    "\n",
    "- Java ☕: Here, the method is also `getInfo()` which is also provided by the animal class. This time, the Animal class can be initialized via `constructors`\n",
    "\n",
    "\n",
    "### Method Signatures\n",
    "\n",
    "A method signature is basically the piece of code which lists how the method should act before specific code is given to the method. \n",
    "\n",
    "For example, for the `main` function the signature states that the method is a `public` method, the method is a `static` method, the method returns a `void` type, and it takes in the argument `args[]` as a `String` type.\n"
   ]
  },
  {
   "cell_type": "code",
   "execution_count": 12,
   "metadata": {
    "vscode": {
     "languageId": "java"
    }
   },
   "outputs": [
    {
     "name": "stdout",
     "output_type": "stream",
     "text": [
      "📝 Main method is executed, method has nothing to return.\n"
     ]
    }
   ],
   "source": [
    "public class Main {\n",
    "    public static void main(String args[]) {\n",
    "        System.out.println(\"📝 Main method is executed, method has nothing to return.\");\n",
    "    }\n",
    "}\n",
    "\n",
    "Main.main(new String[]{});"
   ]
  },
  {
   "cell_type": "markdown",
   "metadata": {
    "vscode": {
     "languageId": "java"
    }
   },
   "source": [
    "In the code above, the method signature is `public static void main(String args[])` which is the standard way to write main methods in java. Here is an anatomy of each piece:\n",
    "\n",
    "- `public` ➡️ Make sure the method can be used outside of the `Main` class\n",
    "- `static` ➡️ Make sure the method is a feature packaged into the class and does not work based off of an instance of that class\n",
    "- `void` ➡️ The return type. If the method is set to return nothing, void must be the return type.\n",
    "- `name(type arg1, type argn)` ➡️ The name of the method. **Methods can be named!** The elements listed inside the parentheses next to the name of the method are parameters. They are the values which the method takes in. If the method is set to take no parameters, the parenthesis can be left empty (e.g. `name()`).\n",
    "\n",
    "<img src=\"https://i.postimg.cc/kMYrzGW5/java-main-method.png\" alt=\"image\" />\n",
    "\n",
    "- 👁️ Visibility Modifiers: `public` or `private`\n",
    "- 🔀 Optional: `static` or blank\n",
    "- 📩 Return Type: `void`, `int`, `char`, `double`, `String`, or any other datatype\n",
    "- 🔤 Name: Anything!\n",
    "- 📃 Parameter(s): A list of values that will be passed into the method in `type name` format\n",
    "\n",
    "### Method Parameters\n",
    "\n",
    "The Methodical Methods of the Java Method Parameter:\n",
    "- 1️⃣ RULE 1 - Parameters MUST be passed in order\n",
    "- 2️⃣ RULE 2 - Parameters MUST be separated by comma\n",
    "- 3️⃣ RULE 3 - Parameters MUST include a datatype specification and a name\n",
    "- 3️⃣ RULE 4 - Parameters MUST be referenced by their names inside the method\n",
    "\n",
    "**🤮🤢🗑️😭1️⃣ BAD 1️⃣😭🗑️🤢🤮**\n",
    "\n",
    "```java\n",
    "public static void funny_method(int funny_number, String funny_string) {\n",
    "    System.out.println(funny_number);\n",
    "    System.out.println(funny_string);\n",
    "}\n",
    "\n",
    "funny_method(\"cat\", 1);\n",
    "```\n",
    "\n",
    "<br>\n",
    "<br>\n",
    "\n",
    "**🤑💸🪙😎5️⃣ GOOD 5️⃣😎🪙💸🤑**\n",
    "\n",
    "```java\n",
    "// Initiate method\n",
    "public static void funny_method(int funny_number, String funny_string) {\n",
    "    System.out.println(funny_number);\n",
    "    System.out.println(funny_string);\n",
    "}\n",
    "\n",
    "// Call method\n",
    "funny_method(1, \"cat\");\n",
    "```\n",
    "\n",
    "### Method Overload\n",
    "\n",
    "Method overload occurs when a method has the same name but different parameters. \n",
    "\n",
    "For method overloading purposes, the method signature does NOT include the return type.\n",
    "\n",
    "Imagine you have a method called `printTwoNumbers()` and you had 3 implementations of it as shown below."
   ]
  },
  {
   "cell_type": "code",
   "execution_count": 13,
   "metadata": {
    "vscode": {
     "languageId": "java"
    }
   },
   "outputs": [
    {
     "ename": "CompilationException",
     "evalue": "",
     "output_type": "error",
     "traceback": [
      "\u001b[1m\u001b[30m|   \u001b[1m\u001b[30mpublic void printTwoNumbers(int number1, number2\u001b[0m\u001b[1m\u001b[30m\u001b[41m\u001b[0m\u001b[1m\u001b[30m) {\u001b[0m",
      "\u001b[1m\u001b[31m<identifier> expected\u001b[0m",
      ""
     ]
    }
   ],
   "source": [
    "public void printTwoNumbers() {\n",
    "    System.out.println(1);\n",
    "    System.out.println(1);\n",
    "}\n",
    "\n",
    "public void printTwoNumbers(int number) {\n",
    "    System.out.println(number);\n",
    "    System.out.println(number);\n",
    "}\n",
    "\n",
    "public void printTwoNumbers(int number1, number2) {\n",
    "    System.out.println(number1);\n",
    "    System.out.println(number2);\n",
    "}"
   ]
  },
  {
   "cell_type": "markdown",
   "metadata": {},
   "source": [
    "For each of the 3 method calls below, what would happen?\n",
    "\n",
    "- Method call 1: `printTwoNumbers(2);`\n",
    "- Method call 2: `printTwoNumbers();`\n",
    "- Method call 3: `printTwoNumbers(5, 6);`\n"
   ]
  },
  {
   "cell_type": "code",
   "execution_count": null,
   "metadata": {
    "vscode": {
     "languageId": "java"
    }
   },
   "outputs": [],
   "source": [
    "printTwoNumbers(2);\n",
    "printTwoNumbers();`\n",
    "printTwoNumbers(5, 6);"
   ]
  },
  {
   "cell_type": "markdown",
   "metadata": {},
   "source": [
    "When `printTwoNumbers(2)` was called, compiler started looking for a signature which had the name `printTwoNumbers` which took 1 parameter and as an int. \n",
    "\n",
    "When `printTwoNumbers()` was called, compiler started looking for a signature which had the name `printTwoNumbers` which took no parameters at all. \n",
    "\n",
    "When `printTwoNumbers(2)` was called, compiler started looking for a signature which had the name `printTwoNumbers` which took 2 parameter and both as an ints. "
   ]
  },
  {
   "cell_type": "markdown",
   "metadata": {},
   "source": [
    "## Section 2.5: Calling a Non-Void\n",
    "\n",
    "### What is a Non-Void Method?\n",
    "\n",
    "A non-void method is a method which has a defined return type. This return type is stated in the function's signature. As a recap from earlier, we made a bullet list of every component inside of a method's signature. Here is a recap of the return type segment of a method's signature.\n",
    "\n",
    "📩 Return Type: `void`, `int`, `char`, `double`, `String`, or any other datatype\n",
    "\n",
    "Here is a list of signatures. For each signature, you must be able to tell whether the method corresponding to that signature will be a non-void method or not.\n",
    "\n",
    "1. `public static int function_1(String string)`\n",
    "2. `private static void function_2(int number)`\n",
    "3. `public double function_3(int number)`\n",
    "4. `private void function_4(double funnyDouble)`\n",
    "5. `private int function_5(double notFunnyDouble)`\n",
    "6. `public void function_6(char funnyChar)`"
   ]
  },
  {
   "cell_type": "code",
   "execution_count": null,
   "metadata": {
    "vscode": {
     "languageId": "java"
    }
   },
   "outputs": [],
   "source": [
    "public class MathMachine {\n",
    "    private static boolean isEven(int num) {\n",
    "        if (num%2 == 0) {\n",
    "            return true;\n",
    "        } else {\n",
    "            return false;\n",
    "        }\n",
    "    }\n",
    "\n",
    "    public static void getEvenOrOdd(int num) {\n",
    "        if (isEven(num) == true) {\n",
    "            System.out.println(\"Number is even\");\n",
    "        } else {\n",
    "            System.out.println(\"Number is odd\");\n",
    "        }\n",
    "    }\n",
    "}\n",
    "\n",
    "MathMachine.getEvenOrOdd(2);\n",
    "MathMachine.getEvenOrOdd(3);"
   ]
  },
  {
   "cell_type": "markdown",
   "metadata": {},
   "source": [
    "In the example above, the class `isEven` is a Non-Void method while `getEvenOrOdd` is not. \n",
    "\n",
    "In a Non-Void method, there is always a type to be returned. This value is essentually what calling the method will equal to based on the parameter it is called upon.\n",
    "\n",
    "In the case of `isEven`, the return type was a boolean or a datatype which stores either true or false. \n",
    "\n",
    "Accordingly, whenever `isEven` was called as a method, its assignment would be to whatever value was returned based on its parameter."
   ]
  },
  {
   "cell_type": "markdown",
   "metadata": {},
   "source": [
    "### Calling Non-Void Methods\n",
    "\n",
    "Calling a Non-Void method is the same as calling a void method, except a return value is produced and assigned to the call. \n",
    "\n",
    "Due to this sort of structure, non-void methods are classically used when comparing return values. For example, in the case of `isEven`:\n",
    "\n",
    "```java\n",
    "private static boolean isEven(int num) {\n",
    "    if (num%2 == 0) {\n",
    "        return true;\n",
    "    } else {\n",
    "        return false;\n",
    "    }\n",
    "}\n",
    "```\n",
    "\n",
    "The return type is a boolean. \n",
    "\n",
    "So whenever `isEven(n)` is referenced, where n is an integer, the value of `isEven(n)` gets assigned to either true or false based on the value of n or any underlying logic inside the method. \n",
    "\n",
    "That is why in the code below, `isEven(n)` can be compared directly to a tangiable boolean value.\n",
    "\n",
    "```java\n",
    "public static void getEvenOrOdd(int num) {\n",
    "    if (isEven(num) == true) {\n",
    "        System.out.println(\"Number is even\");\n",
    "    } else {\n",
    "        System.out.println(\"Number is odd\");\n",
    "    }\n",
    "}\n",
    "```\n",
    "\n",
    "## PRACTICE Calling Methods: Method Golf 😋\n",
    "\n",
    "⛳ Link to Method Golf: https://shuban-789.github.io/Shuban-CSA/2024/09/18/method-golf.html"
   ]
  },
  {
   "cell_type": "markdown",
   "metadata": {},
   "source": [
    "# String Objects - Concatenation, Literals, and More\n",
    "\n",
    "## Creating Strings:"
   ]
  },
  {
   "cell_type": "code",
   "execution_count": null,
   "metadata": {
    "vscode": {
     "languageId": "java"
    }
   },
   "outputs": [],
   "source": [
    "public class StringObjects\n",
    "{\n",
    "    public static void main(String[] args)\n",
    "    {\n",
    "        String name1 = \"Skibidi\";\n",
    "        String name2 = new String(\"Sigma\");\n",
    "        String name3 = new String(name1);\n",
    "\n",
    "        System.out.println(name1);\n",
    "        System.out.println(name2);\n",
    "        System.out.println(name3);\n",
    "    }\n",
    "}\n",
    "\n",
    "StringObjects.main(null);"
   ]
  },
  {
   "cell_type": "markdown",
   "metadata": {},
   "source": [
    "---\n",
    "\n",
    "## 📝 Three Ways to Create a String: Let's Break it Down!\n",
    "\n",
    "---\n",
    "\n",
    "#### **First Option:**\n"
   ]
  },
  {
   "cell_type": "code",
   "execution_count": null,
   "metadata": {
    "vscode": {
     "languageId": "java"
    }
   },
   "outputs": [],
   "source": [
    "String name1 = \"Skibidi\";"
   ]
  },
  {
   "cell_type": "markdown",
   "metadata": {},
   "source": [
    "This method of creating a string consists of the following three parts: \n",
    "\n",
    "1. <span style=\"color:orange;\">Class Name —</span> Defines the type of variable (String, Integer, Array, etc.)\n",
    "\n",
    "2. <span style=\"color:orange;\">Variable Name —</span> The name assigned to the variable. This is how the variable will be referenced in the rest of the program. \n",
    "\n",
    "3. <span style=\"color:orange;\">String Value —</span> The actual value you'd like to assign to the variable\n",
    "\n",
    "---"
   ]
  },
  {
   "cell_type": "markdown",
   "metadata": {},
   "source": [
    "### **Second Option:**"
   ]
  },
  {
   "cell_type": "code",
   "execution_count": null,
   "metadata": {
    "vscode": {
     "languageId": "java"
    }
   },
   "outputs": [],
   "source": [
    "String name2 = new String(\"Sigma\");"
   ]
  },
  {
   "cell_type": "markdown",
   "metadata": {},
   "source": [
    "\n",
    "This method is similar to option one but consists of a few extra components (indicated in pink coloring below):\n",
    "\n",
    "1. <span style=\"color:orange;\">Class Name —</span> Again, defines the type of the variable (String, Integers, Arrays, etc.)\n",
    "\n",
    "2. <span style=\"color:orange;\"> Variable Name —</span> How the variable will be referenced in the rest of the program\n",
    "\n",
    "3. <span style=\"color:pink;\">new — </span> A Java keyword which is used to explicitly instantiate a new object.\n",
    "\n",
    "4. <span style=\"color:pink;\">Class Name (Part 2) —</span> The 'new' key word must be followed with the class name of the object being created (in this case, String)\n",
    "\n",
    "5. <span style=\"color:orange;\">String Value —</span> The actual value you'd like to assign to this variable\n"
   ]
  },
  {
   "cell_type": "markdown",
   "metadata": {},
   "source": [
    "---\n",
    "\n",
    "### **Third Option:**"
   ]
  },
  {
   "cell_type": "code",
   "execution_count": null,
   "metadata": {
    "vscode": {
     "languageId": "java"
    }
   },
   "outputs": [],
   "source": [
    "String string1 = \"YIPEE\"\n",
    "String name2 = new String(string1);"
   ]
  },
  {
   "cell_type": "markdown",
   "metadata": {},
   "source": [
    "Finally, a string can be created using the value of another, existing string object. The components needed for this declaration are as follows:\n",
    "\n",
    "1. <span style=\"color:orange;\">Class Name —</span> Again, type of variable will it be? (String, Integers, Arrays, etc.)\n",
    "\n",
    "2. <span style=\"color:orange;\">Variable Name —</span> The name of the variable\n",
    "\n",
    "3. <span style=\"color:orange;\">Java Keyword 'new' —</span> The new keyword in Java is used to explicitly create a new object.\n",
    "\n",
    "4. <span style=\"color:orange;\">Class Name (Part 2) —</span> As indicated before, the new keyword has to be followed with the class name of the object being created.\n",
    "\n",
    "5. <span style=\"color:pink;\">Variable Name (Part 2) —</span> The name of the variable whose value you want the new variable to take on. \n"
   ]
  },
  {
   "cell_type": "markdown",
   "metadata": {},
   "source": [
    "**Importantly**, regardless of which creation method you choose, String objects are immutable. This means that every time you attempt to change the value of some string variable, under the hood, a *new* string object is created with the updated value, and your variable name is used to reference this new object."
   ]
  },
  {
   "cell_type": "markdown",
   "metadata": {},
   "source": [
    "## 📝 What is concatentation?\n",
    "\n",
    "Concatenation allows you to add strings together.\n",
    "\n",
    "There are two primary ways to combine strings. Assume `a`, `b`, and `c` are previously created string variables. \n",
    "\n",
    "- `a += b` : Appends the string value stored in `b` to the string value stored in `a`. In the processs, `a` is redefined to equal this newly appended string. \n",
    "- `c = a + b` : Joins the string values of `a` and `b` together, but doesn't redefine either `a` or `b`. Instead, the resultant value is assigned to `c`. "
   ]
  },
  {
   "cell_type": "code",
   "execution_count": 15,
   "metadata": {
    "vscode": {
     "languageId": "java"
    }
   },
   "outputs": [
    {
     "name": "stdout",
     "output_type": "stream",
     "text": [
      "Skibidi2\n",
      "Skibidi1\n"
     ]
    }
   ],
   "source": [
    "public class Concatentations\n",
    "{\n",
    "    public static void main(String[] args)\n",
    "    {\n",
    "        String name1 = \"Skibidi\";\n",
    "        String name2 = new String(\"Sigma\");\n",
    "        String name3 = new String(name1);\n",
    "\n",
    "        int number1 = 1;\n",
    "        int number2 = 2;\n",
    "        String combine = name1 + \"\" + number1;\n",
    "        name1 += number2; \n",
    "\n",
    "        System.out.println(name1); \n",
    "        System.out.println(combine);\n",
    "    }\n",
    "}\n",
    "\n",
    "Concatentations.main(null);"
   ]
  },
  {
   "cell_type": "markdown",
   "metadata": {},
   "source": [
    "Let's do an exercise for practice! What will the following code segment print?"
   ]
  },
  {
   "cell_type": "code",
   "execution_count": 16,
   "metadata": {
    "vscode": {
     "languageId": "java"
    }
   },
   "outputs": [
    {
     "ename": "CompilationException",
     "evalue": "",
     "output_type": "error",
     "traceback": [
      "\u001b[1m\u001b[30m|   \u001b[1m\u001b[30m        name1 += \"!!\"\u001b[0m\u001b[1m\u001b[30m\u001b[41m\u001b[0m\u001b[1m\u001b[30m\u001b[0m",
      "\u001b[1m\u001b[31m';' expected\u001b[0m",
      "",
      "\u001b[1m\u001b[30m|   \u001b[1m\u001b[30m        String mystery = name1 + name2 + name3\u001b[0m\u001b[1m\u001b[30m\u001b[41m\u001b[0m\u001b[1m\u001b[30m\u001b[0m",
      "\u001b[1m\u001b[31m';' expected\u001b[0m",
      ""
     ]
    }
   ],
   "source": [
    "public class Concatentations\n",
    "{\n",
    "    public static void main(String[] args)\n",
    "    {\n",
    "        String name1 = \"Skibidi\";\n",
    "        String name2 = new String(\"Sigma\");\n",
    "        String name3 = new String(name1);\n",
    "\n",
    "        name1 += \"!!\"\n",
    "        String mystery = name1 + name2 + name3\n",
    "\n",
    "        System.out.println(mystery);\n",
    "    }\n",
    "}\n",
    "\n",
    "// Uncomment the following method call to run the code and check your answer!\n",
    "// Concatentations.main(null);"
   ]
  },
  {
   "cell_type": "markdown",
   "metadata": {},
   "source": [
    "## 📝 Backwards and Forwards Slashes\n",
    "\n",
    "In Java, there are a few characters with pre-assigned purposes. Backwards and forwards slashes are such characters, and they can be easy to mix up, so it's important to pay close attention to them!\n",
    "\n",
    "`\\`: Starts escape sequences. In other words, it can allow you to add special characters to your string.\n",
    "`/`: Usually used as a division operator. Two forward slashes indicate the beginning of a comment.\n",
    "\n",
    "\n",
    "### Backslashes\n",
    "\n",
    "`\\\"` = \"Escapes\" the quote, allowing for you to have quotes within a string without ending the string\n",
    "\n",
    "`\\\\` = Indicates a literal backslash in the string.\n",
    "\n",
    "`\\n` = A newline character\n",
    "\n"
   ]
  },
  {
   "cell_type": "code",
   "execution_count": 17,
   "metadata": {
    "vscode": {
     "languageId": "java"
    }
   },
   "outputs": [
    {
     "name": "stdout",
     "output_type": "stream",
     "text": [
      "This is a double quote: \"\n",
      "This is a backslash: \\\n",
      "This prints on a new line:\n",
      "Second line starts here\n",
      "Result of 10 / 2 is: 5\n"
     ]
    }
   ],
   "source": [
    "public class SlashDemo {\n",
    "    public static void main(String[] args) {\n",
    "        // Using backslashes for escape sequences:\n",
    "        System.out.println(\"This is a double quote: \\\"\");  // Prints a double quote\n",
    "        System.out.println(\"This is a backslash: \\\\\");     // Prints a backslash\n",
    "        System.out.println(\"This prints on a new line:\\nSecond line starts here\");\n",
    "\n",
    "        // Using forward slashes for division and comments:\n",
    "        int a = 10;\n",
    "        int b = 2;\n",
    "        int result = a / b; // Division operation\n",
    "\n",
    "        System.out.println(\"Result of 10 / 2 is: \" + result); // Prints the result of the division\n",
    "    }\n",
    "}\n",
    "\n",
    "SlashDemo.main(null)"
   ]
  },
  {
   "cell_type": "markdown",
   "metadata": {},
   "source": [
    "## 📝 String methods\n",
    "The following are some important methods that can be used on String objects. \n",
    "\n",
    "| Method                                  | Description                                                                                             |\n",
    "|-----------------------------------------|---------------------------------------------------------------------------------------------------------|\n",
    "| `String(String str)`                    | Creates a new `String` object with the same sequence of characters as the specified string `str`                |\n",
    "| `int length()`                          | The number of characters in the `String` object                                                    |\n",
    "| `String substring(int from, int to)`    | Returns the substring beginning at index from and ending at index to - 1. In other words, the start is inclusive and the end is exclusive. |\n",
    "| `String substring(int from)`            | Returns `substring(from, length())`                                                                      |\n",
    "| `int indexOf(String str)`               | Returns the index of the first occurrence of `str`; returns `-1` if not found                            |\n",
    "| `boolean equals(String other)`          | Returns `true` if the calling string is equal to `other`; returns `false` otherwise                                    |\n",
    "| `int compareTo(String other)`           | Returns a value < 0 if the calling string is alphanumerically less than other; returns 0 if it is equal to other; returns a value > 0 if it is alphanumerically greater than other. |\n",
    "\n"
   ]
  },
  {
   "cell_type": "code",
   "execution_count": 18,
   "metadata": {
    "vscode": {
     "languageId": "java"
    }
   },
   "outputs": [
    {
     "ename": "UnresolvedReferenceException",
     "evalue": "Attempt to use definition snippet with unresolved references in Snippet:ClassKey(StringMethodDemo)#35-public class StringMethodDemo {\n    public static void main(String[] args) {\n        String wordOfDay = new String(\"Skibidi\");\n\n        System.out.print(\"Characters in the word 'Skibidi' — \");\n        System.out.println(wordOfDay.length());\n\n        System.out.println(\"\\nThis should return -1, since there is no n in the string\");\n        System.out.println(wordOfDay.lastIndexOf(\"n\"));\n\n        System.out.println(\"\\nThis should display the index of d (5)\");\n        System.out.println(wordOfDay.lastIndexOf(\"d\"));\n        \n        // NOTE: Start is inclusive, end is exclusive\n        System.out.println(\"\\nThis should display the letters between the 2nd and 6th\");\n        System.out.println(word.substring(2,6));\n    }\n}",
     "output_type": "error",
     "traceback": [
      "\u001b[1m\u001b[30m|   \u001b[1m\u001b[30mpublic class StringMethodDemo {\u001b[0m",
      "\u001b[1m\u001b[30m|   \u001b[1m\u001b[30m    public static void main(String[] args) {\u001b[0m",
      "\u001b[1m\u001b[30m|   \u001b[1m\u001b[30m        String wordOfDay = new String(\"Skibidi\");\u001b[0m",
      "\u001b[1m\u001b[30m|   \u001b[1m\u001b[30m\u001b[0m",
      "\u001b[1m\u001b[30m|   \u001b[1m\u001b[30m        System.out.print(\"Characters in the word 'Skibidi' — \");\u001b[0m",
      "\u001b[1m\u001b[30m|   \u001b[1m\u001b[30m        System.out.println(wordOfDay.length());\u001b[0m",
      "\u001b[1m\u001b[30m|   \u001b[1m\u001b[30m\u001b[0m",
      "\u001b[1m\u001b[30m|   \u001b[1m\u001b[30m        System.out.println(\"\\nThis should return -1, since there is no n in the string\");\u001b[0m",
      "\u001b[1m\u001b[30m|   \u001b[1m\u001b[30m        System.out.println(wordOfDay.lastIndexOf(\"n\"));\u001b[0m",
      "\u001b[1m\u001b[30m|   \u001b[1m\u001b[30m\u001b[0m",
      "\u001b[1m\u001b[30m|   \u001b[1m\u001b[30m        System.out.println(\"\\nThis should display the index of d (5)\");\u001b[0m",
      "\u001b[1m\u001b[30m|   \u001b[1m\u001b[30m        System.out.println(wordOfDay.lastIndexOf(\"d\"));\u001b[0m",
      "\u001b[1m\u001b[30m|   \u001b[1m\u001b[30m        \u001b[0m",
      "\u001b[1m\u001b[30m|   \u001b[1m\u001b[30m        // NOTE: Start is inclusive, end is exclusive\u001b[0m",
      "\u001b[1m\u001b[30m|   \u001b[1m\u001b[30m        System.out.println(\"\\nThis should display the letters between the 2nd and 6th\");\u001b[0m",
      "\u001b[1m\u001b[30m|   \u001b[1m\u001b[30m        System.out.println(word.substring(2,6));\u001b[0m",
      "\u001b[1m\u001b[30m|   \u001b[1m\u001b[30m    }\u001b[0m",
      "\u001b[1m\u001b[30m|   \u001b[1m\u001b[30m}\u001b[0m",
      "\u001b[1m\u001b[31mUnresolved dependencies:\u001b[0m",
      "\u001b[1m\u001b[31m   - variable word\u001b[0m"
     ]
    }
   ],
   "source": [
    "public class StringMethodDemo {\n",
    "    public static void main(String[] args) {\n",
    "        String wordOfDay = new String(\"Skibidi\");\n",
    "\n",
    "        System.out.print(\"Characters in the word 'Skibidi' — \");\n",
    "        System.out.println(wordOfDay.length());\n",
    "\n",
    "        System.out.println(\"\\nThis should return -1, since there is no n in the string\");\n",
    "        System.out.println(wordOfDay.lastIndexOf(\"n\"));\n",
    "\n",
    "        System.out.println(\"\\nThis should display the index of d (5)\");\n",
    "        System.out.println(wordOfDay.lastIndexOf(\"d\"));\n",
    "        \n",
    "        // NOTE: Start is inclusive, end is exclusive\n",
    "        System.out.println(\"\\nThis should display the letters between the 2nd and 6th\");\n",
    "        System.out.println(word.substring(2,6));\n",
    "    }\n",
    "}\n",
    "\n",
    "StringMethodDemo.main(null)"
   ]
  },
  {
   "cell_type": "markdown",
   "metadata": {},
   "source": [
    "**Brief Aside**: Substring, like python slicing has the first index be inclusive and the last one be exclusive.\n",
    "\n",
    "<img src=\"https://i.postimg.cc/ZRr8yZBG/substring.png\" alt=\"substring\" width=\"40%\"/>"
   ]
  },
  {
   "cell_type": "markdown",
   "metadata": {},
   "source": [
    "Quick, let's do an exercise for practice! What will the following code segment return?"
   ]
  },
  {
   "cell_type": "code",
   "execution_count": 19,
   "metadata": {
    "vscode": {
     "languageId": "java"
    }
   },
   "outputs": [],
   "source": [
    "public class SubstringOfDemo {\n",
    "    public static void main(String[] args) {\n",
    "        String word = new String(\"skibidi\");\n",
    "\n",
    "        System.out.println(\"\\nWhat is printed if we only pass one parameter into the substring method?\");\n",
    "        System.out.println(word.substring(2));\n",
    "    }\n",
    "}\n",
    "\n",
    "// Uncomment the following method call to run the code and check your answer!\n",
    "// SubstringOfDemo.main(null)"
   ]
  },
  {
   "cell_type": "markdown",
   "metadata": {},
   "source": [
    "# Lesson 2.8: Wrapper Classes! 🍫\n",
    "\n",
    "## Introduction\n",
    "\n",
    "By now, you should be used to working with different variables and data types in Java. Some of you may have asked a question regarding why the data type String has a capital S, while int is not capitalized.\n",
    "\n",
    "The answer is: String is a reference type, while int is a primitive type.\n",
    "\n",
    "Primitive types are the mosic basic data types in Java, and they always represent single values. On the other hand, Reference types are used to store objects and can have a variety of things stored.\n",
    "\n",
    "## Important Wrapper Classes 🔢🔠\n",
    "- `Integer` for `int`\n",
    "- `Double` for `double`\n",
    "\n",
    "These classes are part of the `java.lang` package, so you don't need to import them explicitly. Additionally, there are more wrapper classes, but these are the two that are required by College Board.\n",
    "\n",
    "But let's back off real quick. What is a Wrapper class?\n",
    "\n",
    "Answer: A wrapper class allows you to use primitive data types.\n",
    "\n",
    "### Integer Wrapper Class 🔢\n",
    "The `Integer` class wraps a value of the primitive type `int` in an object.\n",
    "\n",
    "<img src=\"https://i.postimg.cc/T2kXtVN1/Screenshot-2024-09-24-002821.png\" alt=\"intmeme\" width=\"50%\"/>\n",
    "\n",
    "#### Methods & Constants\n",
    "1. Constructor: `Integer (int value)`: Constructs a new `Integer` object representing the specified `int` value.\n",
    "2. `Integer.MIN_VALUE` and `Integer.MAX_VALUE` returns the minimum/maximum value  that an `int` can hold. Going beyound these borders will lead to overflow.\n",
    "3. `int intValue()`: Returns the value of the `Integer` as an `int`\n",
    "\n",
    "Let's take a look at an example:\n"
   ]
  },
  {
   "cell_type": "markdown",
   "metadata": {},
   "source": [
    "# Homework\n",
    "Now, it's time to practice! The following problem will incorporate the following concepts:\n",
    "- Classes\n",
    "    - Constructors\n",
    "- Methods\n",
    "    - Void methods\n",
    "    - Non-void methods\n",
    "- Math class\n",
    "- `Integer` and `Double` wrapper classes\n",
    "- String methods"
   ]
  },
  {
   "cell_type": "code",
   "execution_count": 20,
   "metadata": {
    "vscode": {
     "languageId": "java"
    }
   },
   "outputs": [],
   "source": [
    "public class Circle {\n",
    "    // 1. Class variable: radius (double)\n",
    "\n",
    "    // 2. Make a constructor that takes in the radius as a parameter, and sets the radius property\n",
    "\n",
    "    // 3. cirumference() method: Calculate and return the circumference\n",
    "\n",
    "    // 4. area() method: Calculate and return the area, use Math.pow()\n",
    "}\n",
    "\n",
    "public class Student {\n",
    "    // 1. Class variables: name (String) and grade (Integer)\n",
    "\n",
    "    // 2. Constructor to initialize name and grade\n",
    "\n",
    "    // 3. nameLength() method: Return the length of the student's name\n",
    "\n",
    "    // 4. getGradeAsDouble() method: Return the grade as the Double wrapper type\n",
    "\n",
    "    // 5. getScaledGrade() method: Return grade divided by 2\n",
    "}\n",
    "\n",
    "public class Main {\n",
    "    public static void main(String[] args) {\n",
    "        // Testing the Circle class\n",
    "        Circle circle1 = new Circle(5.0);\n",
    "        Circle circle2 = new Circle(7.0);\n",
    "\n",
    "        System.out.println(\"Circle 1:\");\n",
    "        System.out.println(\"Radius: \" + circle1.radius);\n",
    "        System.out.println(\"Circumference: \" + circle1.circumference());\n",
    "        System.out.println(\"Area: \" + circle1.area());\n",
    "\n",
    "        System.out.println(\"\\nCircle 2:\");\n",
    "        System.out.println(\"Radius: \" + circle2.radius);\n",
    "        System.out.println(\"Circumference: \" + circle2.circumference());\n",
    "        System.out.println(\"Area: \" + circle2.area());\n",
    "\n",
    "        // Testing the Student class\n",
    "        Student student1 = new Student(\"Aadit\", 75);\n",
    "        Student student2 = new Student(\"Emily\", 45);\n",
    "\n",
    "        System.out.println(\"\\nStudent 1:\");\n",
    "        System.out.println(\"Name: \" + student1.name);\n",
    "        System.out.println(\"Name Length: \" + student1.nameLength());\n",
    "        System.out.println(\"Grade: \" + student1.getGradeAsDouble());\n",
    "        System.out.println(\"Scaled Grade: \" + student1.getScaledGrade());\n",
    "\n",
    "        System.out.println(\"\\nStudent 2:\");\n",
    "        System.out.println(\"Name: \" + student2.name);\n",
    "        System.out.println(\"Name Length: \" + student2.nameLength());\n",
    "        System.out.println(\"Grade: \" + student2.getGradeAsDouble());\n",
    "        System.out.println(\"Scaled Grade: \" + student2.getScaledGrade());\n",
    "    }\n",
    "}"
   ]
  },
  {
   "cell_type": "code",
   "execution_count": null,
   "metadata": {
    "vscode": {
     "languageId": "java"
    }
   },
   "outputs": [],
   "source": [
    "public class Main {\n",
    "    public static void main(String[] args){\n",
    "        Integer num1 = new Integer(5);  // Constructor usage \n",
    "\n",
    "        System.out.println(\"num1 = \" + num1);\n",
    "        System.out.println(\"num2 = \" + num2);\n",
    "        System.out.println(\"Maximum value of Integer: \" + Integer.MAX_VALUE);\n",
    "        System.out.println(\"Minimum value of Integer: \" + Integer.MIN_VALUE);\n",
    "        System.out.println(\"num1 as int: \" + num1.intValue());\n",
    "    }\n",
    "}"
   ]
  },
  {
   "cell_type": "markdown",
   "metadata": {},
   "source": [
    "### Double Wrapper Class 📦\n",
    "\n",
    "The `Double` class wraps a value of the primitive type `double` in an object.\n",
    "\n",
    "#### Important Methods\n",
    "1. Constructor: `Double(double value)`: Constructs a new `Double` object representing the specified `double` value.\n",
    "2. `double doubleValue()`: Returns the value of the `Double` as a `double`\n",
    "\n",
    "Let's take a look at another example."
   ]
  },
  {
   "cell_type": "code",
   "execution_count": null,
   "metadata": {
    "vscode": {
     "languageId": "java"
    }
   },
   "outputs": [],
   "source": [
    "public class Main {\n",
    "    public static void main(String[] args){\n",
    "        Double pi = new Double(3.14159); \n",
    "        Double e = Double.valueOf(2.71828);\n",
    "\n",
    "        System.out.println(\"pi = \" + pi);\n",
    "        System.out.println(\"e = \" + e);\n",
    "        System.out.println(\"pi as double: \" + pi.doubleValue());\n",
    "    }\n",
    "}"
   ]
  },
  {
   "cell_type": "markdown",
   "metadata": {},
   "source": [
    "## Autoboxing and Unboxing\n",
    "\n",
    "Java gives you automatic conversion between primitive types and their respective wrapper classes\n",
    "\n",
    "- Autoboxing: Primitive Value ➡️ Wrapper Object\n",
    "- Unboxing: Wrapper object ➡️ Primitive Value\n",
    "\n",
    "![model](https://i.postimg.cc/tgH0s2JS/Screenshot-2024-09-24-002832.png)\n",
    "\n",
    "Let's take a look at a short example."
   ]
  },
  {
   "cell_type": "code",
   "execution_count": null,
   "metadata": {
    "vscode": {
     "languageId": "java"
    }
   },
   "outputs": [],
   "source": [
    "public class BoxDemo {\n",
    "    public static void demo(String[] args) {\n",
    "        Integer wrapped = 100;  // Autoboxing\n",
    "        int unwrapped = wrapped;  // Unboxing\n",
    "\n",
    "        System.out.println(\"📦wrapped = \" + wrapped);\n",
    "        System.out.println(\"unwrapped = \" + unwrapped);\n",
    "    }\n",
    "}\n",
    "\n",
    "BoxDemo.demo(new String[]{});"
   ]
  },
  {
   "cell_type": "markdown",
   "metadata": {},
   "source": [
    "# Practice Exercises\n",
    "\n",
    "Fix the code below!"
   ]
  },
  {
   "cell_type": "code",
   "execution_count": 21,
   "metadata": {
    "vscode": {
     "languageId": "java"
    }
   },
   "outputs": [],
   "source": [
    "public class Main {\n",
    "    public static void main(String[] args) {\n",
    "        integer num1 = 50;\n",
    "        Integer num2 = new Integer(75);\n",
    "        \n",
    "        Double d1 = 3.14;\n",
    "        double d2 = new Double(2.718);\n",
    "        \n",
    "        System.out.println(\"Sum of integers: \" + (num1 + num2));\n",
    "        System.out.println(\"Product of doubles: \" + (d1 * d2));\n",
    "    }\n",
    "}"
   ]
  },
  {
   "cell_type": "markdown",
   "metadata": {},
   "source": [
    "Now, complete the exercise below without any extra help."
   ]
  },
  {
   "cell_type": "code",
   "execution_count": 22,
   "metadata": {
    "vscode": {
     "languageId": "java"
    }
   },
   "outputs": [],
   "source": [
    "public class Main {\n",
    "    public static void main(String[] args) {\n",
    "        // TODO: Create an Integer object using autoboxing\n",
    "        \n",
    "        // TODO: Create a double primitive from a Double object (unboxing)\n",
    "        \n",
    "        // TODO: Print both values\n",
    "    }\n",
    "}"
   ]
  },
  {
   "cell_type": "markdown",
   "metadata": {},
   "source": [
    "# 2.9: Using the Math Module 📝\n",
    "\n",
    "Have you ever been stuck in your Calculus or Physics class because your calculator died?\n",
    "\n",
    "<img src=\"https://i.postimg.cc/KzJCsbNw/Screenshot-2024-09-24-002841.png\" alt=\"mathmeme\" width=\"55%\"/>\n",
    "\n",
    "You can use the Java math module to help you 😁!\n",
    "\n",
    "## Introduction\n",
    "The Java math module is a package that comes with `java.lang.Math`. All it's methods are static.\n",
    "\n",
    "This is more straightforward than wrapper classes, but still important to know.\n",
    "\n",
    "## Useful Methods\n",
    "1. `static int abs(int x)`: Returns the absolute value of an `int`\n",
    "2. `static double abs(double x)`: Returns the absolute value of a `double`\n",
    "3. `static double pow(double base, double exponent)`: Returns the value of the first value raised to the power of the second value\n",
    "4. `static double sqrt(double x)`: Returns the (positive) square root of a double value\n",
    "5. `static double random()`: Returns a `double` greater than or equal to 0.0 and less than 1.0\n",
    "\n",
    "Let's take a look at a code example using all of these!"
   ]
  },
  {
   "cell_type": "code",
   "execution_count": 23,
   "metadata": {
    "vscode": {
     "languageId": "java"
    }
   },
   "outputs": [],
   "source": [
    "public class Main {\n",
    "    public static void main(String[] args) {\n",
    "        // abs() method for int and double\n",
    "        int intNumber = -5;\n",
    "        double doubleNumber = -10.5;\n",
    "        System.out.println(\"Absolute value of \" + intNumber + \" is: \" + Math.abs(intNumber));\n",
    "        System.out.println(\"Absolute value of \" + doubleNumber + \" is: \" + Math.abs(doubleNumber));\n",
    "\n",
    "        // pow() method\n",
    "        double base = 2.0;\n",
    "        double exponent = 3.0;\n",
    "        System.out.println(base + \" raised to the power of \" + exponent + \" is: \" + Math.pow(base, exponent));\n",
    "\n",
    "        // sqrt() method\n",
    "        double number = 16.0;\n",
    "        System.out.println(\"Square root of \" + number + \" is: \" + Math.sqrt(number));\n",
    "\n",
    "        // random() method\n",
    "        System.out.println(\"A random number between 0.0 and 1.0: \" + Math.random());\n",
    "    }\n",
    "}"
   ]
  },
  {
   "cell_type": "markdown",
   "metadata": {},
   "source": [
    "## PRACTICE\n",
    "\n",
    "Let's try a practice! Fill in the function below, `randomize`, following the steps below:\n",
    "\n",
    "1. Take the absolute value of both numbers\n",
    "2. Return a random number in between those two numbers, inclusive"
   ]
  },
  {
   "cell_type": "code",
   "execution_count": 24,
   "metadata": {
    "vscode": {
     "languageId": "java"
    }
   },
   "outputs": [
    {
     "ename": "CompilationException",
     "evalue": "",
     "output_type": "error",
     "traceback": [
      "\u001b[1m\u001b[30m|   \u001b[1m\u001b[30m       System.out.println(\u001b[0m\u001b[1m\u001b[30m\u001b[41mrandomize\u001b[0m\u001b[1m\u001b[30m(a, b));\u001b[0m",
      "\u001b[1m\u001b[31mnon-static method randomize(double,double) cannot be referenced from a static context\u001b[0m",
      "",
      "\u001b[1m\u001b[30m|   \u001b[1m\u001b[30m    public double randomize(double a, double b)\u001b[0m\u001b[1m\u001b[30m\u001b[41m{\u001b[0m",
      "\u001b[1m\u001b[30m|   \u001b[1m\u001b[30m\u001b[41m        // TODO: Enter code here! Don't forget a return statement\u001b[0m",
      "\u001b[1m\u001b[30m|   \u001b[1m\u001b[30m\u001b[41m    }\u001b[0m",
      "\u001b[1m\u001b[31mmissing return statement\u001b[0m",
      ""
     ]
    }
   ],
   "source": [
    "import java.util.*;\n",
    "public class Main {\n",
    "    public double randomize(double a, double b){\n",
    "        // TODO: Enter code here! Don't forget a return statement\n",
    "    }\n",
    "    public static void main(String[] args) {\n",
    "       Scanner scan = new Scanner(System.in);\n",
    "       double a = scan.nextDouble();\n",
    "       double b = scan.nextDouble();\n",
    "\n",
    "       System.out.println(randomize(a, b));\n",
    "    }\n",
    "}\n",
    "\n",
    "// The error will be returned below in the code cell"
   ]
  },
  {
   "cell_type": "code",
   "execution_count": null,
   "metadata": {
    "vscode": {
     "languageId": "java"
    }
   },
   "outputs": [],
   "source": [
    "public class CompareToDemo {\n",
    "    public static void main(String[] args) {\n",
    "        String word = new String(\"skibidi\");\n",
    "        String word2 = new String(\"skibidi1\");\n",
    "        String word3 = new String(\"skibidi\");\n",
    "\n",
    "        System.out.println(\"\\nIf word is < word2, a negative value will be printed. If they are equal, 0 will be printed, and if word > word2, a positive value is printed\");\n",
    "        System.out.println(word.compareTo(word2));\n",
    "\n",
    "        System.out.println(\"\\nComparison between word and word3\");\n",
    "        System.out.println(word.compareTo(word3));\n",
    "    }\n",
    "}\n",
    "\n",
    "CompareToDemo.main(null)"
   ]
  },
  {
   "cell_type": "code",
   "execution_count": null,
   "metadata": {
    "vscode": {
     "languageId": "java"
    }
   },
   "outputs": [],
   "source": [
    "public class EqualToDemo {\n",
    "    public static void main(String[] args) {\n",
    "        String word = new String(\"skibidi\");\n",
    "        String word2 = new String(\"skibidi1\");\n",
    "        String word3 = new String(\"skibidi\");\n",
    "\n",
    "        System.out.println(\"\\nThis displays if word1 = word2, if false it returns false, if true it returns true\");\n",
    "        System.out.println(word.equals((word2)));\n",
    "\n",
    "        System.out.println(\"\\nThis displays if word1 = word3, if false it returns false, if true it returns true\");\n",
    "        System.out.println(word.equals((word3)));\n",
    "    }\n",
    "}\n",
    "\n",
    "EqualToDemo.main(null)"
   ]
  }
 ],
 "metadata": {
  "kernelspec": {
   "display_name": "Java",
   "language": "java",
   "name": "java"
  },
  "language_info": {
   "codemirror_mode": "java",
   "file_extension": ".jshell",
   "mimetype": "text/x-java-source",
   "name": "Java",
   "pygments_lexer": "java",
   "version": "17.0.12+8-LTS-286"
  }
 },
 "nbformat": 4,
 "nbformat_minor": 2
}
