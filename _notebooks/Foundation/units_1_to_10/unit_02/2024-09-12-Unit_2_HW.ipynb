{
 "cells": [
  {
   "cell_type": "raw",
   "metadata": {
    "vscode": {
     "languageId": "raw"
    }
   },
   "source": [
    "---\n",
    "layout: post\n",
    "title: Unit 2 — Recap & Homework\n",
    "description: A recap of everything we covered today.\n",
    "type: collab\n",
    "toc: true\n",
    "permalink: /csa/unit2/period3/homework/\n",
    "menu: nav/CSA_Units/unit2/period3.html\n",
    "comments: true\n",
    "author: Aadit Mathur, Eric Yu, Shuban Pal, Rahul Verma\n",
    "---"
   ]
  },
  {
   "cell_type": "markdown",
   "metadata": {
    "vscode": {
     "languageId": "java"
    }
   },
   "source": [
    "# Homework\n",
    "Now, it's time to practice! The following problem will incorporate the following concepts:\n",
    "- Classes\n",
    "    - Constructors\n",
    "- Methods\n",
    "    - Void methods\n",
    "    - Non-void methods\n",
    "- Math class\n",
    "- `Integer` and `Double` wrapper classes\n",
    "- String methods"
   ]
  },
  {
   "cell_type": "code",
   "execution_count": 6,
   "metadata": {
    "vscode": {
     "languageId": "java"
    }
   },
   "outputs": [
    {
     "name": "stdout",
     "output_type": "stream",
     "text": [
      "circle 1\n",
      "radius: 5.0\n",
      "circumference: 31.41592653589793\n",
      "area: 78.53981633974483\n",
      "\n",
      " circle 2\n",
      "radius: 7.0\n",
      "circumference: 43.982297150257104\n",
      "area: 153.93804002589985\n",
      "\n",
      " student 1\n",
      "name: Alisha\n",
      "name length: 6\n",
      "grade: 75.0\n",
      "scaled grade: 37.5\n",
      "\n",
      " student 2\n",
      "nname: Anika\n",
      "name Length: 5\n",
      "GRade: 45.0\n",
      "scaled Grade: 22.5\n"
     ]
    }
   ],
   "source": [
    "public class Circle {\n",
    "\n",
    "    public double radius;\n",
    "\n",
    "    public Circle(double radius) {\n",
    "        this.radius = radius;\n",
    "    }\n",
    "\n",
    "    public double circumference() {\n",
    "        return 2 * Math.PI * radius;\n",
    "    }\n",
    "\n",
    "    public double area() {\n",
    "        return Math.PI * Math.pow(radius, 2);\n",
    "    }\n",
    "}\n",
    "\n",
    "public class Student {\n",
    "    public String name;\n",
    "    public Integer grade;\n",
    "\n",
    "// Constructor \n",
    "    public Student(String name, int grade) {\n",
    "        this.name = name;\n",
    "        this.grade = new Integer(grade);\n",
    "    }\n",
    "\n",
    "    public int nameLength() {\n",
    "        return name.length();\n",
    "    }\n",
    "\n",
    "    public Double getGradeAsDouble() {\n",
    "        return new Double((double) grade);\n",
    "    }\n",
    "\n",
    "    public Double getScaledGrade() {\n",
    "        return Double.valueOf(getGradeAsDouble() / 2);\n",
    "    }\n",
    "}\n",
    "\n",
    "public class Main {\n",
    "    public static void main(String[] args) {\n",
    "\n",
    "        Circle circle1 = new Circle(5.0);\n",
    "        Circle circle2 = new Circle(7.0);\n",
    "\n",
    "        System.out.println(\"circle 1\");\n",
    "        System.out.println(\"radius: \" + circle1.radius);\n",
    "        System.out.println(\"circumference: \" + circle1.circumference());\n",
    "        System.out.println(\"area: \" + circle1.area());\n",
    "\n",
    "        System.out.println(\"\\n circle 2\");\n",
    "        System.out.println(\"radius: \" + circle2.radius);\n",
    "        System.out.println(\"circumference: \" + circle2.circumference());\n",
    "        System.out.println(\"area: \" + circle2.area());\n",
    "\n",
    "\n",
    "        Student student1 = new Student(\"Alisha\", 75);\n",
    "        Student student2 = new Student(\"Anika\", 45);\n",
    "\n",
    "        System.out.println(\"\\n student 1\");\n",
    "        System.out.println(\"name: \" + student1.name);\n",
    "        System.out.println(\"name length: \" + student1.nameLength());\n",
    "        System.out.println(\"grade: \" + student1.getGradeAsDouble());\n",
    "        System.out.println(\"scaled grade: \" + student1.getScaledGrade());\n",
    "\n",
    "        System.out.println(\"\\n student 2\");\n",
    "        System.out.println(\"nname: \" + student2.name);\n",
    "        System.out.println(\"name Length: \" + student2.nameLength());\n",
    "        System.out.println(\"GRade: \" + student2.getGradeAsDouble());\n",
    "        System.out.println(\"scaled Grade: \" + student2.getScaledGrade());\n",
    "    }\n",
    "}\n",
    "\n",
    "Main.main(null);"
   ]
  },
  {
   "cell_type": "code",
   "execution_count": null,
   "metadata": {
    "vscode": {
     "languageId": "java"
    }
   },
   "outputs": [],
   "source": []
  }
 ],
 "metadata": {
  "kernelspec": {
   "display_name": "Java",
   "language": "java",
   "name": "java"
  },
  "language_info": {
   "codemirror_mode": "java",
   "file_extension": ".jshell",
   "mimetype": "text/x-java-source",
   "name": "Java",
   "pygments_lexer": "java",
   "version": "17.0.12+8-LTS-286"
  }
 },
 "nbformat": 4,
 "nbformat_minor": 2
}
