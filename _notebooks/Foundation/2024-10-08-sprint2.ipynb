{
 "cells": [
  {
   "cell_type": "markdown",
   "metadata": {},
   "source": [
    "---\n",
    "layout: post\n",
    "title: Sprint 2\n",
    "categories: [Collaboration]\n",
    "courses: {csa: {week: 6} }\n",
    "type: collab\n",
    "comments: true\n",
    "---"
   ]
  },
  {
   "cell_type": "markdown",
   "metadata": {},
   "source": [
    "| **Assignment**             | **Points**    | **Grade** | **Evidence** |\n",
    "|----------------------------|---------------|-----------|--------------|\n",
    "| Pull Request (Integration) | 2             | 1.6         | We submitted our pull request a day late, but we submitted it during the extension/redemption period that the class was granted             |\n",
    "| Relevancy Checklist (Peer) | 2             | 2         |              |\n",
    "| Lesson (Group)             | 1             | 0.5       | Our group was lacking some key elements, and needed to be more in-depth and engaging for students             |\n",
    "| Homework, Popcorn Hacks    | 1 x 8         | 8         | I completed all of the homeworks and hacks for each blog during the due date, and completed them all             |\n",
    "| Individual Contribution    | 1             | 0.8       | I have been contributing to my new group, even though it's taking a little while to get situated. In my last group, I contibuted a lot. I was scrum master, and was responsible for a lot of our work             |\n",
    "| Personal Notebooks / Blogs | 1             | 1         | I have all of my blogs, and everything is organized. I created a timebox to ensure everything is easy to acess             |\n",
    "| Total                      | 15            | 13.9      |              |"
   ]
  },
  {
   "cell_type": "markdown",
   "metadata": {},
   "source": [
    "| **Skill**                  | **Points**    | **Grade** | **Evidence** |\n",
    "|----------------------------|---------------|-----------|--------------|\n",
    "| Work Habits (Analytics)    |   1           |  0.8      | In my old group, my work habits were below average, but since moving groups, I feel I have been working harder and I've been on task the entire class             |\n",
    "| Team Planning (Issue)      |   1           |           |              |\n",
    "| Presentation Memories      |   1           |  0.6      | I could've done a lot better on my presentation. I think individually, especially with my easier section to teach, I probably presented at a 0.8, but with the whole group, my grade shoould be reduced             |\n",
    "| Grading and Feedback       |   1           |  1        | I graded everyone fairly, and went through everyone's blogs. I was responsible for the grading, so I think I did well             |\n",
    "| Beyond Perfunctory         |   1           |           |              | \n",
    "| Total                      |   5           |           |              |"
   ]
  },
  {
   "cell_type": "markdown",
   "metadata": {},
   "source": [
    "| **Assignment**          | **Weightage** | **Grade** | **Comments** |\n",
    "|-------------------------|---------------|-----------|--------------|\n",
    "| College Board Coverage  | 20            | 20       | used a lot of college board examples, questions referenced from there. most of the team teach was built off of college board examples           |\n",
    "| Java Examples           | 30            | 15       | for most sections of the team teach there were working java exmaples. for other teammates sections there was accidental mix up of language and because of lack of cross referencing, we were unable to catch it.           |\n",
    "| Popcorn Hack Usage      | 10            | 10       | we had popcorn hacks through out the lesson, and attempted at making it interactive          |\n",
    "| Homework                | 10            | 10       | the homework was challenging, and related to our lesson          |\n",
    "| Grading Plan            | 10            | 10       | the grading plan was weighted fairly, while also leaving room for students who went above and beyond          |\n",
    "| Original an Creative    | 10            | 5       | the lesson was based upon college board. We could've made it more engaging for the class, and found more creative ways to teach           |\n",
    "| Total                  | **90**        | 70        |              |"
   ]
  }
 ],
 "metadata": {
  "language_info": {
   "name": "python"
  }
 },
 "nbformat": 4,
 "nbformat_minor": 2
}
