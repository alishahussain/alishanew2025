{
 "cells": [
  {
   "cell_type": "markdown",
   "metadata": {},
   "source": [
    "---\n",
    "layout: post\n",
    "title: Sprint 2\n",
    "categories: [Collaboration]\n",
    "courses: {csa: {week: 6} }\n",
    "type: collab\n",
    "comments: true\n",
    "---"
   ]
  },
  {
   "cell_type": "markdown",
   "metadata": {},
   "source": [
    "| **Assignment**             | **Points**    | **Grade** | **Evidence/Comments** |\n",
    "|----------------------------|---------------|-----------|--------------|\n",
    "| Pull Request (Integration) | 2             | 1.6         | <img width=\"945\" alt=\"Screenshot 2024-10-09 at 10 21 05 AM\" src=\"https://github.com/user-attachments/assets/4f39d6f6-1e67-4596-a957-8381bb3db4e4\"> We submitted our pull request a day late, but we submitted it during the extension/redemption period that the class was granted             |\n",
    "| Relevancy Checklist (Peer) | 2             |          |(Arthur)|\n",
    "| Lesson (Group)             | 1             | 0.8      | Our group was lacking some key elements, and needed to be more in-depth and engaging for students             |\n",
    "| Homework, Popcorn Hacks    | 1 x 8         | 7.2         | I completed all of the homeworks and hacks for each blog during the due date, and completed them all             |\n",
    "| Individual Contribution    | 1             | 0.8       | I have been contributing to my new group, even though it's taking a little while to get situated. In my last group, I contibuted a lot. I was scrum master, and was responsible for a lot of our work             |\n",
    "| Personal Notebooks / Blogs | 1             | 0.9         | I have all of my blogs, and everything is organized. I created a timebox to ensure everything is easy to acesss. [Timebox](https://alishahussain.github.io/alishanew2025/navigation/section/csa)             |\n",
    "| Total                      | 15            |       |              |"
   ]
  },
  {
   "cell_type": "markdown",
   "metadata": {},
   "source": [
    "| **Skill**                  | **Points**    | **Grade** | **Evidence** |\n",
    "|----------------------------|---------------|-----------|--------------|\n",
    "| Work Habits (Analytics)    |   1           |  0.8      | In my old group, my work habits were below average, but since moving groups, I feel I have been working harder and I've been on task the entire class             |\n",
    "| Team Planning (Issue)      |   1           |           |              |\n",
    "| Presentation Memories      |   1           |  0.8      | I could've done a lot better on my presentation. I think individually, especially with my easier section to teach, I probably presented at a 0.8, but with the whole group, my grade shoould be reduced             |\n",
    "| Grading and Feedback       |   1           |  0.9        | I graded everyone fairly, and went through everyone's blogs. I was responsible for the grading, so I think I did well             |\n",
    "| Beyond Perfunctory         |   1           |           |              | \n",
    "| Total                      |   5           |           |              |"
   ]
  },
  {
   "cell_type": "markdown",
   "metadata": {},
   "source": [
    "# Unit 4 Team Teach Grading (Arthur)\n",
    "\n",
    "| **Assignment**          | **Weightage** | **Grade** | **Comments** |\n",
    "|-------------------------|---------------|-----------|--------------|\n",
    "| College Board Coverage  | 20            | 20       | used a lot of college board examples, questions referenced from there. the organization was based on the collegeboard units           |\n",
    "| Java Examples           | 30            | 30       | there were a lot of java examples for each section            |\n",
    "| Popcorn Hack Usage      | 10            | 10       | there were a sufficient amount of popcorn hacks thoughout the lesson           |\n",
    "| Homework                | 10            | 10       | the homework was challenging, and related to the lesson. It was a mix of MCQs as well as FRQs, and making code          |\n",
    "| Grading Plan            | 10            | 8       | I think some of the grading was a bit harsh, because if the people had all of their hacks done, they should've recieved a baseline of 0.9          |\n",
    "| Original an Creative    | 10            | 7       | the lesson couldve been made to be a bit more engaging, it had a normal teaching sturcture. Something creative was the animated ball as an application for iteration.            |\n",
    "| Total                  | **90**        | 85       | --> 0.94              |"
   ]
  }
 ],
 "metadata": {
  "language_info": {
   "name": "python"
  }
 },
 "nbformat": 4,
 "nbformat_minor": 2
}
