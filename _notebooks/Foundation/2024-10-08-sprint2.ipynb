{
 "cells": [
  {
   "cell_type": "markdown",
   "metadata": {},
   "source": [
    "---\n",
    "layout: post\n",
    "title: Sprint 2\n",
    "categories: [Collaboration]\n",
    "courses: {csa: {week: 6} }\n",
    "type: collab\n",
    "comments: true\n",
    "---"
   ]
  },
  {
   "cell_type": "markdown",
   "metadata": {},
   "source": [
    "| **Assignment**             | **Points**    | **Grade** | **Evidence** |\n",
    "|----------------------------|---------------|-----------|--------------|\n",
    "| Pull Request (Integration) | 2             | 1.6         | <img width=\"945\" alt=\"Screenshot 2024-10-09 at 10 21 05 AM\" src=\"https://github.com/user-attachments/assets/4f39d6f6-1e67-4596-a957-8381bb3db4e4\">              |\n",
    "| Relevancy Checklist (Peer) | 2             | (1.7+1.76)/2= 1.73        |(Tanav + Sri)|\n",
    "| Lesson (Group)             | 1             | 0.8      | <img width=\"677\" alt=\"Screenshot 2024-10-09 at 5 42 19 PM\" src=\"https://github.com/user-attachments/assets/19567492-6dec-40ab-8d7b-95f7bccc94a1\">              |\n",
    "| Homework, Popcorn Hacks    | 1 x 8         | 7.2         | [Timebox](https://alishahussain.github.io/alishanew2025/navigation/section/csa)             |\n",
    "| Individual Contribution    | 1             | 0.8       | <img width=\"881\" alt=\"Screenshot 2024-10-09 at 9 44 21 PM\" src=\"https://github.com/user-attachments/assets/3c0da7c3-4ba6-4da2-b880-88ac88734345\"> <img width=\"918\" alt=\"Screenshot 2024-10-09 at 9 43 58 PM\" src=\"https://github.com/user-attachments/assets/70877b7e-15d2-4958-a7fe-d58da4200558\">              |\n",
    "| Personal Notebooks / Blogs | 1             | 0.9         | [Timebox](https://alishahussain.github.io/alishanew2025/navigation/section/csa)             |\n",
    "| Total                      | 15            | 13.03      |              |"
   ]
  },
  {
   "cell_type": "markdown",
   "metadata": {},
   "source": []
  },
  {
   "cell_type": "markdown",
   "metadata": {},
   "source": [
    "| **Skill**                  | **Points**    | **Grade** | **Evidence** |\n",
    "|----------------------------|---------------|-----------|--------------|\n",
    "| Work Habits (Analytics)    |   1           |  0.8      | <img width=\"901\" alt=\"Screenshot 2024-10-09 at 7 21 34 PM\" src=\"https://github.com/user-attachments/assets/811c6d50-8776-4350-b321-2150c0d20077\"><img width=\"889\" alt=\"Screenshot 2024-10-09 at 7 21 23 PM\" src=\"https://github.com/user-attachments/assets/fd974d69-08c2-4fe7-a1bd-17c5cd0aec10\"><img width=\"797\" alt=\"Screenshot 2024-10-09 at 7 22 40 PM\" src=\"https://github.com/user-attachments/assets/d20761d7-deae-4e80-8d94-bb8b0b789e9f\">             |\n",
    "| Team Planning (Issue)      |   1           | 0.85          | [Link to Issue](https://github.com/alishahussain/alishanew2025/issues/3#issue-2577352434)             |\n",
    "| Presentation Memories      |   1           |  0.8      | <img width=\"881\" alt=\"Screenshot 2024-10-09 at 9 44 21 PM\" src=\"https://github.com/user-attachments/assets/3c0da7c3-4ba6-4da2-b880-88ac88734345\"> <img width=\"918\" alt=\"Screenshot 2024-10-09 at 9 43 58 PM\" src=\"https://github.com/user-attachments/assets/70877b7e-15d2-4958-a7fe-d58da4200558\">              |\n",
    "| Grading and Feedback       |   1           |  0.9        | <img width=\"671\" alt=\"Screenshot 2024-10-09 at 5 42 15 PM\" src=\"https://github.com/user-attachments/assets/e62c30e2-c9b2-4541-81f1-fe510f87a665\"> [Grading](https://docs.google.com/spreadsheets/d/1W9nuXvCk3F3iMjvrlYa6nhQNuXGSQoxPxa-UzZm2o-g/edit?gid=1783700775#gid=1783700775)              |\n",
    "| Beyond Perfunctory         |   1           | 0.85          |<img width=\"598\" alt=\"Screenshot 2024-10-09 at 9 54 15 PM\" src=\"https://github.com/user-attachments/assets/e747c73a-22c4-4487-9c46-3a9f7c94fe7a\">[Boolean Table](https://nighthawkcoders.github.io/portfolio_2025/csa/unit3-p1/intro)               | \n",
    "| Total                      |   5           | 4.2          |              |"
   ]
  },
  {
   "cell_type": "markdown",
   "metadata": {},
   "source": [
    "### Relevancy Checklist - 3.1 (Tanav)\n",
    "\n",
    "| **Assignment**          | **Weightage** | **Grade** | **Comments** |\n",
    "|-------------------------|---------------|-----------|--------------|\n",
    "| College Board Coverage  | 20            | 18| Nice coverage of all the collegeboard content, but it would have been nicer if you had talked about applicative examples on the ap exam         |\n",
    "| Java Examples           | 30            | 27| You don't have many examples, so very simplicistic. |\n",
    "| Popcorn Hack Usage      | 10            | 7| There's three hacks but all of them are really simple. |\n",
    "| Homework                | 10            | 9| Good amount of homework, and it covered a lot of materials. Salary thing was nice. |\n",
    "| Grading Plan            | 10            | 8| I'm glad you guys designated extra credit to those who participated|\n",
    "| Original an Creative    | 10            | 8| Unique of you guys to use the whiteboard to exemplify stuff|\n",
    "| Total                  | **90**        |         77  |        Nice Job!      |\n",
    "\n",
    "=1.7/2"
   ]
  },
  {
   "cell_type": "markdown",
   "metadata": {},
   "source": [
    "### Relevancy Checklist - 3.2 (Sri)\n",
    "\n",
    "| Assignment          | Weightage | Grade | Comments |\n",
    "|-------------------------|---------------|-----------|--------------|\n",
    "| College Board Coverage  | 20            | 18       | covered content well, had the basic knowdlege          |\n",
    "| Java Examples           | 30            | 28      | had relevant java hacks, not that much though          |\n",
    "| Popcorn Hack Usage      | 10            | 9       | had good popcorn hacks for understanding          |\n",
    "| Homework                | 10            | 8       | had good homework and covered the whole material          |\n",
    "| Grading Plan            | 10            | 8       | extrac redit for participation was nice          |\n",
    "| Original an Creative    | 10            | 8       | unique stuff like whiteboard was good        |\n",
    "| Total                  | 90        |      79     |      nice! could've went a bit more in depth tho        |\n",
    "\n",
    "=1.76/2"
   ]
  },
  {
   "cell_type": "markdown",
   "metadata": {},
   "source": [
    "[Presentation](https://alishahussain.github.io/alishanew2025/collaboration/2024/10/10/sprint2.1_IPYNB_2_.html)"
   ]
  }
 ],
 "metadata": {
  "language_info": {
   "name": "python"
  }
 },
 "nbformat": 4,
 "nbformat_minor": 2
}
