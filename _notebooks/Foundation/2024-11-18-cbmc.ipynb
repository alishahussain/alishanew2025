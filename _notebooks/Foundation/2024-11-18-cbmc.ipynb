{
 "cells": [
  {
   "cell_type": "markdown",
   "metadata": {},
   "source": [
    "---\n",
    "layout: post\n",
    "title: 2014 Collegeboard MC\n",
    "categories: [Collaboration]\n",
    "courses: {csa: {week: 13} }\n",
    "type: collab\n",
    "comments: true\n",
    "---"
   ]
  },
  {
   "cell_type": "markdown",
   "metadata": {},
   "source": [
    "# My score: 30/40\n",
    "## Reflection: i think a lot of my errors were surrounding unit 10, recursion, because I dont think I studied that enoygh and we didnt go over that a lot in class. In the future, I will practice that some more. I also get messed up on the long peices of code with the different cases. I usually select one right answer, but overlook the resto of them. "
   ]
  },
  {
   "cell_type": "markdown",
   "metadata": {},
   "source": [
    "<img width=\"1425\" alt=\"Screenshot 2024-11-18 at 10 28 08 PM\" src=\"https://github.com/user-attachments/assets/2ddfe15e-5620-4cb4-8699-08d774bfdc35\">"
   ]
  },
  {
   "cell_type": "markdown",
   "metadata": {},
   "source": [
    "Topics that need work\n",
    "- 10.1\n",
    "- 6.4, 6.2\n",
    "- 4.1, 4.2\n",
    "- 3.6"
   ]
  },
  {
   "cell_type": "markdown",
   "metadata": {},
   "source": [
    "# 10 \n",
    "<img width=\"937\" alt=\"Screenshot 2024-11-18 at 9 11 17 AM\" src=\"https://github.com/user-attachments/assets/921b2414-0aa9-4942-9122-a25df36e1ace\">\n",
    "<img width=\"944\" alt=\"Screenshot 2024-11-18 at 9 12 29 AM\" src=\"https://github.com/user-attachments/assets/237f2686-3a09-4003-8a95-45f6197fc61d\">"
   ]
  },
  {
   "cell_type": "markdown",
   "metadata": {},
   "source": [
    "## Why the incorrect answer is wrong:\n",
    "The answer I and II only is wrong because if the array doesn’t contain the value 5 ( II), the method just returns -1 and doesn’t show an error. An error would only happen if there's an issue with recursion going out of bounds, not just because the target isn’t in the array.\n",
    "\n",
    "## What to look out for:\n",
    "I need to pay more attention to the difference between \"causing an error\" and \"not finding the target. because even tho the target isn’t there that doesn’t mean the method will fail.\n",
    "\n",
    "## Why the correct answer is right:\n",
    "The correct answer is \"I only\" because if the array has only one element, the recursion will eventually go out of bounds without a base case to stop it. III works fine because the method just returns the first instance of 5 it finds.\n",
    "\n",
    "## AP CSA Unit:\n",
    "Unit 10: Recursion for handling base cases and preventing errors with recursive methods."
   ]
  },
  {
   "cell_type": "markdown",
   "metadata": {},
   "source": [
    "# 13\n",
    "<img width=\"931\" alt=\"Screenshot 2024-11-18 at 9 15 46 AM\" src=\"https://github.com/user-attachments/assets/5b797d4b-4666-4fe4-8478-28d737f4b50b\">"
   ]
  },
  {
   "cell_type": "markdown",
   "metadata": {},
   "source": [
    "## Why the incorrect answer is wrong:\n",
    "I chose 0725510, which includes an extra output. This would mean every comparison is printed, which isn't correct since only the ones where arr[k] > arr[k + 1] are printed.\n",
    "\n",
    "## What to look out for:\n",
    "Focus on the conditional if (arr[k] > arr[k + 1]). Only values where arr[k] is greater than arr[k + 1] should be printed. Make sure not to include elements that don’t satisfy this condition.\n",
    "\n",
    "## Why the correct answer is right:\n",
    "The correct answer is \"B\" (072533) because only specific elements where arr[k] is greater than arr[k + 1] are printed. This sequence matches the correct comparisons in the array.\n",
    "\n",
    "## AP CSA Unit:\n",
    "Unit 7: Array Algorithms for understanding how to loop through arrays and apply conditions properly."
   ]
  },
  {
   "cell_type": "markdown",
   "metadata": {},
   "source": [
    "# 15 \n",
    "<img width=\"969\" alt=\"Screenshot 2024-11-18 at 10 02 36 PM\" src=\"https://github.com/user-attachments/assets/a023b0fd-a304-4dfc-aa16-37e95e365488\">\n",
    "<img width=\"945\" alt=\"Screenshot 2024-11-18 at 10 02 13 PM\" src=\"https://github.com/user-attachments/assets/83795b81-14f9-4b52-a889-d38b06795631\">"
   ]
  },
  {
   "cell_type": "markdown",
   "metadata": {},
   "source": [
    "## Why the incorrect answer is wrong:\n",
    "I chose \"D\" (I and II only), which includes option I as a correct answer. However, option I does not check if data[k] is greater than data[k + 1], so it won't detect if the last element is out of order. This could lead to incorrect results for arrays where only the last pair is unsorted.\n",
    "\n",
    "## What to look out for:\n",
    "Make sure to check the boundaries in the loop carefully, especially when comparing elements in an array. In this case, comparing data[k] and data[k + 1] requires a loop that stops before the last element.\n",
    "\n",
    "## Why the correct answer is right:\n",
    "The correct answer is \"B\" (II only) because option II correctly checks each element data[k] with data[k + 1] up to data.length - 1 to ensure all elements are in non-decreasing order.\n",
    "\n",
    "## AP CSA Unit:\n",
    "Unit 7: Array Algorithms to review array traversal and boundary conditions."
   ]
  },
  {
   "cell_type": "markdown",
   "metadata": {},
   "source": [
    "# 17\n",
    "<img width=\"979\" alt=\"Screenshot 2024-11-18 at 10 03 09 PM\" src=\"https://github.com/user-attachments/assets/4b4330c9-2342-4e72-80d1-fa2cbb5071eb\">"
   ]
  },
  {
   "cell_type": "markdown",
   "metadata": {},
   "source": [
    "## Why the incorrect answer is wrong:\n",
    "I chose answer B, thinking that arr[k] = arr[k + 1] would shift values to the left and effectively remove elements from the array. However, arrays in Java have a fixed size, so values aren't actually removed; they're just overwritten, leaving the length of the array unchanged.\n",
    "\n",
    "## What to look out for:\n",
    "Be careful with array assignments—overwriting elements doesn’t reduce the array's size. Understand that the assignment arr[k] = arr[k + 1] only changes the values without changing the array’s length.\n",
    "\n",
    "## Why the correct answer is right:\n",
    "The correct answer is A. This code simply copies each element from the right to the left without deleting any elements. The values at the end remain as is after the loop, resulting in the array {1, 2, 3, 4, 5, 6, 7}.\n",
    "\n",
    "## AP CSA Unit:\n",
    "Unit 6: Arrays for more on array operations and understanding immutability in array sizes."
   ]
  },
  {
   "cell_type": "markdown",
   "metadata": {},
   "source": [
    "# 19\n",
    "<img width=\"937\" alt=\"Screenshot 2024-11-18 at 10 03 48 PM\" src=\"https://github.com/user-attachments/assets/044e0c63-1326-438e-a7fd-cd7f8dad91c7\">"
   ]
  },
  {
   "cell_type": "markdown",
   "metadata": {},
   "source": [
    "## Why the incorrect answer is wrong:\n",
    "I chose answer C, but I missed the logic inverting correctly. The expression !( (a != b) && (b > 7) ) applies De Morgan’s Law, which inverts both the terms and the && operator. So, ! (a != b) becomes (a == b), and !(b > 7) becomes (b <= 7).\n",
    "\n",
    "## What to look out for:\n",
    "When negating complex boolean expressions, make sure to apply De Morgan’s Law accurately: invert both the conditions and switch && to || (and vice versa).\n",
    "\n",
    "## Why the correct answer is right:\n",
    "The correct answer is A because it applies the inversion correctly: !(a != b) becomes a == b and !(b > 7) becomes b <= 7, then combines them with || as per De Morgan’s Law.\n",
    "\n",
    "## AP CSA Unit:\n",
    "Unit 3: Boolean Expressions and if Statements for more on applying De Morgan’s Law and working with complex boolean expressions."
   ]
  },
  {
   "cell_type": "markdown",
   "metadata": {},
   "source": [
    "# 29\n",
    "<img width=\"962\" alt=\"Screenshot 2024-11-18 at 10 04 19 PM\" src=\"https://github.com/user-attachments/assets/0ef150a2-5230-4dd1-b636-60328ec40b55\">"
   ]
  },
  {
   "cell_type": "markdown",
   "metadata": {},
   "source": [
    "\n",
    "## Why the incorrect answer is wrong:\n",
    "I chose answer D, which uses the loop for (int k = 4; k <= 25; k = 4 * k). This loop incorrectly multiplies k by 4 each time, instead of adding 4, so it doesn’t match the original loop’s sequence, which increments k by 1 but only prints when k is divisible by 4.\n",
    "\n",
    "## What to look out for:\n",
    "Make sure the increment pattern matches the original loop's logic. If the goal is to print every fourth number, I need to add 4 each time rather than multiply.\n",
    "\n",
    "## Why the correct answer is right:\n",
    "Answer E is correct because it uses k = k + 4, which directly matches the intention of printing every fourth integer starting from 4, up to 100.\n",
    "\n",
    "## AP CSA Unit:\n",
    "Unit 4: Iteration for more on understanding loop increments and controlling loop logic to match specific requirements."
   ]
  },
  {
   "cell_type": "markdown",
   "metadata": {},
   "source": [
    "# 37\n",
    "<img width=\"942\" alt=\"Screenshot 2024-11-18 at 10 04 45 PM\" src=\"https://github.com/user-attachments/assets/5f46323f-522c-4c98-a66f-c14ba3fc243a\">"
   ]
  },
  {
   "cell_type": "markdown",
   "metadata": {},
   "source": [
    "## Why the incorrect answer is wrong:\n",
    "I chose E, thinking that all three conditions (I, II, and III) would cause the loop to print 1 3 5. However, using x < 7 (Condition III) would actually allow the loop to continue past 5, resulting in 1 3 5 7, which doesn’t match the expected output.\n",
    "\n",
    "## What to look out for:\n",
    "When dealing with loop conditions, make sure the condition is restrictive enough to stop at the correct point. Double-check how the loop condition interacts with the increment step to ensure it ends exactly where it should.\n",
    "\n",
    "## Why the correct answer is right:\n",
    "The correct answer is D, using x < 6 or x != 6. Both of these conditions allow the loop to run only until x reaches 5, matching the expected output of 1 3 5 without going further.\n",
    "\n",
    "## AP CSA Unit:\n",
    "Unit 4: Iteration for more practice with while loops and setting accurate loop conditions."
   ]
  },
  {
   "cell_type": "markdown",
   "metadata": {},
   "source": [
    "# 38\n",
    "<img width=\"951\" alt=\"Screenshot 2024-11-18 at 10 05 08 PM\" src=\"https://github.com/user-attachments/assets/8a49b44e-96e1-4368-9ec4-0325f55a0259\">"
   ]
  },
  {
   "cell_type": "markdown",
   "metadata": {},
   "source": [
    "\n",
    "## Why the incorrect answer is wrong:\n",
    "I chose B, which doesn’t use grouping correctly to replicate the original expression. Without the necessary parentheses, it changes the order in which parts of the expression are evaluated, leading to a different result than expected.\n",
    "\n",
    "## What to look out for:\n",
    "Pay close attention to grouping and how parentheses affect logical expressions. The original expression combines two main conditions with ||, so each part needs to be correctly grouped to match that.\n",
    "\n",
    "## Why the correct answer is right:\n",
    "The correct answer is A. It properly groups the conditions to ensure that (y > 10000 || x > 1000) and (y > 10000 || x < 1500) are evaluated as two separate conditions connected by &&, which matches the logic of the original expression.\n",
    "\n",
    "## AP CSA Unit:\n",
    "Unit 3: Boolean Expressions and if Statements to review complex boolean expressions and logical operators."
   ]
  },
  {
   "cell_type": "markdown",
   "metadata": {},
   "source": [
    "# 39\n",
    "<img width=\"998\" alt=\"Screenshot 2024-11-18 at 10 05 25 PM\" src=\"https://github.com/user-attachments/assets/72e2a878-e406-4492-b957-0366f311842b\">"
   ]
  },
  {
   "cell_type": "markdown",
   "metadata": {},
   "source": [
    "## Why the incorrect answer is wrong:\n",
    "I chose E, which would mean that the recursion produces an answer of 18, but that doesn’t happen based on the given conditions. The recursion should reduce n down until it’s 10 or less, then multiply that result by 2, not result in 18.\n",
    "\n",
    "## What to look out for:\n",
    "Check each recursive call step-by-step, especially with recursive methods that alter n in multiple stages. Make sure to follow the logic of how the function moves closer to its base case.\n",
    "\n",
    "## Why the correct answer is right:\n",
    "The correct answer is D. When recur(27) is called, it reduces through recur(9), at which point the condition n <= 10 applies, resulting in 9 * 2 = 18.\n",
    "\n",
    "## AP CSA Unit:\n",
    "Unit 10: Recursion to review the steps of recursive method calls and base cases."
   ]
  },
  {
   "cell_type": "markdown",
   "metadata": {},
   "source": [
    "# 40\n",
    "<img width=\"944\" alt=\"Screenshot 2024-11-18 at 10 05 58 PM\" src=\"https://github.com/user-attachments/assets/397a8ea8-8ec6-4cad-8add-b2aef6438082\">"
   ]
  },
  {
   "cell_type": "markdown",
   "metadata": {},
   "source": [
    "## Why the incorrect answer is wrong:\n",
    "I chose option A, which only shows \"WATCH\" in decreasing order down to \"W\" once. This ignores the fact that the recursive method both shortens the string and prints each shorter string as it returns from each call.\n",
    "\n",
    "## What to look out for:\n",
    "Remember that recursive functions with print statements after the recursive call will print each result in reverse order on the way back up the recursive chain. Each call prints the shortened version when it returns.\n",
    "\n",
    "## Why the correct answer is right:\n",
    "The correct answer is B. This answer includes each string from \"WATCH\" to \"W\" in decreasing order and repeats as each recursive call completes on the way back up, aligning with the placement of the System.out.println(temp); after the recursive call.\n",
    "\n",
    "## AP CSA Unit:\n",
    "Unit 10: Recursion to understand how recursive calls work with print statements placed after the recursion."
   ]
  }
 ],
 "metadata": {
  "language_info": {
   "name": "python"
  }
 },
 "nbformat": 4,
 "nbformat_minor": 2
}
