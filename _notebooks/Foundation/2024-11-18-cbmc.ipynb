{
 "cells": [
  {
   "cell_type": "markdown",
   "metadata": {},
   "source": [
    "---\n",
    "layout: post\n",
    "title: 2014 Collegeboard MC\n",
    "categories: [Collaboration]\n",
    "courses: {csa: {week: 13} }\n",
    "type: collab\n",
    "comments: true\n",
    "---"
   ]
  },
  {
   "cell_type": "markdown",
   "metadata": {},
   "source": [
    "# 10 \n",
    "<img width=\"937\" alt=\"Screenshot 2024-11-18 at 9 11 17 AM\" src=\"https://github.com/user-attachments/assets/921b2414-0aa9-4942-9122-a25df36e1ace\">\n",
    "<img width=\"944\" alt=\"Screenshot 2024-11-18 at 9 12 29 AM\" src=\"https://github.com/user-attachments/assets/237f2686-3a09-4003-8a95-45f6197fc61d\">"
   ]
  },
  {
   "cell_type": "markdown",
   "metadata": {},
   "source": [
    "# 13\n",
    "<img width=\"931\" alt=\"Screenshot 2024-11-18 at 9 15 46 AM\" src=\"https://github.com/user-attachments/assets/5b797d4b-4666-4fe4-8478-28d737f4b50b\">"
   ]
  },
  {
   "cell_type": "markdown",
   "metadata": {},
   "source": [
    "# 15 \n",
    "<img width=\"969\" alt=\"Screenshot 2024-11-18 at 10 02 36 PM\" src=\"https://github.com/user-attachments/assets/a023b0fd-a304-4dfc-aa16-37e95e365488\">\n",
    "<img width=\"945\" alt=\"Screenshot 2024-11-18 at 10 02 13 PM\" src=\"https://github.com/user-attachments/assets/83795b81-14f9-4b52-a889-d38b06795631\">"
   ]
  },
  {
   "cell_type": "markdown",
   "metadata": {},
   "source": [
    "# 17\n",
    "<img width=\"979\" alt=\"Screenshot 2024-11-18 at 10 03 09 PM\" src=\"https://github.com/user-attachments/assets/4b4330c9-2342-4e72-80d1-fa2cbb5071eb\">"
   ]
  },
  {
   "cell_type": "markdown",
   "metadata": {},
   "source": [
    "# 19\n",
    "<img width=\"937\" alt=\"Screenshot 2024-11-18 at 10 03 48 PM\" src=\"https://github.com/user-attachments/assets/044e0c63-1326-438e-a7fd-cd7f8dad91c7\">"
   ]
  },
  {
   "cell_type": "markdown",
   "metadata": {},
   "source": [
    "# 29\n",
    "<img width=\"962\" alt=\"Screenshot 2024-11-18 at 10 04 19 PM\" src=\"https://github.com/user-attachments/assets/0ef150a2-5230-4dd1-b636-60328ec40b55\">"
   ]
  },
  {
   "cell_type": "markdown",
   "metadata": {},
   "source": [
    "# 37\n",
    "<img width=\"942\" alt=\"Screenshot 2024-11-18 at 10 04 45 PM\" src=\"https://github.com/user-attachments/assets/5f46323f-522c-4c98-a66f-c14ba3fc243a\">"
   ]
  },
  {
   "cell_type": "markdown",
   "metadata": {},
   "source": [
    "# 38\n",
    "<img width=\"951\" alt=\"Screenshot 2024-11-18 at 10 05 08 PM\" src=\"https://github.com/user-attachments/assets/8a49b44e-96e1-4368-9ec4-0325f55a0259\">"
   ]
  },
  {
   "cell_type": "markdown",
   "metadata": {},
   "source": [
    "# 39\n",
    "<img width=\"998\" alt=\"Screenshot 2024-11-18 at 10 05 25 PM\" src=\"https://github.com/user-attachments/assets/72e2a878-e406-4492-b957-0366f311842b\">"
   ]
  },
  {
   "cell_type": "markdown",
   "metadata": {},
   "source": [
    "# 40\n",
    "<img width=\"944\" alt=\"Screenshot 2024-11-18 at 10 05 58 PM\" src=\"https://github.com/user-attachments/assets/397a8ea8-8ec6-4cad-8add-b2aef6438082\">"
   ]
  }
 ],
 "metadata": {
  "language_info": {
   "name": "python"
  }
 },
 "nbformat": 4,
 "nbformat_minor": 2
}
