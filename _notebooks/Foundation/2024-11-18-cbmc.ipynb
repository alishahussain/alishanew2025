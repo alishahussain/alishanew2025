{
 "cells": [
  {
   "cell_type": "markdown",
   "metadata": {},
   "source": [
    "---\n",
    "layout: post\n",
    "title: 2014 Collegeboard MC\n",
    "categories: [Collaboration]\n",
    "courses: {csa: {week: 13} }\n",
    "type: collab\n",
    "comments: true\n",
    "---"
   ]
  },
  {
   "cell_type": "markdown",
   "metadata": {},
   "source": [
    "# 10 \n",
    "<img width=\"937\" alt=\"Screenshot 2024-11-18 at 9 11 17 AM\" src=\"https://github.com/user-attachments/assets/921b2414-0aa9-4942-9122-a25df36e1ace\">\n",
    "<img width=\"944\" alt=\"Screenshot 2024-11-18 at 9 12 29 AM\" src=\"https://github.com/user-attachments/assets/237f2686-3a09-4003-8a95-45f6197fc61d\">"
   ]
  }
 ],
 "metadata": {
  "language_info": {
   "name": "python"
  }
 },
 "nbformat": 4,
 "nbformat_minor": 2
}
